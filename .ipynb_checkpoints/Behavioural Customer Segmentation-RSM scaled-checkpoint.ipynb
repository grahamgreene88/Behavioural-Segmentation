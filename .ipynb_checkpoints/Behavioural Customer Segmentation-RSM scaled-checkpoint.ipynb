{
 "cells": [
  {
   "cell_type": "markdown",
   "id": "f1d4bf74",
   "metadata": {},
   "source": [
    "## Project Objective / Business Relevance"
   ]
  },
  {
   "cell_type": "markdown",
   "id": "7d5742aa",
   "metadata": {},
   "source": [
    "The aim of this project is to group bank customers using their transaction behaviour. This will be done using RFM analysis which is a powerful method to quantify behaviour using the following criteria:\n",
    "- Recency: how recent a customer has made a purchase\n",
    "- Frequency: how frequently a customer makes purchases\n",
    "- Monetary: how much money a customer spends\n",
    "\n",
    "The results of this project are extremely useful from a marketing perspective to tailer targeted marketing strategies based on customer behaviour to guide promotional content.\n"
   ]
  },
  {
   "cell_type": "code",
   "execution_count": 45,
   "id": "02c74633",
   "metadata": {},
   "outputs": [],
   "source": [
    "import pandas as pd\n",
    "import numpy as np\n",
    "import matplotlib.pyplot as plt\n",
    "import seaborn as sns"
   ]
  },
  {
   "cell_type": "code",
   "execution_count": 46,
   "id": "0adbb79f",
   "metadata": {},
   "outputs": [],
   "source": [
    "# pd.set_option(\"display.max_rows\", None)\n",
    "# pd.set_option(\"display.max_columns\", None)\n",
    "# pd.reset_option(\"display.max_rows\")\n",
    "# pd.reset_option(\"display.max_columns\")"
   ]
  },
  {
   "cell_type": "markdown",
   "id": "7a6f23f9",
   "metadata": {},
   "source": [
    "## Importing and Cleaning Data"
   ]
  },
  {
   "cell_type": "markdown",
   "id": "82e4256a",
   "metadata": {},
   "source": [
    "The bank_transactions dataset was taken from kaggle at https://www.kaggle.com/datasets/shivamb/bank-customer-segmentation. The dataset contains over 1 million transactions from an Indian Bank."
   ]
  },
  {
   "cell_type": "code",
   "execution_count": 47,
   "id": "4d7cc9da",
   "metadata": {},
   "outputs": [
    {
     "data": {
      "text/html": [
       "<div>\n",
       "<style scoped>\n",
       "    .dataframe tbody tr th:only-of-type {\n",
       "        vertical-align: middle;\n",
       "    }\n",
       "\n",
       "    .dataframe tbody tr th {\n",
       "        vertical-align: top;\n",
       "    }\n",
       "\n",
       "    .dataframe thead th {\n",
       "        text-align: right;\n",
       "    }\n",
       "</style>\n",
       "<table border=\"1\" class=\"dataframe\">\n",
       "  <thead>\n",
       "    <tr style=\"text-align: right;\">\n",
       "      <th></th>\n",
       "      <th>TransactionID</th>\n",
       "      <th>CustomerID</th>\n",
       "      <th>CustomerDOB</th>\n",
       "      <th>CustGender</th>\n",
       "      <th>CustLocation</th>\n",
       "      <th>CustAccountBalance</th>\n",
       "      <th>TransactionDate</th>\n",
       "      <th>TransactionTime</th>\n",
       "      <th>TransactionAmount (INR)</th>\n",
       "    </tr>\n",
       "  </thead>\n",
       "  <tbody>\n",
       "    <tr>\n",
       "      <th>0</th>\n",
       "      <td>T1</td>\n",
       "      <td>C5841053</td>\n",
       "      <td>10/1/94</td>\n",
       "      <td>F</td>\n",
       "      <td>JAMSHEDPUR</td>\n",
       "      <td>17819.05</td>\n",
       "      <td>2/8/16</td>\n",
       "      <td>143207</td>\n",
       "      <td>25.0</td>\n",
       "    </tr>\n",
       "    <tr>\n",
       "      <th>1</th>\n",
       "      <td>T2</td>\n",
       "      <td>C2142763</td>\n",
       "      <td>4/4/57</td>\n",
       "      <td>M</td>\n",
       "      <td>JHAJJAR</td>\n",
       "      <td>2270.69</td>\n",
       "      <td>2/8/16</td>\n",
       "      <td>141858</td>\n",
       "      <td>27999.0</td>\n",
       "    </tr>\n",
       "    <tr>\n",
       "      <th>2</th>\n",
       "      <td>T3</td>\n",
       "      <td>C4417068</td>\n",
       "      <td>26/11/96</td>\n",
       "      <td>F</td>\n",
       "      <td>MUMBAI</td>\n",
       "      <td>17874.44</td>\n",
       "      <td>2/8/16</td>\n",
       "      <td>142712</td>\n",
       "      <td>459.0</td>\n",
       "    </tr>\n",
       "    <tr>\n",
       "      <th>3</th>\n",
       "      <td>T4</td>\n",
       "      <td>C5342380</td>\n",
       "      <td>14/9/73</td>\n",
       "      <td>F</td>\n",
       "      <td>MUMBAI</td>\n",
       "      <td>866503.21</td>\n",
       "      <td>2/8/16</td>\n",
       "      <td>142714</td>\n",
       "      <td>2060.0</td>\n",
       "    </tr>\n",
       "    <tr>\n",
       "      <th>4</th>\n",
       "      <td>T5</td>\n",
       "      <td>C9031234</td>\n",
       "      <td>24/3/88</td>\n",
       "      <td>F</td>\n",
       "      <td>NAVI MUMBAI</td>\n",
       "      <td>6714.43</td>\n",
       "      <td>2/8/16</td>\n",
       "      <td>181156</td>\n",
       "      <td>1762.5</td>\n",
       "    </tr>\n",
       "    <tr>\n",
       "      <th>...</th>\n",
       "      <td>...</td>\n",
       "      <td>...</td>\n",
       "      <td>...</td>\n",
       "      <td>...</td>\n",
       "      <td>...</td>\n",
       "      <td>...</td>\n",
       "      <td>...</td>\n",
       "      <td>...</td>\n",
       "      <td>...</td>\n",
       "    </tr>\n",
       "    <tr>\n",
       "      <th>1048562</th>\n",
       "      <td>T1048563</td>\n",
       "      <td>C8020229</td>\n",
       "      <td>8/4/90</td>\n",
       "      <td>M</td>\n",
       "      <td>NEW DELHI</td>\n",
       "      <td>7635.19</td>\n",
       "      <td>18/9/16</td>\n",
       "      <td>184824</td>\n",
       "      <td>799.0</td>\n",
       "    </tr>\n",
       "    <tr>\n",
       "      <th>1048563</th>\n",
       "      <td>T1048564</td>\n",
       "      <td>C6459278</td>\n",
       "      <td>20/2/92</td>\n",
       "      <td>M</td>\n",
       "      <td>NASHIK</td>\n",
       "      <td>27311.42</td>\n",
       "      <td>18/9/16</td>\n",
       "      <td>183734</td>\n",
       "      <td>460.0</td>\n",
       "    </tr>\n",
       "    <tr>\n",
       "      <th>1048564</th>\n",
       "      <td>T1048565</td>\n",
       "      <td>C6412354</td>\n",
       "      <td>18/5/89</td>\n",
       "      <td>M</td>\n",
       "      <td>HYDERABAD</td>\n",
       "      <td>221757.06</td>\n",
       "      <td>18/9/16</td>\n",
       "      <td>183313</td>\n",
       "      <td>770.0</td>\n",
       "    </tr>\n",
       "    <tr>\n",
       "      <th>1048565</th>\n",
       "      <td>T1048566</td>\n",
       "      <td>C6420483</td>\n",
       "      <td>30/8/78</td>\n",
       "      <td>M</td>\n",
       "      <td>VISAKHAPATNAM</td>\n",
       "      <td>10117.87</td>\n",
       "      <td>18/9/16</td>\n",
       "      <td>184706</td>\n",
       "      <td>1000.0</td>\n",
       "    </tr>\n",
       "    <tr>\n",
       "      <th>1048566</th>\n",
       "      <td>T1048567</td>\n",
       "      <td>C8337524</td>\n",
       "      <td>5/3/84</td>\n",
       "      <td>M</td>\n",
       "      <td>PUNE</td>\n",
       "      <td>75734.42</td>\n",
       "      <td>18/9/16</td>\n",
       "      <td>181222</td>\n",
       "      <td>1166.0</td>\n",
       "    </tr>\n",
       "  </tbody>\n",
       "</table>\n",
       "<p>1048567 rows × 9 columns</p>\n",
       "</div>"
      ],
      "text/plain": [
       "        TransactionID CustomerID CustomerDOB CustGender   CustLocation  \\\n",
       "0                  T1   C5841053     10/1/94          F     JAMSHEDPUR   \n",
       "1                  T2   C2142763      4/4/57          M        JHAJJAR   \n",
       "2                  T3   C4417068    26/11/96          F         MUMBAI   \n",
       "3                  T4   C5342380     14/9/73          F         MUMBAI   \n",
       "4                  T5   C9031234     24/3/88          F    NAVI MUMBAI   \n",
       "...               ...        ...         ...        ...            ...   \n",
       "1048562      T1048563   C8020229      8/4/90          M      NEW DELHI   \n",
       "1048563      T1048564   C6459278     20/2/92          M         NASHIK   \n",
       "1048564      T1048565   C6412354     18/5/89          M      HYDERABAD   \n",
       "1048565      T1048566   C6420483     30/8/78          M  VISAKHAPATNAM   \n",
       "1048566      T1048567   C8337524      5/3/84          M           PUNE   \n",
       "\n",
       "         CustAccountBalance TransactionDate  TransactionTime  \\\n",
       "0                  17819.05          2/8/16           143207   \n",
       "1                   2270.69          2/8/16           141858   \n",
       "2                  17874.44          2/8/16           142712   \n",
       "3                 866503.21          2/8/16           142714   \n",
       "4                   6714.43          2/8/16           181156   \n",
       "...                     ...             ...              ...   \n",
       "1048562             7635.19         18/9/16           184824   \n",
       "1048563            27311.42         18/9/16           183734   \n",
       "1048564           221757.06         18/9/16           183313   \n",
       "1048565            10117.87         18/9/16           184706   \n",
       "1048566            75734.42         18/9/16           181222   \n",
       "\n",
       "         TransactionAmount (INR)  \n",
       "0                           25.0  \n",
       "1                        27999.0  \n",
       "2                          459.0  \n",
       "3                         2060.0  \n",
       "4                         1762.5  \n",
       "...                          ...  \n",
       "1048562                    799.0  \n",
       "1048563                    460.0  \n",
       "1048564                    770.0  \n",
       "1048565                   1000.0  \n",
       "1048566                   1166.0  \n",
       "\n",
       "[1048567 rows x 9 columns]"
      ]
     },
     "execution_count": 47,
     "metadata": {},
     "output_type": "execute_result"
    }
   ],
   "source": [
    "# Importing bank transactions data\n",
    "bank_df = pd.read_csv('bank_transactions.csv')\n",
    "bank_df"
   ]
  },
  {
   "cell_type": "markdown",
   "id": "49ef32f2",
   "metadata": {},
   "source": [
    "First the columns that would be used for demographic segmentation but are not of interest to us are removed. In addition, the account balance and the transaction time will not be used. Only the transaction date will be used for recency as the number of days since the last transaction is sufficient information for recency criteria."
   ]
  },
  {
   "cell_type": "code",
   "execution_count": 48,
   "id": "4adc867a",
   "metadata": {},
   "outputs": [
    {
     "data": {
      "text/html": [
       "<div>\n",
       "<style scoped>\n",
       "    .dataframe tbody tr th:only-of-type {\n",
       "        vertical-align: middle;\n",
       "    }\n",
       "\n",
       "    .dataframe tbody tr th {\n",
       "        vertical-align: top;\n",
       "    }\n",
       "\n",
       "    .dataframe thead th {\n",
       "        text-align: right;\n",
       "    }\n",
       "</style>\n",
       "<table border=\"1\" class=\"dataframe\">\n",
       "  <thead>\n",
       "    <tr style=\"text-align: right;\">\n",
       "      <th></th>\n",
       "      <th>TransactionID</th>\n",
       "      <th>CustomerID</th>\n",
       "      <th>TransactionDate</th>\n",
       "      <th>TransactionAmount (INR)</th>\n",
       "    </tr>\n",
       "  </thead>\n",
       "  <tbody>\n",
       "    <tr>\n",
       "      <th>0</th>\n",
       "      <td>T1</td>\n",
       "      <td>C5841053</td>\n",
       "      <td>2/8/16</td>\n",
       "      <td>25.0</td>\n",
       "    </tr>\n",
       "    <tr>\n",
       "      <th>1</th>\n",
       "      <td>T2</td>\n",
       "      <td>C2142763</td>\n",
       "      <td>2/8/16</td>\n",
       "      <td>27999.0</td>\n",
       "    </tr>\n",
       "    <tr>\n",
       "      <th>2</th>\n",
       "      <td>T3</td>\n",
       "      <td>C4417068</td>\n",
       "      <td>2/8/16</td>\n",
       "      <td>459.0</td>\n",
       "    </tr>\n",
       "    <tr>\n",
       "      <th>3</th>\n",
       "      <td>T4</td>\n",
       "      <td>C5342380</td>\n",
       "      <td>2/8/16</td>\n",
       "      <td>2060.0</td>\n",
       "    </tr>\n",
       "    <tr>\n",
       "      <th>4</th>\n",
       "      <td>T5</td>\n",
       "      <td>C9031234</td>\n",
       "      <td>2/8/16</td>\n",
       "      <td>1762.5</td>\n",
       "    </tr>\n",
       "    <tr>\n",
       "      <th>...</th>\n",
       "      <td>...</td>\n",
       "      <td>...</td>\n",
       "      <td>...</td>\n",
       "      <td>...</td>\n",
       "    </tr>\n",
       "    <tr>\n",
       "      <th>1048562</th>\n",
       "      <td>T1048563</td>\n",
       "      <td>C8020229</td>\n",
       "      <td>18/9/16</td>\n",
       "      <td>799.0</td>\n",
       "    </tr>\n",
       "    <tr>\n",
       "      <th>1048563</th>\n",
       "      <td>T1048564</td>\n",
       "      <td>C6459278</td>\n",
       "      <td>18/9/16</td>\n",
       "      <td>460.0</td>\n",
       "    </tr>\n",
       "    <tr>\n",
       "      <th>1048564</th>\n",
       "      <td>T1048565</td>\n",
       "      <td>C6412354</td>\n",
       "      <td>18/9/16</td>\n",
       "      <td>770.0</td>\n",
       "    </tr>\n",
       "    <tr>\n",
       "      <th>1048565</th>\n",
       "      <td>T1048566</td>\n",
       "      <td>C6420483</td>\n",
       "      <td>18/9/16</td>\n",
       "      <td>1000.0</td>\n",
       "    </tr>\n",
       "    <tr>\n",
       "      <th>1048566</th>\n",
       "      <td>T1048567</td>\n",
       "      <td>C8337524</td>\n",
       "      <td>18/9/16</td>\n",
       "      <td>1166.0</td>\n",
       "    </tr>\n",
       "  </tbody>\n",
       "</table>\n",
       "<p>1048567 rows × 4 columns</p>\n",
       "</div>"
      ],
      "text/plain": [
       "        TransactionID CustomerID TransactionDate  TransactionAmount (INR)\n",
       "0                  T1   C5841053          2/8/16                     25.0\n",
       "1                  T2   C2142763          2/8/16                  27999.0\n",
       "2                  T3   C4417068          2/8/16                    459.0\n",
       "3                  T4   C5342380          2/8/16                   2060.0\n",
       "4                  T5   C9031234          2/8/16                   1762.5\n",
       "...               ...        ...             ...                      ...\n",
       "1048562      T1048563   C8020229         18/9/16                    799.0\n",
       "1048563      T1048564   C6459278         18/9/16                    460.0\n",
       "1048564      T1048565   C6412354         18/9/16                    770.0\n",
       "1048565      T1048566   C6420483         18/9/16                   1000.0\n",
       "1048566      T1048567   C8337524         18/9/16                   1166.0\n",
       "\n",
       "[1048567 rows x 4 columns]"
      ]
     },
     "execution_count": 48,
     "metadata": {},
     "output_type": "execute_result"
    }
   ],
   "source": [
    "# Dropping columns that won't be used\n",
    "bank_df = bank_df.drop(['CustomerDOB', 'CustGender', 'CustLocation', 'CustAccountBalance', 'TransactionTime'], axis=1)\n",
    "bank_df"
   ]
  },
  {
   "cell_type": "code",
   "execution_count": 49,
   "id": "7b378ca3",
   "metadata": {},
   "outputs": [
    {
     "data": {
      "text/plain": [
       "TransactionID              0\n",
       "CustomerID                 0\n",
       "TransactionDate            0\n",
       "TransactionAmount (INR)    0\n",
       "dtype: int64"
      ]
     },
     "execution_count": 49,
     "metadata": {},
     "output_type": "execute_result"
    }
   ],
   "source": [
    "# Checking for missing values\n",
    "bank_df.isna().sum()"
   ]
  },
  {
   "cell_type": "markdown",
   "id": "1b9f9382",
   "metadata": {},
   "source": [
    "There are no missing values in the remaining columns."
   ]
  },
  {
   "cell_type": "code",
   "execution_count": 50,
   "id": "59681444",
   "metadata": {},
   "outputs": [
    {
     "data": {
      "text/plain": [
       "TransactionID               object\n",
       "CustomerID                  object\n",
       "TransactionDate             object\n",
       "TransactionAmount (INR)    float64\n",
       "dtype: object"
      ]
     },
     "execution_count": 50,
     "metadata": {},
     "output_type": "execute_result"
    }
   ],
   "source": [
    "# Showing column data types\n",
    "bank_df.dtypes"
   ]
  },
  {
   "cell_type": "code",
   "execution_count": 51,
   "id": "82361fe1",
   "metadata": {},
   "outputs": [
    {
     "data": {
      "text/plain": [
       "array(['2/8/16', '1/8/16', '3/8/16', '5/8/16', '4/8/16', '6/8/16',\n",
       "       '9/8/16', '8/8/16', '12/8/16', '7/8/16', '21/10/16', '16/10/16',\n",
       "       '10/8/16', '14/8/16', '17/8/16', '21/8/16', '19/8/16', '24/8/16',\n",
       "       '22/8/16', '29/8/16', '31/8/16', '22/9/16', '23/9/16', '13/8/16',\n",
       "       '25/8/16', '28/8/16', '15/8/16', '27/8/16', '20/8/16', '23/8/16',\n",
       "       '30/8/16', '11/8/16', '16/8/16', '26/8/16', '27/9/16', '18/8/16',\n",
       "       '25/9/16', '26/9/16', '30/9/16', '3/9/16', '2/9/16', '1/9/16',\n",
       "       '6/9/16', '5/9/16', '4/9/16', '9/9/16', '8/9/16', '7/9/16',\n",
       "       '12/9/16', '11/9/16', '10/9/16', '15/9/16', '14/9/16', '13/9/16',\n",
       "       '18/9/16'], dtype=object)"
      ]
     },
     "execution_count": 51,
     "metadata": {},
     "output_type": "execute_result"
    }
   ],
   "source": [
    "# Displaying number of unique dates in dataset\n",
    "bank_df['TransactionDate'].unique()"
   ]
  },
  {
   "cell_type": "markdown",
   "id": "de099a9e",
   "metadata": {},
   "source": [
    "From the date entries it is clear that the dates are spread out over 3 months in 2016 (Aug, Sep, Oct) so the format is day/month/year."
   ]
  },
  {
   "cell_type": "code",
   "execution_count": 52,
   "id": "a41215d4",
   "metadata": {},
   "outputs": [
    {
     "data": {
      "text/plain": [
       "0         2016-08-02\n",
       "1         2016-08-02\n",
       "2         2016-08-02\n",
       "3         2016-08-02\n",
       "4         2016-08-02\n",
       "             ...    \n",
       "1048562   2016-09-18\n",
       "1048563   2016-09-18\n",
       "1048564   2016-09-18\n",
       "1048565   2016-09-18\n",
       "1048566   2016-09-18\n",
       "Name: TransactionDate, Length: 1048567, dtype: datetime64[ns]"
      ]
     },
     "execution_count": 52,
     "metadata": {},
     "output_type": "execute_result"
    }
   ],
   "source": [
    "# Converting TransactionDate type to DateTime\n",
    "from datetime import date\n",
    "bank_df['TransactionDate'] = pd.to_datetime(bank_df['TransactionDate'], format=\"%d/%m/%y\")\n",
    "bank_df['TransactionDate']"
   ]
  },
  {
   "cell_type": "markdown",
   "id": "d015acf2",
   "metadata": {},
   "source": [
    "We would convert the transaction amount values from Indian Rupees (INR) to CAD or USD. However, general prices in india likely don't convert the same way currency does. So the amounts will be kept in INR for now."
   ]
  },
  {
   "cell_type": "code",
   "execution_count": 53,
   "id": "e6946d1f",
   "metadata": {},
   "outputs": [],
   "source": [
    "# Renaming transaction amount column\n",
    "bank_df.rename(columns={'TransactionAmount (INR)': 'Amount', 'TransactionDate': 'Date'}, inplace=True)"
   ]
  },
  {
   "cell_type": "code",
   "execution_count": 54,
   "id": "bfdd41eb",
   "metadata": {},
   "outputs": [
    {
     "data": {
      "text/html": [
       "<div>\n",
       "<style scoped>\n",
       "    .dataframe tbody tr th:only-of-type {\n",
       "        vertical-align: middle;\n",
       "    }\n",
       "\n",
       "    .dataframe tbody tr th {\n",
       "        vertical-align: top;\n",
       "    }\n",
       "\n",
       "    .dataframe thead th {\n",
       "        text-align: right;\n",
       "    }\n",
       "</style>\n",
       "<table border=\"1\" class=\"dataframe\">\n",
       "  <thead>\n",
       "    <tr style=\"text-align: right;\">\n",
       "      <th></th>\n",
       "      <th>Date</th>\n",
       "      <th>Amount</th>\n",
       "    </tr>\n",
       "  </thead>\n",
       "  <tbody>\n",
       "    <tr>\n",
       "      <th>count</th>\n",
       "      <td>1048567</td>\n",
       "      <td>1.048567e+06</td>\n",
       "    </tr>\n",
       "    <tr>\n",
       "      <th>mean</th>\n",
       "      <td>2016-08-25 04:33:33.797497600</td>\n",
       "      <td>1.574335e+03</td>\n",
       "    </tr>\n",
       "    <tr>\n",
       "      <th>min</th>\n",
       "      <td>2016-08-01 00:00:00</td>\n",
       "      <td>0.000000e+00</td>\n",
       "    </tr>\n",
       "    <tr>\n",
       "      <th>25%</th>\n",
       "      <td>2016-08-12 00:00:00</td>\n",
       "      <td>1.610000e+02</td>\n",
       "    </tr>\n",
       "    <tr>\n",
       "      <th>50%</th>\n",
       "      <td>2016-08-25 00:00:00</td>\n",
       "      <td>4.590300e+02</td>\n",
       "    </tr>\n",
       "    <tr>\n",
       "      <th>75%</th>\n",
       "      <td>2016-09-06 00:00:00</td>\n",
       "      <td>1.200000e+03</td>\n",
       "    </tr>\n",
       "    <tr>\n",
       "      <th>max</th>\n",
       "      <td>2016-10-21 00:00:00</td>\n",
       "      <td>1.560035e+06</td>\n",
       "    </tr>\n",
       "    <tr>\n",
       "      <th>std</th>\n",
       "      <td>NaN</td>\n",
       "      <td>6.574743e+03</td>\n",
       "    </tr>\n",
       "  </tbody>\n",
       "</table>\n",
       "</div>"
      ],
      "text/plain": [
       "                                Date        Amount\n",
       "count                        1048567  1.048567e+06\n",
       "mean   2016-08-25 04:33:33.797497600  1.574335e+03\n",
       "min              2016-08-01 00:00:00  0.000000e+00\n",
       "25%              2016-08-12 00:00:00  1.610000e+02\n",
       "50%              2016-08-25 00:00:00  4.590300e+02\n",
       "75%              2016-09-06 00:00:00  1.200000e+03\n",
       "max              2016-10-21 00:00:00  1.560035e+06\n",
       "std                              NaN  6.574743e+03"
      ]
     },
     "execution_count": 54,
     "metadata": {},
     "output_type": "execute_result"
    }
   ],
   "source": [
    "# Looking at transaction amount distribution stats\n",
    "bank_df.describe()"
   ]
  },
  {
   "cell_type": "code",
   "execution_count": 55,
   "id": "edd91baa",
   "metadata": {},
   "outputs": [
    {
     "name": "stdout",
     "output_type": "stream",
     "text": [
      "There are 112134 outliers.\n"
     ]
    }
   ],
   "source": [
    "# Determining outliers\n",
    "Q1 = bank_df['Amount'].quantile(0.25)\n",
    "Q3 = bank_df['Amount'].quantile(0.75)\n",
    "IQR = Q3 - Q1\n",
    "outliers_filter = (bank_df['Amount'] < (Q1 - 1.5 * IQR)) | (bank_df['Amount'] > (Q3 + 1.5 * IQR))\n",
    "outliers = bank_df[outliers_filter]\n",
    "outliers['Amount'].unique()\n",
    "print(f\"There are {len(outliers)} outliers.\")"
   ]
  },
  {
   "cell_type": "markdown",
   "id": "23a2238d",
   "metadata": {},
   "source": [
    "Because transaction amounts can very significantly there is a large variation in the values in this column. The IQR outlier method determines there are 112134 outliers in this dataset (which is roughly a tenth of the dataset). These are likely actual transactions from clients spending large sums of money instead of erros in data collection. These outliers will therefore be kept. "
   ]
  },
  {
   "cell_type": "markdown",
   "id": "81db7186",
   "metadata": {},
   "source": [
    "From the describe dataframe, we see that the minimum transaction amount is 0. This doesn't make sense in the context of our problem so observations with TransactionAmount of 0 will be removed."
   ]
  },
  {
   "cell_type": "code",
   "execution_count": 56,
   "id": "d1225425",
   "metadata": {},
   "outputs": [
    {
     "data": {
      "text/plain": [
       "(1047732, 4)"
      ]
     },
     "execution_count": 56,
     "metadata": {},
     "output_type": "execute_result"
    }
   ],
   "source": [
    "# Determining rows to drop with 0 transaction amount\n",
    "zero_amount_rows = bank_df[bank_df['Amount'] == 0]\n",
    "rows_to_drop = zero_amount_rows.index\n",
    "# Dropping specified rows\n",
    "bank_df.drop(labels=rows_to_drop, axis=0, inplace=True)\n",
    "bank_df.shape"
   ]
  },
  {
   "cell_type": "code",
   "execution_count": 57,
   "id": "a806b709",
   "metadata": {},
   "outputs": [
    {
     "name": "stdout",
     "output_type": "stream",
     "text": [
      "There are no duplicate transaction ID's\n"
     ]
    }
   ],
   "source": [
    "# Ensuring all transactionID values are unique\n",
    "if bank_df['TransactionID'].nunique() == len(bank_df):\n",
    "    print(\"There are no duplicate transaction ID's\")"
   ]
  },
  {
   "cell_type": "code",
   "execution_count": 58,
   "id": "887324e0",
   "metadata": {},
   "outputs": [
    {
     "data": {
      "text/plain": [
       "False"
      ]
     },
     "execution_count": 58,
     "metadata": {},
     "output_type": "execute_result"
    }
   ],
   "source": [
    "duplicates = bank_df.duplicated(subset='TransactionID')\n",
    "duplicates.any()"
   ]
  },
  {
   "cell_type": "markdown",
   "id": "5634d46c",
   "metadata": {},
   "source": [
    "## Data Exploration"
   ]
  },
  {
   "cell_type": "markdown",
   "id": "d6fb95a3",
   "metadata": {},
   "source": [
    "Seaborn is unable to plot a histogram using the 1 million observations due to computational limitations. A simple random sample of 1/10th of the dataset will be used for visualizations."
   ]
  },
  {
   "cell_type": "code",
   "execution_count": 59,
   "id": "b6c093bd",
   "metadata": {},
   "outputs": [
    {
     "data": {
      "text/html": [
       "<div>\n",
       "<style scoped>\n",
       "    .dataframe tbody tr th:only-of-type {\n",
       "        vertical-align: middle;\n",
       "    }\n",
       "\n",
       "    .dataframe tbody tr th {\n",
       "        vertical-align: top;\n",
       "    }\n",
       "\n",
       "    .dataframe thead th {\n",
       "        text-align: right;\n",
       "    }\n",
       "</style>\n",
       "<table border=\"1\" class=\"dataframe\">\n",
       "  <thead>\n",
       "    <tr style=\"text-align: right;\">\n",
       "      <th></th>\n",
       "      <th>TransactionID</th>\n",
       "      <th>CustomerID</th>\n",
       "      <th>Date</th>\n",
       "      <th>Amount</th>\n",
       "    </tr>\n",
       "  </thead>\n",
       "  <tbody>\n",
       "    <tr>\n",
       "      <th>770653</th>\n",
       "      <td>T770654</td>\n",
       "      <td>C7742134</td>\n",
       "      <td>2016-09-06</td>\n",
       "      <td>150.0</td>\n",
       "    </tr>\n",
       "    <tr>\n",
       "      <th>1021810</th>\n",
       "      <td>T1021811</td>\n",
       "      <td>C1017658</td>\n",
       "      <td>2016-09-13</td>\n",
       "      <td>100.0</td>\n",
       "    </tr>\n",
       "    <tr>\n",
       "      <th>872142</th>\n",
       "      <td>T872143</td>\n",
       "      <td>C2213570</td>\n",
       "      <td>2016-09-08</td>\n",
       "      <td>235.0</td>\n",
       "    </tr>\n",
       "    <tr>\n",
       "      <th>219350</th>\n",
       "      <td>T219351</td>\n",
       "      <td>C1928717</td>\n",
       "      <td>2016-08-07</td>\n",
       "      <td>100.0</td>\n",
       "    </tr>\n",
       "    <tr>\n",
       "      <th>264397</th>\n",
       "      <td>T264398</td>\n",
       "      <td>C5514982</td>\n",
       "      <td>2016-08-12</td>\n",
       "      <td>2573.0</td>\n",
       "    </tr>\n",
       "    <tr>\n",
       "      <th>...</th>\n",
       "      <td>...</td>\n",
       "      <td>...</td>\n",
       "      <td>...</td>\n",
       "      <td>...</td>\n",
       "    </tr>\n",
       "    <tr>\n",
       "      <th>629913</th>\n",
       "      <td>T629914</td>\n",
       "      <td>C4725540</td>\n",
       "      <td>2016-08-29</td>\n",
       "      <td>7900.0</td>\n",
       "    </tr>\n",
       "    <tr>\n",
       "      <th>147349</th>\n",
       "      <td>T147350</td>\n",
       "      <td>C2714477</td>\n",
       "      <td>2016-08-05</td>\n",
       "      <td>1577.5</td>\n",
       "    </tr>\n",
       "    <tr>\n",
       "      <th>403478</th>\n",
       "      <td>T403479</td>\n",
       "      <td>C1926523</td>\n",
       "      <td>2016-08-18</td>\n",
       "      <td>5649.5</td>\n",
       "    </tr>\n",
       "    <tr>\n",
       "      <th>492401</th>\n",
       "      <td>T492402</td>\n",
       "      <td>C8437568</td>\n",
       "      <td>2016-08-20</td>\n",
       "      <td>319.0</td>\n",
       "    </tr>\n",
       "    <tr>\n",
       "      <th>908108</th>\n",
       "      <td>T908109</td>\n",
       "      <td>C2817579</td>\n",
       "      <td>2016-09-12</td>\n",
       "      <td>1040.0</td>\n",
       "    </tr>\n",
       "  </tbody>\n",
       "</table>\n",
       "<p>104773 rows × 4 columns</p>\n",
       "</div>"
      ],
      "text/plain": [
       "        TransactionID CustomerID       Date  Amount\n",
       "770653        T770654   C7742134 2016-09-06   150.0\n",
       "1021810      T1021811   C1017658 2016-09-13   100.0\n",
       "872142        T872143   C2213570 2016-09-08   235.0\n",
       "219350        T219351   C1928717 2016-08-07   100.0\n",
       "264397        T264398   C5514982 2016-08-12  2573.0\n",
       "...               ...        ...        ...     ...\n",
       "629913        T629914   C4725540 2016-08-29  7900.0\n",
       "147349        T147350   C2714477 2016-08-05  1577.5\n",
       "403478        T403479   C1926523 2016-08-18  5649.5\n",
       "492401        T492402   C8437568 2016-08-20   319.0\n",
       "908108        T908109   C2817579 2016-09-12  1040.0\n",
       "\n",
       "[104773 rows x 4 columns]"
      ]
     },
     "execution_count": 59,
     "metadata": {},
     "output_type": "execute_result"
    }
   ],
   "source": [
    "# Simple random sample of banf_df\n",
    "bank_df_sample = bank_df.sample(frac=0.1, replace=False, random_state=99)\n",
    "bank_df_sample"
   ]
  },
  {
   "cell_type": "code",
   "execution_count": 60,
   "id": "81bc54f0",
   "metadata": {},
   "outputs": [
    {
     "data": {
      "text/html": [
       "<div>\n",
       "<style scoped>\n",
       "    .dataframe tbody tr th:only-of-type {\n",
       "        vertical-align: middle;\n",
       "    }\n",
       "\n",
       "    .dataframe tbody tr th {\n",
       "        vertical-align: top;\n",
       "    }\n",
       "\n",
       "    .dataframe thead th {\n",
       "        text-align: right;\n",
       "    }\n",
       "</style>\n",
       "<table border=\"1\" class=\"dataframe\">\n",
       "  <thead>\n",
       "    <tr style=\"text-align: right;\">\n",
       "      <th></th>\n",
       "      <th>Date</th>\n",
       "      <th>Amount</th>\n",
       "    </tr>\n",
       "  </thead>\n",
       "  <tbody>\n",
       "    <tr>\n",
       "      <th>count</th>\n",
       "      <td>104773</td>\n",
       "      <td>104773.000000</td>\n",
       "    </tr>\n",
       "    <tr>\n",
       "      <th>mean</th>\n",
       "      <td>2016-08-25 03:12:48.873660160</td>\n",
       "      <td>1589.929454</td>\n",
       "    </tr>\n",
       "    <tr>\n",
       "      <th>min</th>\n",
       "      <td>2016-08-01 00:00:00</td>\n",
       "      <td>0.010000</td>\n",
       "    </tr>\n",
       "    <tr>\n",
       "      <th>25%</th>\n",
       "      <td>2016-08-12 00:00:00</td>\n",
       "      <td>160.000000</td>\n",
       "    </tr>\n",
       "    <tr>\n",
       "      <th>50%</th>\n",
       "      <td>2016-08-24 00:00:00</td>\n",
       "      <td>468.000000</td>\n",
       "    </tr>\n",
       "    <tr>\n",
       "      <th>75%</th>\n",
       "      <td>2016-09-06 00:00:00</td>\n",
       "      <td>1200.000000</td>\n",
       "    </tr>\n",
       "    <tr>\n",
       "      <th>max</th>\n",
       "      <td>2016-10-21 00:00:00</td>\n",
       "      <td>720001.160000</td>\n",
       "    </tr>\n",
       "    <tr>\n",
       "      <th>std</th>\n",
       "      <td>NaN</td>\n",
       "      <td>6647.166589</td>\n",
       "    </tr>\n",
       "  </tbody>\n",
       "</table>\n",
       "</div>"
      ],
      "text/plain": [
       "                                Date         Amount\n",
       "count                         104773  104773.000000\n",
       "mean   2016-08-25 03:12:48.873660160    1589.929454\n",
       "min              2016-08-01 00:00:00       0.010000\n",
       "25%              2016-08-12 00:00:00     160.000000\n",
       "50%              2016-08-24 00:00:00     468.000000\n",
       "75%              2016-09-06 00:00:00    1200.000000\n",
       "max              2016-10-21 00:00:00  720001.160000\n",
       "std                              NaN    6647.166589"
      ]
     },
     "execution_count": 60,
     "metadata": {},
     "output_type": "execute_result"
    }
   ],
   "source": [
    "# Ensuring min transaction is above 0 now\n",
    "bank_df_sample.describe()"
   ]
  },
  {
   "cell_type": "markdown",
   "id": "16ba5829",
   "metadata": {},
   "source": [
    "From the distribution stats above, it is clear that the random sample has similar characteristics to the whole dataset so is likely a good representation."
   ]
  },
  {
   "cell_type": "code",
   "execution_count": 61,
   "id": "612d0e80",
   "metadata": {},
   "outputs": [
    {
     "name": "stderr",
     "output_type": "stream",
     "text": [
      "/Users/graham/anaconda3/envs/DataScience/lib/python3.11/site-packages/seaborn/axisgrid.py:118: UserWarning: The figure layout has changed to tight\n",
      "  self._figure.tight_layout(*args, **kwargs)\n"
     ]
    },
    {
     "data": {
      "image/png": "[encoded data removed]",
      "text/plain": [
       "<Figure size 500x500 with 1 Axes>"
      ]
     },
     "metadata": {},
     "output_type": "display_data"
    }
   ],
   "source": [
    "# Plotting distribution of transaction amount variable as a histogram\n",
    "sns.displot(data=bank_df_sample, x='Amount', log_scale=(True, False))\n",
    "palette = sns.color_palette('Set2')\n",
    "sns.set_palette(palette)\n",
    "plt.xlim(0.1, 750000)\n",
    "plt.xlabel('Transaction Amount')\n",
    "plt.show()"
   ]
  },
  {
   "cell_type": "code",
   "execution_count": 62,
   "id": "f7cbece6",
   "metadata": {},
   "outputs": [
    {
     "data": {
      "text/html": [
       "<div>\n",
       "<style scoped>\n",
       "    .dataframe tbody tr th:only-of-type {\n",
       "        vertical-align: middle;\n",
       "    }\n",
       "\n",
       "    .dataframe tbody tr th {\n",
       "        vertical-align: top;\n",
       "    }\n",
       "\n",
       "    .dataframe thead th {\n",
       "        text-align: right;\n",
       "    }\n",
       "</style>\n",
       "<table border=\"1\" class=\"dataframe\">\n",
       "  <thead>\n",
       "    <tr style=\"text-align: right;\">\n",
       "      <th></th>\n",
       "      <th>Date</th>\n",
       "      <th>Amount</th>\n",
       "      <th>log_transaction</th>\n",
       "    </tr>\n",
       "  </thead>\n",
       "  <tbody>\n",
       "    <tr>\n",
       "      <th>count</th>\n",
       "      <td>104773</td>\n",
       "      <td>104773.000000</td>\n",
       "      <td>104773.000000</td>\n",
       "    </tr>\n",
       "    <tr>\n",
       "      <th>mean</th>\n",
       "      <td>2016-08-25 03:12:48.873660160</td>\n",
       "      <td>1589.929454</td>\n",
       "      <td>6.050345</td>\n",
       "    </tr>\n",
       "    <tr>\n",
       "      <th>min</th>\n",
       "      <td>2016-08-01 00:00:00</td>\n",
       "      <td>0.010000</td>\n",
       "      <td>-4.605170</td>\n",
       "    </tr>\n",
       "    <tr>\n",
       "      <th>25%</th>\n",
       "      <td>2016-08-12 00:00:00</td>\n",
       "      <td>160.000000</td>\n",
       "      <td>5.075174</td>\n",
       "    </tr>\n",
       "    <tr>\n",
       "      <th>50%</th>\n",
       "      <td>2016-08-24 00:00:00</td>\n",
       "      <td>468.000000</td>\n",
       "      <td>6.148468</td>\n",
       "    </tr>\n",
       "    <tr>\n",
       "      <th>75%</th>\n",
       "      <td>2016-09-06 00:00:00</td>\n",
       "      <td>1200.000000</td>\n",
       "      <td>7.090077</td>\n",
       "    </tr>\n",
       "    <tr>\n",
       "      <th>max</th>\n",
       "      <td>2016-10-21 00:00:00</td>\n",
       "      <td>720001.160000</td>\n",
       "      <td>13.487008</td>\n",
       "    </tr>\n",
       "    <tr>\n",
       "      <th>std</th>\n",
       "      <td>NaN</td>\n",
       "      <td>6647.166589</td>\n",
       "      <td>1.623146</td>\n",
       "    </tr>\n",
       "  </tbody>\n",
       "</table>\n",
       "</div>"
      ],
      "text/plain": [
       "                                Date         Amount  log_transaction\n",
       "count                         104773  104773.000000    104773.000000\n",
       "mean   2016-08-25 03:12:48.873660160    1589.929454         6.050345\n",
       "min              2016-08-01 00:00:00       0.010000        -4.605170\n",
       "25%              2016-08-12 00:00:00     160.000000         5.075174\n",
       "50%              2016-08-24 00:00:00     468.000000         6.148468\n",
       "75%              2016-09-06 00:00:00    1200.000000         7.090077\n",
       "max              2016-10-21 00:00:00  720001.160000        13.487008\n",
       "std                              NaN    6647.166589         1.623146"
      ]
     },
     "execution_count": 62,
     "metadata": {},
     "output_type": "execute_result"
    }
   ],
   "source": [
    "bank_df_sample['log_transaction'] = np.log(bank_df_sample['Amount'])\n",
    "bank_df_sample.describe()"
   ]
  },
  {
   "cell_type": "code",
   "execution_count": 63,
   "id": "a6c540b4",
   "metadata": {},
   "outputs": [
    {
     "name": "stderr",
     "output_type": "stream",
     "text": [
      "/Users/graham/anaconda3/envs/DataScience/lib/python3.11/site-packages/seaborn/axisgrid.py:118: UserWarning: The figure layout has changed to tight\n",
      "  self._figure.tight_layout(*args, **kwargs)\n"
     ]
    },
    {
     "data": {
      "image/png": "[encoded data removed]",
      "text/plain": [
       "<Figure size 500x500 with 1 Axes>"
      ]
     },
     "metadata": {},
     "output_type": "display_data"
    }
   ],
   "source": [
    "sns.displot(data=bank_df_sample, x='log_transaction')\n",
    "plt.show()"
   ]
  },
  {
   "cell_type": "markdown",
   "id": "e5c430c4",
   "metadata": {},
   "source": [
    "It is clearn from the histogram above that the transaction amount variable follows a log normal distribution since the variable appears normally distributed with a log scale x-axis."
   ]
  },
  {
   "cell_type": "code",
   "execution_count": 64,
   "id": "f3cd4be5",
   "metadata": {},
   "outputs": [],
   "source": [
    "# Getting month and day of week information\n",
    "bank_df_sample['Month'] = pd.DatetimeIndex(bank_df_sample['Date']).month\n",
    "bank_df_sample['Day of Week'] = pd.DatetimeIndex(bank_df_sample['Date']).dayofweek"
   ]
  },
  {
   "cell_type": "code",
   "execution_count": 65,
   "id": "f1d320d5",
   "metadata": {},
   "outputs": [
    {
     "data": {
      "text/html": [
       "<div>\n",
       "<style scoped>\n",
       "    .dataframe tbody tr th:only-of-type {\n",
       "        vertical-align: middle;\n",
       "    }\n",
       "\n",
       "    .dataframe tbody tr th {\n",
       "        vertical-align: top;\n",
       "    }\n",
       "\n",
       "    .dataframe thead th {\n",
       "        text-align: right;\n",
       "    }\n",
       "</style>\n",
       "<table border=\"1\" class=\"dataframe\">\n",
       "  <thead>\n",
       "    <tr style=\"text-align: right;\">\n",
       "      <th></th>\n",
       "      <th>TransactionID</th>\n",
       "      <th>CustomerID</th>\n",
       "      <th>Date</th>\n",
       "      <th>Amount</th>\n",
       "      <th>log_transaction</th>\n",
       "      <th>Month</th>\n",
       "      <th>Day of Week</th>\n",
       "    </tr>\n",
       "  </thead>\n",
       "  <tbody>\n",
       "    <tr>\n",
       "      <th>770653</th>\n",
       "      <td>T770654</td>\n",
       "      <td>C7742134</td>\n",
       "      <td>2016-09-06</td>\n",
       "      <td>150.0</td>\n",
       "      <td>5.010635</td>\n",
       "      <td>9</td>\n",
       "      <td>1</td>\n",
       "    </tr>\n",
       "    <tr>\n",
       "      <th>1021810</th>\n",
       "      <td>T1021811</td>\n",
       "      <td>C1017658</td>\n",
       "      <td>2016-09-13</td>\n",
       "      <td>100.0</td>\n",
       "      <td>4.605170</td>\n",
       "      <td>9</td>\n",
       "      <td>1</td>\n",
       "    </tr>\n",
       "    <tr>\n",
       "      <th>872142</th>\n",
       "      <td>T872143</td>\n",
       "      <td>C2213570</td>\n",
       "      <td>2016-09-08</td>\n",
       "      <td>235.0</td>\n",
       "      <td>5.459586</td>\n",
       "      <td>9</td>\n",
       "      <td>3</td>\n",
       "    </tr>\n",
       "    <tr>\n",
       "      <th>219350</th>\n",
       "      <td>T219351</td>\n",
       "      <td>C1928717</td>\n",
       "      <td>2016-08-07</td>\n",
       "      <td>100.0</td>\n",
       "      <td>4.605170</td>\n",
       "      <td>8</td>\n",
       "      <td>6</td>\n",
       "    </tr>\n",
       "    <tr>\n",
       "      <th>264397</th>\n",
       "      <td>T264398</td>\n",
       "      <td>C5514982</td>\n",
       "      <td>2016-08-12</td>\n",
       "      <td>2573.0</td>\n",
       "      <td>7.852828</td>\n",
       "      <td>8</td>\n",
       "      <td>4</td>\n",
       "    </tr>\n",
       "    <tr>\n",
       "      <th>...</th>\n",
       "      <td>...</td>\n",
       "      <td>...</td>\n",
       "      <td>...</td>\n",
       "      <td>...</td>\n",
       "      <td>...</td>\n",
       "      <td>...</td>\n",
       "      <td>...</td>\n",
       "    </tr>\n",
       "    <tr>\n",
       "      <th>629913</th>\n",
       "      <td>T629914</td>\n",
       "      <td>C4725540</td>\n",
       "      <td>2016-08-29</td>\n",
       "      <td>7900.0</td>\n",
       "      <td>8.974618</td>\n",
       "      <td>8</td>\n",
       "      <td>0</td>\n",
       "    </tr>\n",
       "    <tr>\n",
       "      <th>147349</th>\n",
       "      <td>T147350</td>\n",
       "      <td>C2714477</td>\n",
       "      <td>2016-08-05</td>\n",
       "      <td>1577.5</td>\n",
       "      <td>7.363597</td>\n",
       "      <td>8</td>\n",
       "      <td>4</td>\n",
       "    </tr>\n",
       "    <tr>\n",
       "      <th>403478</th>\n",
       "      <td>T403479</td>\n",
       "      <td>C1926523</td>\n",
       "      <td>2016-08-18</td>\n",
       "      <td>5649.5</td>\n",
       "      <td>8.639322</td>\n",
       "      <td>8</td>\n",
       "      <td>3</td>\n",
       "    </tr>\n",
       "    <tr>\n",
       "      <th>492401</th>\n",
       "      <td>T492402</td>\n",
       "      <td>C8437568</td>\n",
       "      <td>2016-08-20</td>\n",
       "      <td>319.0</td>\n",
       "      <td>5.765191</td>\n",
       "      <td>8</td>\n",
       "      <td>5</td>\n",
       "    </tr>\n",
       "    <tr>\n",
       "      <th>908108</th>\n",
       "      <td>T908109</td>\n",
       "      <td>C2817579</td>\n",
       "      <td>2016-09-12</td>\n",
       "      <td>1040.0</td>\n",
       "      <td>6.946976</td>\n",
       "      <td>9</td>\n",
       "      <td>0</td>\n",
       "    </tr>\n",
       "  </tbody>\n",
       "</table>\n",
       "<p>104773 rows × 7 columns</p>\n",
       "</div>"
      ],
      "text/plain": [
       "        TransactionID CustomerID       Date  Amount  log_transaction  Month  \\\n",
       "770653        T770654   C7742134 2016-09-06   150.0         5.010635      9   \n",
       "1021810      T1021811   C1017658 2016-09-13   100.0         4.605170      9   \n",
       "872142        T872143   C2213570 2016-09-08   235.0         5.459586      9   \n",
       "219350        T219351   C1928717 2016-08-07   100.0         4.605170      8   \n",
       "264397        T264398   C5514982 2016-08-12  2573.0         7.852828      8   \n",
       "...               ...        ...        ...     ...              ...    ...   \n",
       "629913        T629914   C4725540 2016-08-29  7900.0         8.974618      8   \n",
       "147349        T147350   C2714477 2016-08-05  1577.5         7.363597      8   \n",
       "403478        T403479   C1926523 2016-08-18  5649.5         8.639322      8   \n",
       "492401        T492402   C8437568 2016-08-20   319.0         5.765191      8   \n",
       "908108        T908109   C2817579 2016-09-12  1040.0         6.946976      9   \n",
       "\n",
       "         Day of Week  \n",
       "770653             1  \n",
       "1021810            1  \n",
       "872142             3  \n",
       "219350             6  \n",
       "264397             4  \n",
       "...              ...  \n",
       "629913             0  \n",
       "147349             4  \n",
       "403478             3  \n",
       "492401             5  \n",
       "908108             0  \n",
       "\n",
       "[104773 rows x 7 columns]"
      ]
     },
     "execution_count": 65,
     "metadata": {},
     "output_type": "execute_result"
    }
   ],
   "source": [
    "bank_df_sample"
   ]
  },
  {
   "cell_type": "code",
   "execution_count": 66,
   "id": "b673406e",
   "metadata": {},
   "outputs": [
    {
     "data": {
      "text/html": [
       "<div>\n",
       "<style scoped>\n",
       "    .dataframe tbody tr th:only-of-type {\n",
       "        vertical-align: middle;\n",
       "    }\n",
       "\n",
       "    .dataframe tbody tr th {\n",
       "        vertical-align: top;\n",
       "    }\n",
       "\n",
       "    .dataframe thead th {\n",
       "        text-align: right;\n",
       "    }\n",
       "</style>\n",
       "<table border=\"1\" class=\"dataframe\">\n",
       "  <thead>\n",
       "    <tr style=\"text-align: right;\">\n",
       "      <th></th>\n",
       "      <th>TransactionID</th>\n",
       "      <th>CustomerID</th>\n",
       "      <th>Date</th>\n",
       "      <th>Amount</th>\n",
       "      <th>log_transaction</th>\n",
       "      <th>Month</th>\n",
       "      <th>Day of Week</th>\n",
       "    </tr>\n",
       "  </thead>\n",
       "  <tbody>\n",
       "    <tr>\n",
       "      <th>770653</th>\n",
       "      <td>T770654</td>\n",
       "      <td>C7742134</td>\n",
       "      <td>2016-09-06</td>\n",
       "      <td>150.0</td>\n",
       "      <td>5.010635</td>\n",
       "      <td>September</td>\n",
       "      <td>Tuesday</td>\n",
       "    </tr>\n",
       "    <tr>\n",
       "      <th>1021810</th>\n",
       "      <td>T1021811</td>\n",
       "      <td>C1017658</td>\n",
       "      <td>2016-09-13</td>\n",
       "      <td>100.0</td>\n",
       "      <td>4.605170</td>\n",
       "      <td>September</td>\n",
       "      <td>Tuesday</td>\n",
       "    </tr>\n",
       "    <tr>\n",
       "      <th>872142</th>\n",
       "      <td>T872143</td>\n",
       "      <td>C2213570</td>\n",
       "      <td>2016-09-08</td>\n",
       "      <td>235.0</td>\n",
       "      <td>5.459586</td>\n",
       "      <td>September</td>\n",
       "      <td>Thursday</td>\n",
       "    </tr>\n",
       "    <tr>\n",
       "      <th>219350</th>\n",
       "      <td>T219351</td>\n",
       "      <td>C1928717</td>\n",
       "      <td>2016-08-07</td>\n",
       "      <td>100.0</td>\n",
       "      <td>4.605170</td>\n",
       "      <td>August</td>\n",
       "      <td>Sunday</td>\n",
       "    </tr>\n",
       "    <tr>\n",
       "      <th>264397</th>\n",
       "      <td>T264398</td>\n",
       "      <td>C5514982</td>\n",
       "      <td>2016-08-12</td>\n",
       "      <td>2573.0</td>\n",
       "      <td>7.852828</td>\n",
       "      <td>August</td>\n",
       "      <td>Friday</td>\n",
       "    </tr>\n",
       "    <tr>\n",
       "      <th>...</th>\n",
       "      <td>...</td>\n",
       "      <td>...</td>\n",
       "      <td>...</td>\n",
       "      <td>...</td>\n",
       "      <td>...</td>\n",
       "      <td>...</td>\n",
       "      <td>...</td>\n",
       "    </tr>\n",
       "    <tr>\n",
       "      <th>629913</th>\n",
       "      <td>T629914</td>\n",
       "      <td>C4725540</td>\n",
       "      <td>2016-08-29</td>\n",
       "      <td>7900.0</td>\n",
       "      <td>8.974618</td>\n",
       "      <td>August</td>\n",
       "      <td>Monday</td>\n",
       "    </tr>\n",
       "    <tr>\n",
       "      <th>147349</th>\n",
       "      <td>T147350</td>\n",
       "      <td>C2714477</td>\n",
       "      <td>2016-08-05</td>\n",
       "      <td>1577.5</td>\n",
       "      <td>7.363597</td>\n",
       "      <td>August</td>\n",
       "      <td>Friday</td>\n",
       "    </tr>\n",
       "    <tr>\n",
       "      <th>403478</th>\n",
       "      <td>T403479</td>\n",
       "      <td>C1926523</td>\n",
       "      <td>2016-08-18</td>\n",
       "      <td>5649.5</td>\n",
       "      <td>8.639322</td>\n",
       "      <td>August</td>\n",
       "      <td>Thursday</td>\n",
       "    </tr>\n",
       "    <tr>\n",
       "      <th>492401</th>\n",
       "      <td>T492402</td>\n",
       "      <td>C8437568</td>\n",
       "      <td>2016-08-20</td>\n",
       "      <td>319.0</td>\n",
       "      <td>5.765191</td>\n",
       "      <td>August</td>\n",
       "      <td>Saturday</td>\n",
       "    </tr>\n",
       "    <tr>\n",
       "      <th>908108</th>\n",
       "      <td>T908109</td>\n",
       "      <td>C2817579</td>\n",
       "      <td>2016-09-12</td>\n",
       "      <td>1040.0</td>\n",
       "      <td>6.946976</td>\n",
       "      <td>September</td>\n",
       "      <td>Monday</td>\n",
       "    </tr>\n",
       "  </tbody>\n",
       "</table>\n",
       "<p>104773 rows × 7 columns</p>\n",
       "</div>"
      ],
      "text/plain": [
       "        TransactionID CustomerID       Date  Amount  log_transaction  \\\n",
       "770653        T770654   C7742134 2016-09-06   150.0         5.010635   \n",
       "1021810      T1021811   C1017658 2016-09-13   100.0         4.605170   \n",
       "872142        T872143   C2213570 2016-09-08   235.0         5.459586   \n",
       "219350        T219351   C1928717 2016-08-07   100.0         4.605170   \n",
       "264397        T264398   C5514982 2016-08-12  2573.0         7.852828   \n",
       "...               ...        ...        ...     ...              ...   \n",
       "629913        T629914   C4725540 2016-08-29  7900.0         8.974618   \n",
       "147349        T147350   C2714477 2016-08-05  1577.5         7.363597   \n",
       "403478        T403479   C1926523 2016-08-18  5649.5         8.639322   \n",
       "492401        T492402   C8437568 2016-08-20   319.0         5.765191   \n",
       "908108        T908109   C2817579 2016-09-12  1040.0         6.946976   \n",
       "\n",
       "             Month Day of Week  \n",
       "770653   September     Tuesday  \n",
       "1021810  September     Tuesday  \n",
       "872142   September    Thursday  \n",
       "219350      August      Sunday  \n",
       "264397      August      Friday  \n",
       "...            ...         ...  \n",
       "629913      August      Monday  \n",
       "147349      August      Friday  \n",
       "403478      August    Thursday  \n",
       "492401      August    Saturday  \n",
       "908108   September      Monday  \n",
       "\n",
       "[104773 rows x 7 columns]"
      ]
     },
     "execution_count": 66,
     "metadata": {},
     "output_type": "execute_result"
    }
   ],
   "source": [
    "bank_df_sample['Month'].replace({8:'August', 9:'September', 10:'October'}, inplace=True)\n",
    "bank_df_sample['Day of Week'].replace({0:'Monday', 1:'Tuesday', 2:'Wednesday', 3:'Thursday', 4:'Friday', 5:'Saturday', 6:'Sunday'}, inplace=True)\n",
    "bank_df_sample"
   ]
  },
  {
   "cell_type": "code",
   "execution_count": 67,
   "id": "058ebe93",
   "metadata": {},
   "outputs": [
    {
     "data": {
      "text/plain": [
       "array(['September', 'August', 'October'], dtype=object)"
      ]
     },
     "execution_count": 67,
     "metadata": {},
     "output_type": "execute_result"
    }
   ],
   "source": [
    "bank_df_sample['Month'].unique()"
   ]
  },
  {
   "cell_type": "code",
   "execution_count": 68,
   "id": "2d94c807",
   "metadata": {},
   "outputs": [
    {
     "data": {
      "image/png": "[encoded data removed]",
      "text/plain": [
       "<Figure size 640x480 with 1 Axes>"
      ]
     },
     "metadata": {},
     "output_type": "display_data"
    }
   ],
   "source": [
    "# Visualizing transactions across months in count plot\n",
    "ax = sns.countplot(data=bank_df_sample, x='Month', order=['August', 'September', 'October'])\n",
    "# Adding percentage labels to bars\n",
    "percentages = bank_df_sample['Month'].value_counts() / len(bank_df_sample)\n",
    "percentages_formatted = percentages.apply(lambda x: f\"{x*100:.2f}%\")\n",
    "ax.bar_label(container=ax.containers[0], labels=percentages_formatted)\n",
    "plt.show()"
   ]
  },
  {
   "cell_type": "markdown",
   "id": "3aa866ef",
   "metadata": {},
   "source": [
    "It is clear that the majority of transation occured in August and September while a very small fraction occured in October."
   ]
  },
  {
   "cell_type": "code",
   "execution_count": 69,
   "id": "918541d0",
   "metadata": {},
   "outputs": [
    {
     "data": {
      "image/png": "[encoded data removed]",
      "text/plain": [
       "<Figure size 640x480 with 1 Axes>"
      ]
     },
     "metadata": {},
     "output_type": "display_data"
    }
   ],
   "source": [
    "weekday_order = ['Monday', 'Tuesday', 'Wednesday', 'Thursday', 'Friday', 'Saturday', 'Sunday']\n",
    "# Visualizing transaction count across days of the week\n",
    "ax = sns.countplot(data=bank_df_sample, x='Day of Week', order=weekday_order)\n",
    "# Creating percentage of counts for labels\n",
    "percentages = bank_df_sample['Day of Week'].value_counts() / len(bank_df_sample)\n",
    "percentages = percentages.sort_index(key=lambda x: pd.Categorical(x, categories=weekday_order, ordered=True))\n",
    "# Adding percentage labels to bars\n",
    "percentages_formatted = percentages.apply(lambda x: f\"{x*100:.2f}%\")\n",
    "ax.bar_label(container=ax.containers[0], labels=percentages_formatted)\n",
    "plt.show()"
   ]
  },
  {
   "cell_type": "markdown",
   "id": "c5053a44",
   "metadata": {},
   "source": [
    "The number of transactions are fairly evenly spread across each day of the week with Sunday having the most transactions and Friday the least."
   ]
  },
  {
   "cell_type": "code",
   "execution_count": 70,
   "id": "377c224b",
   "metadata": {},
   "outputs": [
    {
     "data": {
      "text/html": [
       "<div>\n",
       "<style scoped>\n",
       "    .dataframe tbody tr th:only-of-type {\n",
       "        vertical-align: middle;\n",
       "    }\n",
       "\n",
       "    .dataframe tbody tr th {\n",
       "        vertical-align: top;\n",
       "    }\n",
       "\n",
       "    .dataframe thead th {\n",
       "        text-align: right;\n",
       "    }\n",
       "</style>\n",
       "<table border=\"1\" class=\"dataframe\">\n",
       "  <thead>\n",
       "    <tr style=\"text-align: right;\">\n",
       "      <th></th>\n",
       "      <th>CustomerID</th>\n",
       "      <th>Transactions</th>\n",
       "    </tr>\n",
       "  </thead>\n",
       "  <tbody>\n",
       "    <tr>\n",
       "      <th>0</th>\n",
       "      <td>C1010011</td>\n",
       "      <td>2</td>\n",
       "    </tr>\n",
       "    <tr>\n",
       "      <th>1</th>\n",
       "      <td>C1010012</td>\n",
       "      <td>1</td>\n",
       "    </tr>\n",
       "    <tr>\n",
       "      <th>2</th>\n",
       "      <td>C1010014</td>\n",
       "      <td>2</td>\n",
       "    </tr>\n",
       "    <tr>\n",
       "      <th>3</th>\n",
       "      <td>C1010018</td>\n",
       "      <td>1</td>\n",
       "    </tr>\n",
       "    <tr>\n",
       "      <th>4</th>\n",
       "      <td>C1010024</td>\n",
       "      <td>1</td>\n",
       "    </tr>\n",
       "    <tr>\n",
       "      <th>...</th>\n",
       "      <td>...</td>\n",
       "      <td>...</td>\n",
       "    </tr>\n",
       "    <tr>\n",
       "      <th>883655</th>\n",
       "      <td>C9099836</td>\n",
       "      <td>1</td>\n",
       "    </tr>\n",
       "    <tr>\n",
       "      <th>883656</th>\n",
       "      <td>C9099877</td>\n",
       "      <td>1</td>\n",
       "    </tr>\n",
       "    <tr>\n",
       "      <th>883657</th>\n",
       "      <td>C9099919</td>\n",
       "      <td>1</td>\n",
       "    </tr>\n",
       "    <tr>\n",
       "      <th>883658</th>\n",
       "      <td>C9099941</td>\n",
       "      <td>1</td>\n",
       "    </tr>\n",
       "    <tr>\n",
       "      <th>883659</th>\n",
       "      <td>C9099956</td>\n",
       "      <td>1</td>\n",
       "    </tr>\n",
       "  </tbody>\n",
       "</table>\n",
       "<p>883660 rows × 2 columns</p>\n",
       "</div>"
      ],
      "text/plain": [
       "       CustomerID Transactions\n",
       "0        C1010011            2\n",
       "1        C1010012            1\n",
       "2        C1010014            2\n",
       "3        C1010018            1\n",
       "4        C1010024            1\n",
       "...           ...          ...\n",
       "883655   C9099836            1\n",
       "883656   C9099877            1\n",
       "883657   C9099919            1\n",
       "883658   C9099941            1\n",
       "883659   C9099956            1\n",
       "\n",
       "[883660 rows x 2 columns]"
      ]
     },
     "execution_count": 70,
     "metadata": {},
     "output_type": "execute_result"
    }
   ],
   "source": [
    "# Grouping transactions by customer\n",
    "grouped_cust = bank_df.groupby('CustomerID')['TransactionID'].count().reset_index(name='Transactions')\n",
    "grouped_cust['Transactions'] = grouped_cust['Transactions'].astype('category')\n",
    "grouped_cust"
   ]
  },
  {
   "cell_type": "code",
   "execution_count": 71,
   "id": "6af10eb2",
   "metadata": {},
   "outputs": [
    {
     "data": {
      "image/png": "[encoded data removed]",
      "text/plain": [
       "<Figure size 640x480 with 1 Axes>"
      ]
     },
     "metadata": {},
     "output_type": "display_data"
    }
   ],
   "source": [
    "# Plotting amount of transactions per customer\n",
    "ax = sns.countplot(data=grouped_cust, x='Transactions')\n",
    "# Adding percentage labels to bars\n",
    "percentages = grouped_cust['Transactions'].value_counts() / len(grouped_cust)\n",
    "percentages_formatted = percentages.apply(lambda x: f\"{x*100:.2f}%\")\n",
    "ax.bar_label(container=ax.containers[0], labels=percentages_formatted)\n",
    "plt.show()"
   ]
  },
  {
   "cell_type": "markdown",
   "id": "ef3de9da",
   "metadata": {},
   "source": [
    "From the count plot above it is clear that the majority of customers have made only one transaction while a much smaller portion have made 2 or 3."
   ]
  },
  {
   "cell_type": "markdown",
   "id": "5d274bbc",
   "metadata": {},
   "source": [
    "## Feature Engineering - RFM"
   ]
  },
  {
   "cell_type": "markdown",
   "id": "ba4fddf5",
   "metadata": {},
   "source": [
    "The existing features will now be transformed into features used for RFM. The RFM features will be obtained as follows:\n",
    "- Recency: the number of days since the customer's last purchase will be calculated. This will be done using a reference date, which will be 2016-10-22 since it is one day after the latest date in the dataset (2016-10-21). The date of most recent purchase will then be subtracted from this reference date for each customer\n",
    "- Frequency: the number of total transactions from each customer during the time period.\n",
    "- Monetary: the average purchase amount calculated by dividing total amount spent by number of transactions"
   ]
  },
  {
   "cell_type": "code",
   "execution_count": 72,
   "id": "18c0b5b6",
   "metadata": {},
   "outputs": [
    {
     "data": {
      "text/plain": [
       "Timestamp('2016-10-22 00:00:00')"
      ]
     },
     "execution_count": 72,
     "metadata": {},
     "output_type": "execute_result"
    }
   ],
   "source": [
    "# Making reference date for recency\n",
    "ref_date = pd.to_datetime('22/10/16', format=\"%d/%m/%y\")\n",
    "ref_date"
   ]
  },
  {
   "cell_type": "code",
   "execution_count": 73,
   "id": "94554bfc",
   "metadata": {},
   "outputs": [
    {
     "data": {
      "text/html": [
       "<div>\n",
       "<style scoped>\n",
       "    .dataframe tbody tr th:only-of-type {\n",
       "        vertical-align: middle;\n",
       "    }\n",
       "\n",
       "    .dataframe tbody tr th {\n",
       "        vertical-align: top;\n",
       "    }\n",
       "\n",
       "    .dataframe thead th {\n",
       "        text-align: right;\n",
       "    }\n",
       "</style>\n",
       "<table border=\"1\" class=\"dataframe\">\n",
       "  <thead>\n",
       "    <tr style=\"text-align: right;\">\n",
       "      <th></th>\n",
       "      <th>Date</th>\n",
       "      <th>TransactionID</th>\n",
       "      <th>Amount</th>\n",
       "    </tr>\n",
       "    <tr>\n",
       "      <th>CustomerID</th>\n",
       "      <th></th>\n",
       "      <th></th>\n",
       "      <th></th>\n",
       "    </tr>\n",
       "  </thead>\n",
       "  <tbody>\n",
       "    <tr>\n",
       "      <th>C1010011</th>\n",
       "      <td>26 days</td>\n",
       "      <td>2</td>\n",
       "      <td>5106.0</td>\n",
       "    </tr>\n",
       "    <tr>\n",
       "      <th>C1010012</th>\n",
       "      <td>69 days</td>\n",
       "      <td>1</td>\n",
       "      <td>1499.0</td>\n",
       "    </tr>\n",
       "    <tr>\n",
       "      <th>C1010014</th>\n",
       "      <td>76 days</td>\n",
       "      <td>2</td>\n",
       "      <td>1455.0</td>\n",
       "    </tr>\n",
       "    <tr>\n",
       "      <th>C1010018</th>\n",
       "      <td>37 days</td>\n",
       "      <td>1</td>\n",
       "      <td>30.0</td>\n",
       "    </tr>\n",
       "    <tr>\n",
       "      <th>C1010024</th>\n",
       "      <td>65 days</td>\n",
       "      <td>1</td>\n",
       "      <td>5000.0</td>\n",
       "    </tr>\n",
       "    <tr>\n",
       "      <th>...</th>\n",
       "      <td>...</td>\n",
       "      <td>...</td>\n",
       "      <td>...</td>\n",
       "    </tr>\n",
       "    <tr>\n",
       "      <th>C9099836</th>\n",
       "      <td>76 days</td>\n",
       "      <td>1</td>\n",
       "      <td>691.0</td>\n",
       "    </tr>\n",
       "    <tr>\n",
       "      <th>C9099877</th>\n",
       "      <td>37 days</td>\n",
       "      <td>1</td>\n",
       "      <td>222.0</td>\n",
       "    </tr>\n",
       "    <tr>\n",
       "      <th>C9099919</th>\n",
       "      <td>65 days</td>\n",
       "      <td>1</td>\n",
       "      <td>126.0</td>\n",
       "    </tr>\n",
       "    <tr>\n",
       "      <th>C9099941</th>\n",
       "      <td>55 days</td>\n",
       "      <td>1</td>\n",
       "      <td>50.0</td>\n",
       "    </tr>\n",
       "    <tr>\n",
       "      <th>C9099956</th>\n",
       "      <td>27 days</td>\n",
       "      <td>1</td>\n",
       "      <td>855.0</td>\n",
       "    </tr>\n",
       "  </tbody>\n",
       "</table>\n",
       "<p>883660 rows × 3 columns</p>\n",
       "</div>"
      ],
      "text/plain": [
       "              Date  TransactionID  Amount\n",
       "CustomerID                               \n",
       "C1010011   26 days              2  5106.0\n",
       "C1010012   69 days              1  1499.0\n",
       "C1010014   76 days              2  1455.0\n",
       "C1010018   37 days              1    30.0\n",
       "C1010024   65 days              1  5000.0\n",
       "...            ...            ...     ...\n",
       "C9099836   76 days              1   691.0\n",
       "C9099877   37 days              1   222.0\n",
       "C9099919   65 days              1   126.0\n",
       "C9099941   55 days              1    50.0\n",
       "C9099956   27 days              1   855.0\n",
       "\n",
       "[883660 rows x 3 columns]"
      ]
     },
     "execution_count": 73,
     "metadata": {},
     "output_type": "execute_result"
    }
   ],
   "source": [
    "# Using pandas groupby.agg to group the observations by CustomerID then applying specific functions to each column to obtain the RFM variables\n",
    "rfm_df = bank_df.groupby('CustomerID').agg({'Date': lambda x: (ref_date - x.max()), 'TransactionID': 'count', 'Amount': 'sum'})\n",
    "rfm_df"
   ]
  },
  {
   "cell_type": "code",
   "execution_count": 74,
   "id": "3be066c1",
   "metadata": {
    "scrolled": true
   },
   "outputs": [
    {
     "data": {
      "text/html": [
       "<div>\n",
       "<style scoped>\n",
       "    .dataframe tbody tr th:only-of-type {\n",
       "        vertical-align: middle;\n",
       "    }\n",
       "\n",
       "    .dataframe tbody tr th {\n",
       "        vertical-align: top;\n",
       "    }\n",
       "\n",
       "    .dataframe thead th {\n",
       "        text-align: right;\n",
       "    }\n",
       "</style>\n",
       "<table border=\"1\" class=\"dataframe\">\n",
       "  <thead>\n",
       "    <tr style=\"text-align: right;\">\n",
       "      <th></th>\n",
       "      <th>Recency</th>\n",
       "      <th>Frequency</th>\n",
       "      <th>Monetary</th>\n",
       "    </tr>\n",
       "    <tr>\n",
       "      <th>CustomerID</th>\n",
       "      <th></th>\n",
       "      <th></th>\n",
       "      <th></th>\n",
       "    </tr>\n",
       "  </thead>\n",
       "  <tbody>\n",
       "    <tr>\n",
       "      <th>C1010011</th>\n",
       "      <td>26</td>\n",
       "      <td>2</td>\n",
       "      <td>2553.0</td>\n",
       "    </tr>\n",
       "    <tr>\n",
       "      <th>C1010012</th>\n",
       "      <td>69</td>\n",
       "      <td>1</td>\n",
       "      <td>1499.0</td>\n",
       "    </tr>\n",
       "    <tr>\n",
       "      <th>C1010014</th>\n",
       "      <td>76</td>\n",
       "      <td>2</td>\n",
       "      <td>727.5</td>\n",
       "    </tr>\n",
       "    <tr>\n",
       "      <th>C1010018</th>\n",
       "      <td>37</td>\n",
       "      <td>1</td>\n",
       "      <td>30.0</td>\n",
       "    </tr>\n",
       "    <tr>\n",
       "      <th>C1010024</th>\n",
       "      <td>65</td>\n",
       "      <td>1</td>\n",
       "      <td>5000.0</td>\n",
       "    </tr>\n",
       "    <tr>\n",
       "      <th>...</th>\n",
       "      <td>...</td>\n",
       "      <td>...</td>\n",
       "      <td>...</td>\n",
       "    </tr>\n",
       "    <tr>\n",
       "      <th>C9099836</th>\n",
       "      <td>76</td>\n",
       "      <td>1</td>\n",
       "      <td>691.0</td>\n",
       "    </tr>\n",
       "    <tr>\n",
       "      <th>C9099877</th>\n",
       "      <td>37</td>\n",
       "      <td>1</td>\n",
       "      <td>222.0</td>\n",
       "    </tr>\n",
       "    <tr>\n",
       "      <th>C9099919</th>\n",
       "      <td>65</td>\n",
       "      <td>1</td>\n",
       "      <td>126.0</td>\n",
       "    </tr>\n",
       "    <tr>\n",
       "      <th>C9099941</th>\n",
       "      <td>55</td>\n",
       "      <td>1</td>\n",
       "      <td>50.0</td>\n",
       "    </tr>\n",
       "    <tr>\n",
       "      <th>C9099956</th>\n",
       "      <td>27</td>\n",
       "      <td>1</td>\n",
       "      <td>855.0</td>\n",
       "    </tr>\n",
       "  </tbody>\n",
       "</table>\n",
       "<p>883660 rows × 3 columns</p>\n",
       "</div>"
      ],
      "text/plain": [
       "            Recency  Frequency  Monetary\n",
       "CustomerID                              \n",
       "C1010011         26          2    2553.0\n",
       "C1010012         69          1    1499.0\n",
       "C1010014         76          2     727.5\n",
       "C1010018         37          1      30.0\n",
       "C1010024         65          1    5000.0\n",
       "...             ...        ...       ...\n",
       "C9099836         76          1     691.0\n",
       "C9099877         37          1     222.0\n",
       "C9099919         65          1     126.0\n",
       "C9099941         55          1      50.0\n",
       "C9099956         27          1     855.0\n",
       "\n",
       "[883660 rows x 3 columns]"
      ]
     },
     "execution_count": 74,
     "metadata": {},
     "output_type": "execute_result"
    }
   ],
   "source": [
    "# Renaming column as RFM variables\n",
    "rfm_df.rename(columns={'Date':'Recency', 'TransactionID':'Frequency', 'Amount':'Monetary'}, inplace=True)\n",
    "# Dividing total amount spent by number of transactions\n",
    "rfm_df['Monetary'] = rfm_df['Monetary'] / rfm_df['Frequency']\n",
    "# Removing 'days' from Recency\n",
    "rfm_df['Recency'] = rfm_df['Recency'].dt.days\n",
    "rfm_df"
   ]
  },
  {
   "cell_type": "code",
   "execution_count": 75,
   "id": "4ca0241b",
   "metadata": {
    "scrolled": true
   },
   "outputs": [
    {
     "data": {
      "text/html": [
       "<div>\n",
       "<style scoped>\n",
       "    .dataframe tbody tr th:only-of-type {\n",
       "        vertical-align: middle;\n",
       "    }\n",
       "\n",
       "    .dataframe tbody tr th {\n",
       "        vertical-align: top;\n",
       "    }\n",
       "\n",
       "    .dataframe thead th {\n",
       "        text-align: right;\n",
       "    }\n",
       "</style>\n",
       "<table border=\"1\" class=\"dataframe\">\n",
       "  <thead>\n",
       "    <tr style=\"text-align: right;\">\n",
       "      <th></th>\n",
       "      <th>Recency</th>\n",
       "      <th>Frequency</th>\n",
       "      <th>Monetary</th>\n",
       "    </tr>\n",
       "  </thead>\n",
       "  <tbody>\n",
       "    <tr>\n",
       "      <th>count</th>\n",
       "      <td>883660.000000</td>\n",
       "      <td>883660.000000</td>\n",
       "      <td>8.836600e+05</td>\n",
       "    </tr>\n",
       "    <tr>\n",
       "      <th>mean</th>\n",
       "      <td>56.306991</td>\n",
       "      <td>1.185673</td>\n",
       "      <td>1.576040e+03</td>\n",
       "    </tr>\n",
       "    <tr>\n",
       "      <th>std</th>\n",
       "      <td>15.226267</td>\n",
       "      <td>0.450527</td>\n",
       "      <td>6.445248e+03</td>\n",
       "    </tr>\n",
       "    <tr>\n",
       "      <th>min</th>\n",
       "      <td>1.000000</td>\n",
       "      <td>1.000000</td>\n",
       "      <td>1.000000e-02</td>\n",
       "    </tr>\n",
       "    <tr>\n",
       "      <th>25%</th>\n",
       "      <td>44.000000</td>\n",
       "      <td>1.000000</td>\n",
       "      <td>1.930000e+02</td>\n",
       "    </tr>\n",
       "    <tr>\n",
       "      <th>50%</th>\n",
       "      <td>56.000000</td>\n",
       "      <td>1.000000</td>\n",
       "      <td>5.000000e+02</td>\n",
       "    </tr>\n",
       "    <tr>\n",
       "      <th>75%</th>\n",
       "      <td>69.000000</td>\n",
       "      <td>1.000000</td>\n",
       "      <td>1.249020e+03</td>\n",
       "    </tr>\n",
       "    <tr>\n",
       "      <th>max</th>\n",
       "      <td>82.000000</td>\n",
       "      <td>6.000000</td>\n",
       "      <td>1.560035e+06</td>\n",
       "    </tr>\n",
       "  </tbody>\n",
       "</table>\n",
       "</div>"
      ],
      "text/plain": [
       "             Recency      Frequency      Monetary\n",
       "count  883660.000000  883660.000000  8.836600e+05\n",
       "mean       56.306991       1.185673  1.576040e+03\n",
       "std        15.226267       0.450527  6.445248e+03\n",
       "min         1.000000       1.000000  1.000000e-02\n",
       "25%        44.000000       1.000000  1.930000e+02\n",
       "50%        56.000000       1.000000  5.000000e+02\n",
       "75%        69.000000       1.000000  1.249020e+03\n",
       "max        82.000000       6.000000  1.560035e+06"
      ]
     },
     "execution_count": 75,
     "metadata": {},
     "output_type": "execute_result"
    }
   ],
   "source": [
    "# Examining the distribution statistics\n",
    "rfm_df.describe()"
   ]
  },
  {
   "cell_type": "markdown",
   "id": "ce7c7aad",
   "metadata": {},
   "source": [
    "The distribution statistics show that the Recency and frequency are in a relatively small range. However the Monetary values are spread across several different orders of magnitude. Although we want to keep customer information as much as possible, clustering is sensitive to outliers. Therefore the large outliers in the monetary column will be removed."
   ]
  },
  {
   "cell_type": "code",
   "execution_count": 90,
   "id": "4ea057c8",
   "metadata": {},
   "outputs": [
    {
     "data": {
      "text/html": [
       "<div>\n",
       "<style scoped>\n",
       "    .dataframe tbody tr th:only-of-type {\n",
       "        vertical-align: middle;\n",
       "    }\n",
       "\n",
       "    .dataframe tbody tr th {\n",
       "        vertical-align: top;\n",
       "    }\n",
       "\n",
       "    .dataframe thead th {\n",
       "        text-align: right;\n",
       "    }\n",
       "</style>\n",
       "<table border=\"1\" class=\"dataframe\">\n",
       "  <thead>\n",
       "    <tr style=\"text-align: right;\">\n",
       "      <th></th>\n",
       "      <th>Recency</th>\n",
       "      <th>Frequency</th>\n",
       "      <th>Monetary</th>\n",
       "    </tr>\n",
       "    <tr>\n",
       "      <th>CustomerID</th>\n",
       "      <th></th>\n",
       "      <th></th>\n",
       "      <th></th>\n",
       "    </tr>\n",
       "  </thead>\n",
       "  <tbody>\n",
       "    <tr>\n",
       "      <th>C1010011</th>\n",
       "      <td>26</td>\n",
       "      <td>2</td>\n",
       "      <td>2553.0</td>\n",
       "    </tr>\n",
       "    <tr>\n",
       "      <th>C1010012</th>\n",
       "      <td>69</td>\n",
       "      <td>1</td>\n",
       "      <td>1499.0</td>\n",
       "    </tr>\n",
       "    <tr>\n",
       "      <th>C1010014</th>\n",
       "      <td>76</td>\n",
       "      <td>2</td>\n",
       "      <td>727.5</td>\n",
       "    </tr>\n",
       "    <tr>\n",
       "      <th>C1010018</th>\n",
       "      <td>37</td>\n",
       "      <td>1</td>\n",
       "      <td>30.0</td>\n",
       "    </tr>\n",
       "    <tr>\n",
       "      <th>C1010024</th>\n",
       "      <td>65</td>\n",
       "      <td>1</td>\n",
       "      <td>5000.0</td>\n",
       "    </tr>\n",
       "    <tr>\n",
       "      <th>...</th>\n",
       "      <td>...</td>\n",
       "      <td>...</td>\n",
       "      <td>...</td>\n",
       "    </tr>\n",
       "    <tr>\n",
       "      <th>C9099836</th>\n",
       "      <td>76</td>\n",
       "      <td>1</td>\n",
       "      <td>691.0</td>\n",
       "    </tr>\n",
       "    <tr>\n",
       "      <th>C9099877</th>\n",
       "      <td>37</td>\n",
       "      <td>1</td>\n",
       "      <td>222.0</td>\n",
       "    </tr>\n",
       "    <tr>\n",
       "      <th>C9099919</th>\n",
       "      <td>65</td>\n",
       "      <td>1</td>\n",
       "      <td>126.0</td>\n",
       "    </tr>\n",
       "    <tr>\n",
       "      <th>C9099941</th>\n",
       "      <td>55</td>\n",
       "      <td>1</td>\n",
       "      <td>50.0</td>\n",
       "    </tr>\n",
       "    <tr>\n",
       "      <th>C9099956</th>\n",
       "      <td>27</td>\n",
       "      <td>1</td>\n",
       "      <td>855.0</td>\n",
       "    </tr>\n",
       "  </tbody>\n",
       "</table>\n",
       "<p>875808 rows × 3 columns</p>\n",
       "</div>"
      ],
      "text/plain": [
       "            Recency  Frequency  Monetary\n",
       "CustomerID                              \n",
       "C1010011         26          2    2553.0\n",
       "C1010012         69          1    1499.0\n",
       "C1010014         76          2     727.5\n",
       "C1010018         37          1      30.0\n",
       "C1010024         65          1    5000.0\n",
       "...             ...        ...       ...\n",
       "C9099836         76          1     691.0\n",
       "C9099877         37          1     222.0\n",
       "C9099919         65          1     126.0\n",
       "C9099941         55          1      50.0\n",
       "C9099956         27          1     855.0\n",
       "\n",
       "[875808 rows x 3 columns]"
      ]
     },
     "execution_count": 90,
     "metadata": {},
     "output_type": "execute_result"
    }
   ],
   "source": [
    "# Removing outliers\n",
    "from scipy import stats\n",
    "# Keeping values for which z-score is smaller 3 (less than 3 standard deviations from the mean)\n",
    "keep = (np.abs(stats.zscore(rfm_df['Monetary'])) < 3)\n",
    "rfm_df_filtered = rfm_df[keep]\n",
    "rfm_df_filtered"
   ]
  },
  {
   "cell_type": "code",
   "execution_count": 91,
   "id": "821581ed",
   "metadata": {},
   "outputs": [
    {
     "data": {
      "text/html": [
       "<div>\n",
       "<style scoped>\n",
       "    .dataframe tbody tr th:only-of-type {\n",
       "        vertical-align: middle;\n",
       "    }\n",
       "\n",
       "    .dataframe tbody tr th {\n",
       "        vertical-align: top;\n",
       "    }\n",
       "\n",
       "    .dataframe thead th {\n",
       "        text-align: right;\n",
       "    }\n",
       "</style>\n",
       "<table border=\"1\" class=\"dataframe\">\n",
       "  <thead>\n",
       "    <tr style=\"text-align: right;\">\n",
       "      <th></th>\n",
       "      <th>Recency</th>\n",
       "      <th>Frequency</th>\n",
       "      <th>Monetary</th>\n",
       "    </tr>\n",
       "  </thead>\n",
       "  <tbody>\n",
       "    <tr>\n",
       "      <th>count</th>\n",
       "      <td>875808.000000</td>\n",
       "      <td>875808.000000</td>\n",
       "      <td>875808.000000</td>\n",
       "    </tr>\n",
       "    <tr>\n",
       "      <th>mean</th>\n",
       "      <td>56.304472</td>\n",
       "      <td>1.186078</td>\n",
       "      <td>1176.400496</td>\n",
       "    </tr>\n",
       "    <tr>\n",
       "      <th>std</th>\n",
       "      <td>15.221965</td>\n",
       "      <td>0.451015</td>\n",
       "      <td>2135.207340</td>\n",
       "    </tr>\n",
       "    <tr>\n",
       "      <th>min</th>\n",
       "      <td>1.000000</td>\n",
       "      <td>1.000000</td>\n",
       "      <td>0.010000</td>\n",
       "    </tr>\n",
       "    <tr>\n",
       "      <th>25%</th>\n",
       "      <td>44.000000</td>\n",
       "      <td>1.000000</td>\n",
       "      <td>190.000000</td>\n",
       "    </tr>\n",
       "    <tr>\n",
       "      <th>50%</th>\n",
       "      <td>56.000000</td>\n",
       "      <td>1.000000</td>\n",
       "      <td>499.000000</td>\n",
       "    </tr>\n",
       "    <tr>\n",
       "      <th>75%</th>\n",
       "      <td>69.000000</td>\n",
       "      <td>1.000000</td>\n",
       "      <td>1200.000000</td>\n",
       "    </tr>\n",
       "    <tr>\n",
       "      <th>max</th>\n",
       "      <td>82.000000</td>\n",
       "      <td>6.000000</td>\n",
       "      <td>20910.000000</td>\n",
       "    </tr>\n",
       "  </tbody>\n",
       "</table>\n",
       "</div>"
      ],
      "text/plain": [
       "             Recency      Frequency       Monetary\n",
       "count  875808.000000  875808.000000  875808.000000\n",
       "mean       56.304472       1.186078    1176.400496\n",
       "std        15.221965       0.451015    2135.207340\n",
       "min         1.000000       1.000000       0.010000\n",
       "25%        44.000000       1.000000     190.000000\n",
       "50%        56.000000       1.000000     499.000000\n",
       "75%        69.000000       1.000000    1200.000000\n",
       "max        82.000000       6.000000   20910.000000"
      ]
     },
     "execution_count": 91,
     "metadata": {},
     "output_type": "execute_result"
    }
   ],
   "source": [
    "rfm_df_filtered.describe()"
   ]
  },
  {
   "cell_type": "markdown",
   "id": "3c29dd41",
   "metadata": {},
   "source": [
    "We see that the monetary values are now in a much more reasonable range. Let's plot the variables now to see their distributions."
   ]
  },
  {
   "cell_type": "code",
   "execution_count": 92,
   "id": "61a4f5f6",
   "metadata": {},
   "outputs": [
    {
     "data": {
      "image/png": "[encoded data removed]",
      "text/plain": [
       "<Figure size 1500x400 with 3 Axes>"
      ]
     },
     "metadata": {},
     "output_type": "display_data"
    }
   ],
   "source": [
    "# format of 1 row and 3 columns\n",
    "fig, axes = plt.subplots(1, 3, figsize=(15,4))\n",
    "# create histograms\n",
    "for i, col in enumerate(rfm_df_filtered.columns):\n",
    "    sns.histplot(data=rfm_df_filtered, x=col, ax=axes[i])\n",
    "plt.show()"
   ]
  },
  {
   "cell_type": "markdown",
   "id": "5ddfd039",
   "metadata": {},
   "source": [
    "From the histograms above, we can see that the frequency and monetary features follow clear power law distributions while the recency feature doesn't follow any clear distribution. The frequency and monetary features will be transformed using a log function which should make their distributions appear roughly normal."
   ]
  },
  {
   "cell_type": "code",
   "execution_count": 93,
   "id": "da24c523",
   "metadata": {},
   "outputs": [
    {
     "name": "stderr",
     "output_type": "stream",
     "text": [
      "/var/folders/lw/b_8l9ggd16z8sjbbwh204hf40000gn/T/ipykernel_13186/2241240054.py:2: SettingWithCopyWarning: \n",
      "A value is trying to be set on a copy of a slice from a DataFrame.\n",
      "Try using .loc[row_indexer,col_indexer] = value instead\n",
      "\n",
      "See the caveats in the documentation: https://pandas.pydata.org/pandas-docs/stable/user_guide/indexing.html#returning-a-view-versus-a-copy\n",
      "  rfm_df_filtered['Monetary_log'] = np.log(rfm_df_filtered['Monetary'])\n",
      "/var/folders/lw/b_8l9ggd16z8sjbbwh204hf40000gn/T/ipykernel_13186/2241240054.py:3: SettingWithCopyWarning: \n",
      "A value is trying to be set on a copy of a slice from a DataFrame.\n",
      "Try using .loc[row_indexer,col_indexer] = value instead\n",
      "\n",
      "See the caveats in the documentation: https://pandas.pydata.org/pandas-docs/stable/user_guide/indexing.html#returning-a-view-versus-a-copy\n",
      "  rfm_df_filtered['Frequency_log'] = np.log(rfm_df_filtered['Frequency'])\n"
     ]
    },
    {
     "data": {
      "text/html": [
       "<div>\n",
       "<style scoped>\n",
       "    .dataframe tbody tr th:only-of-type {\n",
       "        vertical-align: middle;\n",
       "    }\n",
       "\n",
       "    .dataframe tbody tr th {\n",
       "        vertical-align: top;\n",
       "    }\n",
       "\n",
       "    .dataframe thead th {\n",
       "        text-align: right;\n",
       "    }\n",
       "</style>\n",
       "<table border=\"1\" class=\"dataframe\">\n",
       "  <thead>\n",
       "    <tr style=\"text-align: right;\">\n",
       "      <th></th>\n",
       "      <th>Recency</th>\n",
       "      <th>Frequency</th>\n",
       "      <th>Monetary</th>\n",
       "      <th>Monetary_log</th>\n",
       "      <th>Frequency_log</th>\n",
       "    </tr>\n",
       "    <tr>\n",
       "      <th>CustomerID</th>\n",
       "      <th></th>\n",
       "      <th></th>\n",
       "      <th></th>\n",
       "      <th></th>\n",
       "      <th></th>\n",
       "    </tr>\n",
       "  </thead>\n",
       "  <tbody>\n",
       "    <tr>\n",
       "      <th>C1010011</th>\n",
       "      <td>26</td>\n",
       "      <td>2</td>\n",
       "      <td>2553.0</td>\n",
       "      <td>7.845024</td>\n",
       "      <td>0.693147</td>\n",
       "    </tr>\n",
       "    <tr>\n",
       "      <th>C1010012</th>\n",
       "      <td>69</td>\n",
       "      <td>1</td>\n",
       "      <td>1499.0</td>\n",
       "      <td>7.312553</td>\n",
       "      <td>0.000000</td>\n",
       "    </tr>\n",
       "    <tr>\n",
       "      <th>C1010014</th>\n",
       "      <td>76</td>\n",
       "      <td>2</td>\n",
       "      <td>727.5</td>\n",
       "      <td>6.589614</td>\n",
       "      <td>0.693147</td>\n",
       "    </tr>\n",
       "    <tr>\n",
       "      <th>C1010018</th>\n",
       "      <td>37</td>\n",
       "      <td>1</td>\n",
       "      <td>30.0</td>\n",
       "      <td>3.401197</td>\n",
       "      <td>0.000000</td>\n",
       "    </tr>\n",
       "    <tr>\n",
       "      <th>C1010024</th>\n",
       "      <td>65</td>\n",
       "      <td>1</td>\n",
       "      <td>5000.0</td>\n",
       "      <td>8.517193</td>\n",
       "      <td>0.000000</td>\n",
       "    </tr>\n",
       "    <tr>\n",
       "      <th>...</th>\n",
       "      <td>...</td>\n",
       "      <td>...</td>\n",
       "      <td>...</td>\n",
       "      <td>...</td>\n",
       "      <td>...</td>\n",
       "    </tr>\n",
       "    <tr>\n",
       "      <th>C9099836</th>\n",
       "      <td>76</td>\n",
       "      <td>1</td>\n",
       "      <td>691.0</td>\n",
       "      <td>6.538140</td>\n",
       "      <td>0.000000</td>\n",
       "    </tr>\n",
       "    <tr>\n",
       "      <th>C9099877</th>\n",
       "      <td>37</td>\n",
       "      <td>1</td>\n",
       "      <td>222.0</td>\n",
       "      <td>5.402677</td>\n",
       "      <td>0.000000</td>\n",
       "    </tr>\n",
       "    <tr>\n",
       "      <th>C9099919</th>\n",
       "      <td>65</td>\n",
       "      <td>1</td>\n",
       "      <td>126.0</td>\n",
       "      <td>4.836282</td>\n",
       "      <td>0.000000</td>\n",
       "    </tr>\n",
       "    <tr>\n",
       "      <th>C9099941</th>\n",
       "      <td>55</td>\n",
       "      <td>1</td>\n",
       "      <td>50.0</td>\n",
       "      <td>3.912023</td>\n",
       "      <td>0.000000</td>\n",
       "    </tr>\n",
       "    <tr>\n",
       "      <th>C9099956</th>\n",
       "      <td>27</td>\n",
       "      <td>1</td>\n",
       "      <td>855.0</td>\n",
       "      <td>6.751101</td>\n",
       "      <td>0.000000</td>\n",
       "    </tr>\n",
       "  </tbody>\n",
       "</table>\n",
       "<p>875808 rows × 5 columns</p>\n",
       "</div>"
      ],
      "text/plain": [
       "            Recency  Frequency  Monetary  Monetary_log  Frequency_log\n",
       "CustomerID                                                           \n",
       "C1010011         26          2    2553.0      7.845024       0.693147\n",
       "C1010012         69          1    1499.0      7.312553       0.000000\n",
       "C1010014         76          2     727.5      6.589614       0.693147\n",
       "C1010018         37          1      30.0      3.401197       0.000000\n",
       "C1010024         65          1    5000.0      8.517193       0.000000\n",
       "...             ...        ...       ...           ...            ...\n",
       "C9099836         76          1     691.0      6.538140       0.000000\n",
       "C9099877         37          1     222.0      5.402677       0.000000\n",
       "C9099919         65          1     126.0      4.836282       0.000000\n",
       "C9099941         55          1      50.0      3.912023       0.000000\n",
       "C9099956         27          1     855.0      6.751101       0.000000\n",
       "\n",
       "[875808 rows x 5 columns]"
      ]
     },
     "execution_count": 93,
     "metadata": {},
     "output_type": "execute_result"
    }
   ],
   "source": [
    "from scipy.stats import boxcox\n",
    "rfm_df_filtered['Monetary_log'] = np.log(rfm_df_filtered['Monetary'])\n",
    "rfm_df_filtered['Frequency_log'] = np.log(rfm_df_filtered['Frequency'])\n",
    "rfm_df_filtered"
   ]
  },
  {
   "cell_type": "code",
   "execution_count": 94,
   "id": "af15e57c",
   "metadata": {},
   "outputs": [
    {
     "data": {
      "image/png": "[encoded data removed]",
      "text/plain": [
       "<Figure size 1500x400 with 2 Axes>"
      ]
     },
     "metadata": {},
     "output_type": "display_data"
    }
   ],
   "source": [
    "# Plotting the newly log transformed distributions\n",
    "# format of 1 row and 2 columns\n",
    "fig, axes = plt.subplots(1, 2, figsize=(15,4))\n",
    "# create histograms\n",
    "for i, col in enumerate(rfm_df_filtered.columns[-2:]):\n",
    "    sns.histplot(data=rfm_df_filtered, x=col, ax=axes[i])\n",
    "plt.show()"
   ]
  },
  {
   "cell_type": "code",
   "execution_count": 95,
   "id": "3fe46397",
   "metadata": {},
   "outputs": [
    {
     "name": "stderr",
     "output_type": "stream",
     "text": [
      "/var/folders/lw/b_8l9ggd16z8sjbbwh204hf40000gn/T/ipykernel_13186/1290183852.py:2: SettingWithCopyWarning: \n",
      "A value is trying to be set on a copy of a slice from a DataFrame\n",
      "\n",
      "See the caveats in the documentation: https://pandas.pydata.org/pandas-docs/stable/user_guide/indexing.html#returning-a-view-versus-a-copy\n",
      "  rfm_df_filtered.drop(['Monetary', 'Frequency'], axis=1, inplace=True)\n"
     ]
    },
    {
     "data": {
      "text/plain": [
       "Index(['Recency', 'Monetary_log', 'Frequency_log'], dtype='object')"
      ]
     },
     "execution_count": 95,
     "metadata": {},
     "output_type": "execute_result"
    }
   ],
   "source": [
    "# Removing original monetary and frequency features\n",
    "rfm_df_filtered.drop(['Monetary', 'Frequency'], axis=1, inplace=True)\n",
    "rfm_df_filtered.columns"
   ]
  },
  {
   "cell_type": "code",
   "execution_count": 96,
   "id": "25c92c8b",
   "metadata": {},
   "outputs": [
    {
     "data": {
      "text/plain": [
       "Recency          False\n",
       "Monetary_log     False\n",
       "Frequency_log    False\n",
       "dtype: bool"
      ]
     },
     "execution_count": 96,
     "metadata": {},
     "output_type": "execute_result"
    }
   ],
   "source": [
    "# Checking if applying log has made some values infinity\n",
    "np.isinf(rfm_df_filtered).any()"
   ]
  },
  {
   "cell_type": "markdown",
   "id": "93aa8f03",
   "metadata": {},
   "source": [
    "Justification for min maxscaler: Although monetary distribution is now normal, teh other two features do not have normal dsitributions therefore StandardScaler won't be used. MinMaxScaler will be used instead."
   ]
  },
  {
   "cell_type": "code",
   "execution_count": null,
   "id": "57b9bc37",
   "metadata": {},
   "outputs": [],
   "source": [
    "from sklearn.preprocessing import MinMaxScaler\n",
    "scaler = StandardScaler()\n",
    "scaled_array = scaler.fit_transform(rfm_df)\n",
    "scaled_df = pd.DataFrame(scaled_array, index=rfm_df.index, columns=rfm_df.columns)\n",
    "scaled_df"
   ]
  },
  {
   "cell_type": "code",
   "execution_count": 31,
   "id": "0616af32",
   "metadata": {},
   "outputs": [
    {
     "name": "stderr",
     "output_type": "stream",
     "text": [
      "/Users/graham/anaconda3/envs/DataScience/lib/python3.11/site-packages/seaborn/axisgrid.py:118: UserWarning: The figure layout has changed to tight\n",
      "  self._figure.tight_layout(*args, **kwargs)\n"
     ]
    },
    {
     "data": {
      "image/png": "[encoded data removed]",
      "text/plain": [
       "<Figure size 750x750 with 12 Axes>"
      ]
     },
     "metadata": {},
     "output_type": "display_data"
    }
   ],
   "source": [
    "sns.pairplot(data=rfm_df)\n",
    "plt.show()"
   ]
  },
  {
   "cell_type": "markdown",
   "id": "5902e38b",
   "metadata": {},
   "source": [
    "We now have our RFM values for each customer. Before clustering though, we need to scale the values. Clustering methods are sensitive to the scale of values so this step is important to ensure each variable has same level of effect on algorithm.\n",
    "\n",
    "To scale the values we will be grouping them into values from 1-4 based on the magnitude of the number. Information from the quartiles will be used to group each of the RFM values into 4 different bins. For frequency however, it doesn't make sense to make bins similar to the quantile values."
   ]
  },
  {
   "cell_type": "code",
   "execution_count": 32,
   "id": "0c86f492",
   "metadata": {},
   "outputs": [
    {
     "data": {
      "text/html": [
       "<div>\n",
       "<style scoped>\n",
       "    .dataframe tbody tr th:only-of-type {\n",
       "        vertical-align: middle;\n",
       "    }\n",
       "\n",
       "    .dataframe tbody tr th {\n",
       "        vertical-align: top;\n",
       "    }\n",
       "\n",
       "    .dataframe thead th {\n",
       "        text-align: right;\n",
       "    }\n",
       "</style>\n",
       "<table border=\"1\" class=\"dataframe\">\n",
       "  <thead>\n",
       "    <tr style=\"text-align: right;\">\n",
       "      <th></th>\n",
       "      <th>Recency</th>\n",
       "      <th>Frequency</th>\n",
       "      <th>Monetary</th>\n",
       "    </tr>\n",
       "  </thead>\n",
       "  <tbody>\n",
       "    <tr>\n",
       "      <th>count</th>\n",
       "      <td>883660.000000</td>\n",
       "      <td>883660.000000</td>\n",
       "      <td>8.836600e+05</td>\n",
       "    </tr>\n",
       "    <tr>\n",
       "      <th>mean</th>\n",
       "      <td>56.306991</td>\n",
       "      <td>1.185673</td>\n",
       "      <td>1.576040e+03</td>\n",
       "    </tr>\n",
       "    <tr>\n",
       "      <th>std</th>\n",
       "      <td>15.226267</td>\n",
       "      <td>0.450527</td>\n",
       "      <td>6.445248e+03</td>\n",
       "    </tr>\n",
       "    <tr>\n",
       "      <th>min</th>\n",
       "      <td>1.000000</td>\n",
       "      <td>1.000000</td>\n",
       "      <td>1.000000e-02</td>\n",
       "    </tr>\n",
       "    <tr>\n",
       "      <th>25%</th>\n",
       "      <td>44.000000</td>\n",
       "      <td>1.000000</td>\n",
       "      <td>1.930000e+02</td>\n",
       "    </tr>\n",
       "    <tr>\n",
       "      <th>50%</th>\n",
       "      <td>56.000000</td>\n",
       "      <td>1.000000</td>\n",
       "      <td>5.000000e+02</td>\n",
       "    </tr>\n",
       "    <tr>\n",
       "      <th>75%</th>\n",
       "      <td>69.000000</td>\n",
       "      <td>1.000000</td>\n",
       "      <td>1.249020e+03</td>\n",
       "    </tr>\n",
       "    <tr>\n",
       "      <th>max</th>\n",
       "      <td>82.000000</td>\n",
       "      <td>6.000000</td>\n",
       "      <td>1.560035e+06</td>\n",
       "    </tr>\n",
       "  </tbody>\n",
       "</table>\n",
       "</div>"
      ],
      "text/plain": [
       "             Recency      Frequency      Monetary\n",
       "count  883660.000000  883660.000000  8.836600e+05\n",
       "mean       56.306991       1.185673  1.576040e+03\n",
       "std        15.226267       0.450527  6.445248e+03\n",
       "min         1.000000       1.000000  1.000000e-02\n",
       "25%        44.000000       1.000000  1.930000e+02\n",
       "50%        56.000000       1.000000  5.000000e+02\n",
       "75%        69.000000       1.000000  1.249020e+03\n",
       "max        82.000000       6.000000  1.560035e+06"
      ]
     },
     "execution_count": 32,
     "metadata": {},
     "output_type": "execute_result"
    }
   ],
   "source": [
    "rfm_df.describe()"
   ]
  },
  {
   "cell_type": "code",
   "execution_count": 341,
   "id": "d1e75564",
   "metadata": {},
   "outputs": [],
   "source": [
    "# Recency scores should increase as number of days decreases so bins are backwards\n",
    "recency_bins = [rfm_df['Recency'].min(), 20, 44, 56, 69, rfm_df['Recency'].max()]\n",
    "# recency_bins = list(reversed(recency_bins))\n",
    "# print(recency_bins)\n",
    "# Frequency and monetary scores increase as value increases\n",
    "frequency_bins = [rfm_df['Frequency'].min(), 1.9, 2.9, 3.9, 4.9, rfm_df['Frequency'].max()]\n",
    "monetary_bins = [rfm_df['Monetary'].min(), 193, 500, 1250, 50000, rfm_df['Monetary'].max()]\n",
    "labels = [1, 2, 3, 4, 5]"
   ]
  },
  {
   "cell_type": "code",
   "execution_count": 342,
   "id": "9c064580",
   "metadata": {},
   "outputs": [
    {
     "data": {
      "text/plain": [
       "CustomerID\n",
       "C1010011    2\n",
       "C1010012    4\n",
       "C1010014    5\n",
       "C1010018    2\n",
       "C1010024    4\n",
       "           ..\n",
       "C9099836    5\n",
       "C9099877    2\n",
       "C9099919    4\n",
       "C9099941    3\n",
       "C9099956    2\n",
       "Name: Recency, Length: 883660, dtype: category\n",
       "Categories (5, int64): [1 < 2 < 3 < 4 < 5]"
      ]
     },
     "execution_count": 342,
     "metadata": {},
     "output_type": "execute_result"
    }
   ],
   "source": [
    "R_scores = pd.cut(x = rfm_df['Recency'], bins=recency_bins, labels=labels, include_lowest=True)\n",
    "R_scores"
   ]
  },
  {
   "cell_type": "code",
   "execution_count": 347,
   "id": "591a8e26",
   "metadata": {},
   "outputs": [],
   "source": [
    "# Creating a function to group RFM values into bins\n",
    "def get_RFM_scores(df, bins, labels):\n",
    "    '''This function takes a dataframe, a list of bin edges, and labels for bin output as the inputs. It returns a dataframe that contains\n",
    "    each of the columns regrouped into the specified bins with the corresponding labels as values.\n",
    "    \n",
    "    Args:\n",
    "        df(DataFrame): dataframe with columns to be binned.\n",
    "        bins(list): list of lists that each specify bin edges for each df column.\n",
    "        labels(list): list of labels that for returned bins\n",
    "        \n",
    "    Returns:\n",
    "        DataFrame with columns grouped into specified bins with labels as new values.\n",
    "    \n",
    "    Notes: *The recency column must be named \"Recency\" in order for the function to identify it and convert the scores to the proper \n",
    "    direction.\n",
    "    '''\n",
    "    scores = []\n",
    "    bin_count=0\n",
    "    # Getting scores binned scores for each column\n",
    "    for col in df:\n",
    "        score = pd.cut(x = df[col], bins=bins[bin_count], labels=labels, include_lowest=True)\n",
    "        # Converting score to proper direction for Recency column only\n",
    "        if col == 'Recency':\n",
    "            score = 5 - score.astype('int') + 1    \n",
    "        scores.append(score)\n",
    "        bin_count += 1\n",
    "    # Creating dataframe with scores for R, F and M\n",
    "    RFM_scores = pd.DataFrame(scores).transpose()\n",
    "    return RFM_scores"
   ]
  },
  {
   "cell_type": "code",
   "execution_count": 348,
   "id": "4e17e64a",
   "metadata": {},
   "outputs": [
    {
     "data": {
      "text/plain": [
       "Recency      4\n",
       "Frequency    2\n",
       "Monetary     4\n",
       "Name: C1010011, dtype: int64"
      ]
     },
     "execution_count": 348,
     "metadata": {},
     "output_type": "execute_result"
    }
   ],
   "source": [
    "# Calculating RFM scores using function\n",
    "RFM_scores = get_RFM_scores(rfm_df, bins=[recency_bins, frequency_bins, monetary_bins], labels=labels)\n",
    "# CHecking that output for specific customer is correctly binned\n",
    "RFM_scores.loc['C1010011', :]"
   ]
  },
  {
   "cell_type": "code",
   "execution_count": 349,
   "id": "29d49de3",
   "metadata": {},
   "outputs": [
    {
     "data": {
      "text/plain": [
       "Recency        26.0\n",
       "Frequency       2.0\n",
       "Monetary     2553.0\n",
       "Name: C1010011, dtype: float64"
      ]
     },
     "execution_count": 349,
     "metadata": {},
     "output_type": "execute_result"
    }
   ],
   "source": [
    "# Values to compare above\n",
    "rfm_df.loc['C1010011', :]"
   ]
  },
  {
   "cell_type": "markdown",
   "id": "a306027b",
   "metadata": {},
   "source": [
    "As shown above the values are correclt binned accordin to the specified bin edges. The features are now ready for clustering."
   ]
  },
  {
   "cell_type": "code",
   "execution_count": 350,
   "id": "942622c2",
   "metadata": {},
   "outputs": [
    {
     "data": {
      "text/html": [
       "<div>\n",
       "<style scoped>\n",
       "    .dataframe tbody tr th:only-of-type {\n",
       "        vertical-align: middle;\n",
       "    }\n",
       "\n",
       "    .dataframe tbody tr th {\n",
       "        vertical-align: top;\n",
       "    }\n",
       "\n",
       "    .dataframe thead th {\n",
       "        text-align: right;\n",
       "    }\n",
       "</style>\n",
       "<table border=\"1\" class=\"dataframe\">\n",
       "  <thead>\n",
       "    <tr style=\"text-align: right;\">\n",
       "      <th></th>\n",
       "      <th>Recency</th>\n",
       "      <th>Frequency</th>\n",
       "      <th>Monetary</th>\n",
       "    </tr>\n",
       "    <tr>\n",
       "      <th>CustomerID</th>\n",
       "      <th></th>\n",
       "      <th></th>\n",
       "      <th></th>\n",
       "    </tr>\n",
       "  </thead>\n",
       "  <tbody>\n",
       "    <tr>\n",
       "      <th>C1010011</th>\n",
       "      <td>4</td>\n",
       "      <td>2</td>\n",
       "      <td>4</td>\n",
       "    </tr>\n",
       "    <tr>\n",
       "      <th>C1010012</th>\n",
       "      <td>2</td>\n",
       "      <td>1</td>\n",
       "      <td>4</td>\n",
       "    </tr>\n",
       "    <tr>\n",
       "      <th>C1010014</th>\n",
       "      <td>1</td>\n",
       "      <td>2</td>\n",
       "      <td>3</td>\n",
       "    </tr>\n",
       "    <tr>\n",
       "      <th>C1010018</th>\n",
       "      <td>4</td>\n",
       "      <td>1</td>\n",
       "      <td>1</td>\n",
       "    </tr>\n",
       "    <tr>\n",
       "      <th>C1010024</th>\n",
       "      <td>2</td>\n",
       "      <td>1</td>\n",
       "      <td>4</td>\n",
       "    </tr>\n",
       "    <tr>\n",
       "      <th>...</th>\n",
       "      <td>...</td>\n",
       "      <td>...</td>\n",
       "      <td>...</td>\n",
       "    </tr>\n",
       "    <tr>\n",
       "      <th>C9099836</th>\n",
       "      <td>1</td>\n",
       "      <td>1</td>\n",
       "      <td>3</td>\n",
       "    </tr>\n",
       "    <tr>\n",
       "      <th>C9099877</th>\n",
       "      <td>4</td>\n",
       "      <td>1</td>\n",
       "      <td>2</td>\n",
       "    </tr>\n",
       "    <tr>\n",
       "      <th>C9099919</th>\n",
       "      <td>2</td>\n",
       "      <td>1</td>\n",
       "      <td>1</td>\n",
       "    </tr>\n",
       "    <tr>\n",
       "      <th>C9099941</th>\n",
       "      <td>3</td>\n",
       "      <td>1</td>\n",
       "      <td>1</td>\n",
       "    </tr>\n",
       "    <tr>\n",
       "      <th>C9099956</th>\n",
       "      <td>4</td>\n",
       "      <td>1</td>\n",
       "      <td>3</td>\n",
       "    </tr>\n",
       "  </tbody>\n",
       "</table>\n",
       "<p>883660 rows × 3 columns</p>\n",
       "</div>"
      ],
      "text/plain": [
       "            Recency  Frequency  Monetary\n",
       "CustomerID                              \n",
       "C1010011          4          2         4\n",
       "C1010012          2          1         4\n",
       "C1010014          1          2         3\n",
       "C1010018          4          1         1\n",
       "C1010024          2          1         4\n",
       "...             ...        ...       ...\n",
       "C9099836          1          1         3\n",
       "C9099877          4          1         2\n",
       "C9099919          2          1         1\n",
       "C9099941          3          1         1\n",
       "C9099956          4          1         3\n",
       "\n",
       "[883660 rows x 3 columns]"
      ]
     },
     "execution_count": 350,
     "metadata": {},
     "output_type": "execute_result"
    }
   ],
   "source": [
    "RFM_scores"
   ]
  },
  {
   "cell_type": "markdown",
   "id": "3b87ed13",
   "metadata": {},
   "source": [
    "After feature engineering, we can visualize the 3 features to see if clustering looks promising."
   ]
  },
  {
   "cell_type": "markdown",
   "id": "07ea9e58",
   "metadata": {},
   "source": [
    "## Modeling"
   ]
  },
  {
   "cell_type": "markdown",
   "id": "722f23a9",
   "metadata": {},
   "source": [
    "The K-Means clustering model will be used because it works efficiently on large datasets and generally results in tight clusters. It is also very interpretable. It's main downside is having to specify the number of clusters before modeling, but this can be optimized using the elbow method."
   ]
  },
  {
   "cell_type": "code",
   "execution_count": 370,
   "id": "c5f87020",
   "metadata": {},
   "outputs": [
    {
     "name": "stderr",
     "output_type": "stream",
     "text": [
      "/Users/graham/anaconda3/envs/DataScience/lib/python3.11/site-packages/sklearn/cluster/_kmeans.py:870: FutureWarning: The default value of `n_init` will change from 10 to 'auto' in 1.4. Set the value of `n_init` explicitly to suppress the warning\n",
      "  warnings.warn(\n"
     ]
    },
    {
     "data": {
      "text/plain": [
       "array([3, 1, 1, ..., 4, 2, 3], dtype=int32)"
      ]
     },
     "execution_count": 370,
     "metadata": {},
     "output_type": "execute_result"
    }
   ],
   "source": [
    "from sklearn.cluster import KMeans\n",
    "model = KMeans(n_clusters=5, init='k-means++')\n",
    "model.fit(RFM_scores)\n",
    "labels = model.predict(RFM_scores)\n",
    "labels"
   ]
  },
  {
   "cell_type": "code",
   "execution_count": 357,
   "id": "d4085a06",
   "metadata": {},
   "outputs": [
    {
     "data": {
      "text/plain": [
       "(883660,)"
      ]
     },
     "execution_count": 357,
     "metadata": {},
     "output_type": "execute_result"
    }
   ],
   "source": [
    "labels.shape"
   ]
  },
  {
   "cell_type": "code",
   "execution_count": 372,
   "id": "43157fd4",
   "metadata": {},
   "outputs": [],
   "source": [
    "# Calculating inertia for different number of clusters k\n",
    "inertia = []\n",
    "for k in range(2, 9):\n",
    "    model = KMeans(n_clusters=k, init='k-means++', n_init='auto')\n",
    "    model.fit(RFM_scores)\n",
    "    inertia.append(model.inertia_)"
   ]
  },
  {
   "cell_type": "code",
   "execution_count": 376,
   "id": "02db0b02",
   "metadata": {},
   "outputs": [
    {
     "data": {
      "image/png": "[encoded data removed]",
      "text/plain": [
       "<Figure size 640x480 with 1 Axes>"
      ]
     },
     "metadata": {},
     "output_type": "display_data"
    }
   ],
   "source": [
    "# Visualizing optimal k using elbow method\n",
    "sns.lineplot(x=range(2, 9), y=inertia, markers=True)\n",
    "plt.xlabel('Number of Clusters k')\n",
    "plt.ylabel('Inertia')\n",
    "plt.show()"
   ]
  },
  {
   "cell_type": "markdown",
   "id": "2d1b6396",
   "metadata": {},
   "source": [
    "From the elbow plot above the optimal number of clusters is clearly 4 since that is where the 'elbow' of the plot is located."
   ]
  },
  {
   "cell_type": "code",
   "execution_count": 382,
   "id": "948c3207",
   "metadata": {},
   "outputs": [
    {
     "data": {
      "text/html": [
       "<div>\n",
       "<style scoped>\n",
       "    .dataframe tbody tr th:only-of-type {\n",
       "        vertical-align: middle;\n",
       "    }\n",
       "\n",
       "    .dataframe tbody tr th {\n",
       "        vertical-align: top;\n",
       "    }\n",
       "\n",
       "    .dataframe thead th {\n",
       "        text-align: right;\n",
       "    }\n",
       "</style>\n",
       "<table border=\"1\" class=\"dataframe\">\n",
       "  <thead>\n",
       "    <tr style=\"text-align: right;\">\n",
       "      <th></th>\n",
       "      <th>Recency</th>\n",
       "      <th>Frequency</th>\n",
       "      <th>Monetary</th>\n",
       "      <th>Cluster</th>\n",
       "    </tr>\n",
       "    <tr>\n",
       "      <th>CustomerID</th>\n",
       "      <th></th>\n",
       "      <th></th>\n",
       "      <th></th>\n",
       "      <th></th>\n",
       "    </tr>\n",
       "  </thead>\n",
       "  <tbody>\n",
       "    <tr>\n",
       "      <th>C1010011</th>\n",
       "      <td>4</td>\n",
       "      <td>2</td>\n",
       "      <td>4</td>\n",
       "      <td>2</td>\n",
       "    </tr>\n",
       "    <tr>\n",
       "      <th>C1010012</th>\n",
       "      <td>2</td>\n",
       "      <td>1</td>\n",
       "      <td>4</td>\n",
       "      <td>3</td>\n",
       "    </tr>\n",
       "    <tr>\n",
       "      <th>C1010014</th>\n",
       "      <td>1</td>\n",
       "      <td>2</td>\n",
       "      <td>3</td>\n",
       "      <td>3</td>\n",
       "    </tr>\n",
       "    <tr>\n",
       "      <th>C1010018</th>\n",
       "      <td>4</td>\n",
       "      <td>1</td>\n",
       "      <td>1</td>\n",
       "      <td>0</td>\n",
       "    </tr>\n",
       "    <tr>\n",
       "      <th>C1010024</th>\n",
       "      <td>2</td>\n",
       "      <td>1</td>\n",
       "      <td>4</td>\n",
       "      <td>3</td>\n",
       "    </tr>\n",
       "    <tr>\n",
       "      <th>...</th>\n",
       "      <td>...</td>\n",
       "      <td>...</td>\n",
       "      <td>...</td>\n",
       "      <td>...</td>\n",
       "    </tr>\n",
       "    <tr>\n",
       "      <th>C9099836</th>\n",
       "      <td>1</td>\n",
       "      <td>1</td>\n",
       "      <td>3</td>\n",
       "      <td>3</td>\n",
       "    </tr>\n",
       "    <tr>\n",
       "      <th>C9099877</th>\n",
       "      <td>4</td>\n",
       "      <td>1</td>\n",
       "      <td>2</td>\n",
       "      <td>0</td>\n",
       "    </tr>\n",
       "    <tr>\n",
       "      <th>C9099919</th>\n",
       "      <td>2</td>\n",
       "      <td>1</td>\n",
       "      <td>1</td>\n",
       "      <td>1</td>\n",
       "    </tr>\n",
       "    <tr>\n",
       "      <th>C9099941</th>\n",
       "      <td>3</td>\n",
       "      <td>1</td>\n",
       "      <td>1</td>\n",
       "      <td>0</td>\n",
       "    </tr>\n",
       "    <tr>\n",
       "      <th>C9099956</th>\n",
       "      <td>4</td>\n",
       "      <td>1</td>\n",
       "      <td>3</td>\n",
       "      <td>2</td>\n",
       "    </tr>\n",
       "  </tbody>\n",
       "</table>\n",
       "<p>883660 rows × 4 columns</p>\n",
       "</div>"
      ],
      "text/plain": [
       "            Recency  Frequency  Monetary  Cluster\n",
       "CustomerID                                       \n",
       "C1010011          4          2         4        2\n",
       "C1010012          2          1         4        3\n",
       "C1010014          1          2         3        3\n",
       "C1010018          4          1         1        0\n",
       "C1010024          2          1         4        3\n",
       "...             ...        ...       ...      ...\n",
       "C9099836          1          1         3        3\n",
       "C9099877          4          1         2        0\n",
       "C9099919          2          1         1        1\n",
       "C9099941          3          1         1        0\n",
       "C9099956          4          1         3        2\n",
       "\n",
       "[883660 rows x 4 columns]"
      ]
     },
     "execution_count": 382,
     "metadata": {},
     "output_type": "execute_result"
    }
   ],
   "source": [
    "X = RFM_scores[['Recency', 'Frequency', 'Monetary']]\n",
    "# Perform clustering using k=4\n",
    "best_model = KMeans(n_clusters=4, init='k-means++', n_init='auto')\n",
    "# Add cluster column to RFM score df\n",
    "RFM_scores['Cluster'] = best_model.fit_predict(X)\n",
    "RFM_scores"
   ]
  },
  {
   "cell_type": "code",
   "execution_count": 384,
   "id": "b8e2dd35",
   "metadata": {},
   "outputs": [
    {
     "data": {
      "text/html": [
       "<div>\n",
       "<style scoped>\n",
       "    .dataframe tbody tr th:only-of-type {\n",
       "        vertical-align: middle;\n",
       "    }\n",
       "\n",
       "    .dataframe tbody tr th {\n",
       "        vertical-align: top;\n",
       "    }\n",
       "\n",
       "    .dataframe thead th {\n",
       "        text-align: right;\n",
       "    }\n",
       "</style>\n",
       "<table border=\"1\" class=\"dataframe\">\n",
       "  <thead>\n",
       "    <tr style=\"text-align: right;\">\n",
       "      <th></th>\n",
       "      <th>Recency</th>\n",
       "      <th>Frequency</th>\n",
       "      <th>Monetary</th>\n",
       "    </tr>\n",
       "    <tr>\n",
       "      <th>Cluster</th>\n",
       "      <th></th>\n",
       "      <th></th>\n",
       "      <th></th>\n",
       "    </tr>\n",
       "  </thead>\n",
       "  <tbody>\n",
       "    <tr>\n",
       "      <th>0</th>\n",
       "      <td>3.505573</td>\n",
       "      <td>1.203402</td>\n",
       "      <td>1.528087</td>\n",
       "    </tr>\n",
       "    <tr>\n",
       "      <th>1</th>\n",
       "      <td>1.494841</td>\n",
       "      <td>1.070499</td>\n",
       "      <td>1.510066</td>\n",
       "    </tr>\n",
       "    <tr>\n",
       "      <th>2</th>\n",
       "      <td>3.505846</td>\n",
       "      <td>1.344044</td>\n",
       "      <td>3.518464</td>\n",
       "    </tr>\n",
       "    <tr>\n",
       "      <th>3</th>\n",
       "      <td>1.497651</td>\n",
       "      <td>1.122764</td>\n",
       "      <td>3.529833</td>\n",
       "    </tr>\n",
       "  </tbody>\n",
       "</table>\n",
       "</div>"
      ],
      "text/plain": [
       "          Recency  Frequency  Monetary\n",
       "Cluster                               \n",
       "0        3.505573   1.203402  1.528087\n",
       "1        1.494841   1.070499  1.510066\n",
       "2        3.505846   1.344044  3.518464\n",
       "3        1.497651   1.122764  3.529833"
      ]
     },
     "execution_count": 384,
     "metadata": {},
     "output_type": "execute_result"
    }
   ],
   "source": [
    "# Calculating mean RFM scores for each cluster\n",
    "cluster_RFM = RFM_scores.groupby('Cluster').agg({'Recency':'mean', 'Frequency':'mean', 'Monetary': 'mean'})\n",
    "cluster_RFM"
   ]
  },
  {
   "cell_type": "code",
   "execution_count": 394,
   "id": "00f7c1d1",
   "metadata": {},
   "outputs": [
    {
     "data": {
      "image/png": "[encoded data removed]",
      "text/plain": [
       "<Figure size 1000x800 with 3 Axes>"
      ]
     },
     "metadata": {},
     "output_type": "display_data"
    }
   ],
   "source": [
    "# Plotting the mean RFM scores for each cluster for visualization\n",
    "plt.figure(figsize=(10, 8))\n",
    "\n",
    "# Plotting mean Recency\n",
    "plt.subplot(3, 1, 1)\n",
    "sns.barplot(data=cluster_RFM, x=cluster_RFM.index, y='Recency')\n",
    "plt.xlabel('Cluster')\n",
    "plt.ylabel('Recency')\n",
    "\n",
    "# Plotting mean frequency\n",
    "plt.subplot(3, 1, 2)\n",
    "sns.barplot(data=cluster_RFM, x=cluster_RFM.index, y='Frequency')\n",
    "plt.xlabel('Cluster')\n",
    "plt.ylabel('Frequency')\n",
    "\n",
    "# Plotting mean monetary\n",
    "plt.subplot(3, 1, 3)\n",
    "sns.barplot(data=cluster_RFM, x=cluster_RFM.index, y='Monetary')\n",
    "plt.xlabel('Cluster')\n",
    "plt.ylabel('Monetary')\n",
    "\n",
    "plt.subplots_adjust(hspace=0.3)\n",
    "plt.show()"
   ]
  },
  {
   "cell_type": "markdown",
   "id": "9d6292ae",
   "metadata": {},
   "source": [
    "We can see some trends here in the groups. However the frequency column is not very useful as all clusters have similar mean values. We can try adjusting the bins edges to see if we can achieve better frequency differences between each cluster."
   ]
  }
 ],
 "metadata": {
  "kernelspec": {
   "display_name": "Python 3 (ipykernel)",
   "language": "python",
   "name": "python3"
  },
  "language_info": {
   "codemirror_mode": {
    "name": "ipython",
    "version": 3
   },
   "file_extension": ".py",
   "mimetype": "text/x-python",
   "name": "python",
   "nbconvert_exporter": "python",
   "pygments_lexer": "ipython3",
   "version": "3.11.5"
  }
 },
 "nbformat": 4,
 "nbformat_minor": 5
}
