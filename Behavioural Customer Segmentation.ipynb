{
 "cells": [
  {
   "cell_type": "markdown",
   "id": "1bad3849",
   "metadata": {},
   "source": [
    "## Project Objective / Business Relevance"
   ]
  },
  {
   "cell_type": "markdown",
   "id": "8dafb820",
   "metadata": {},
   "source": [
    "The aim of this project is to group bank customers using their transaction behaviour. This will be done using RFM analysis which is a powerful method to quantify behaviour using the following criteria:\n",
    "- Recency: how recent a customer has made a purchase\n",
    "- Frequency: how frequently a customer makes purchases\n",
    "- Monetary: how much money a customer spends\n",
    "\n",
    "The results of this project are extremely useful from a marketing perspective to tailer targeted marketing strategies based on customer behaviour to guide promotional content.\n"
   ]
  },
  {
   "cell_type": "code",
   "execution_count": 77,
   "id": "02c74633",
   "metadata": {},
   "outputs": [],
   "source": [
    "import pandas as pd\n",
    "import numpy as np\n",
    "import matplotlib.pyplot as plt\n",
    "import seaborn as sns"
   ]
  },
  {
   "cell_type": "code",
   "execution_count": 78,
   "id": "0adbb79f",
   "metadata": {},
   "outputs": [],
   "source": [
    "# pd.set_option(\"display.max_rows\", None)\n",
    "# pd.set_option(\"display.max_columns\", None)\n",
    "# pd.reset_option(\"display.max_rows\")\n",
    "# pd.reset_option(\"display.max_columns\")"
   ]
  },
  {
   "cell_type": "markdown",
   "id": "b7775c97",
   "metadata": {},
   "source": [
    "## Importing and Cleaning Data"
   ]
  },
  {
   "cell_type": "markdown",
   "id": "342e9d57",
   "metadata": {},
   "source": [
    "The bank_transactions dataset was taken from kaggle at https://www.kaggle.com/datasets/shivamb/bank-customer-segmentation. The dataset contains over 1 million transactions from an Indian Bank."
   ]
  },
  {
   "cell_type": "code",
   "execution_count": 79,
   "id": "c51b0da4",
   "metadata": {},
   "outputs": [
    {
     "data": {
      "text/html": [
       "<div>\n",
       "<style scoped>\n",
       "    .dataframe tbody tr th:only-of-type {\n",
       "        vertical-align: middle;\n",
       "    }\n",
       "\n",
       "    .dataframe tbody tr th {\n",
       "        vertical-align: top;\n",
       "    }\n",
       "\n",
       "    .dataframe thead th {\n",
       "        text-align: right;\n",
       "    }\n",
       "</style>\n",
       "<table border=\"1\" class=\"dataframe\">\n",
       "  <thead>\n",
       "    <tr style=\"text-align: right;\">\n",
       "      <th></th>\n",
       "      <th>TransactionID</th>\n",
       "      <th>CustomerID</th>\n",
       "      <th>CustomerDOB</th>\n",
       "      <th>CustGender</th>\n",
       "      <th>CustLocation</th>\n",
       "      <th>CustAccountBalance</th>\n",
       "      <th>TransactionDate</th>\n",
       "      <th>TransactionTime</th>\n",
       "      <th>TransactionAmount (INR)</th>\n",
       "    </tr>\n",
       "  </thead>\n",
       "  <tbody>\n",
       "    <tr>\n",
       "      <th>0</th>\n",
       "      <td>T1</td>\n",
       "      <td>C5841053</td>\n",
       "      <td>10/1/94</td>\n",
       "      <td>F</td>\n",
       "      <td>JAMSHEDPUR</td>\n",
       "      <td>17819.05</td>\n",
       "      <td>2/8/16</td>\n",
       "      <td>143207</td>\n",
       "      <td>25.0</td>\n",
       "    </tr>\n",
       "    <tr>\n",
       "      <th>1</th>\n",
       "      <td>T2</td>\n",
       "      <td>C2142763</td>\n",
       "      <td>4/4/57</td>\n",
       "      <td>M</td>\n",
       "      <td>JHAJJAR</td>\n",
       "      <td>2270.69</td>\n",
       "      <td>2/8/16</td>\n",
       "      <td>141858</td>\n",
       "      <td>27999.0</td>\n",
       "    </tr>\n",
       "    <tr>\n",
       "      <th>2</th>\n",
       "      <td>T3</td>\n",
       "      <td>C4417068</td>\n",
       "      <td>26/11/96</td>\n",
       "      <td>F</td>\n",
       "      <td>MUMBAI</td>\n",
       "      <td>17874.44</td>\n",
       "      <td>2/8/16</td>\n",
       "      <td>142712</td>\n",
       "      <td>459.0</td>\n",
       "    </tr>\n",
       "    <tr>\n",
       "      <th>3</th>\n",
       "      <td>T4</td>\n",
       "      <td>C5342380</td>\n",
       "      <td>14/9/73</td>\n",
       "      <td>F</td>\n",
       "      <td>MUMBAI</td>\n",
       "      <td>866503.21</td>\n",
       "      <td>2/8/16</td>\n",
       "      <td>142714</td>\n",
       "      <td>2060.0</td>\n",
       "    </tr>\n",
       "    <tr>\n",
       "      <th>4</th>\n",
       "      <td>T5</td>\n",
       "      <td>C9031234</td>\n",
       "      <td>24/3/88</td>\n",
       "      <td>F</td>\n",
       "      <td>NAVI MUMBAI</td>\n",
       "      <td>6714.43</td>\n",
       "      <td>2/8/16</td>\n",
       "      <td>181156</td>\n",
       "      <td>1762.5</td>\n",
       "    </tr>\n",
       "    <tr>\n",
       "      <th>...</th>\n",
       "      <td>...</td>\n",
       "      <td>...</td>\n",
       "      <td>...</td>\n",
       "      <td>...</td>\n",
       "      <td>...</td>\n",
       "      <td>...</td>\n",
       "      <td>...</td>\n",
       "      <td>...</td>\n",
       "      <td>...</td>\n",
       "    </tr>\n",
       "    <tr>\n",
       "      <th>1048562</th>\n",
       "      <td>T1048563</td>\n",
       "      <td>C8020229</td>\n",
       "      <td>8/4/90</td>\n",
       "      <td>M</td>\n",
       "      <td>NEW DELHI</td>\n",
       "      <td>7635.19</td>\n",
       "      <td>18/9/16</td>\n",
       "      <td>184824</td>\n",
       "      <td>799.0</td>\n",
       "    </tr>\n",
       "    <tr>\n",
       "      <th>1048563</th>\n",
       "      <td>T1048564</td>\n",
       "      <td>C6459278</td>\n",
       "      <td>20/2/92</td>\n",
       "      <td>M</td>\n",
       "      <td>NASHIK</td>\n",
       "      <td>27311.42</td>\n",
       "      <td>18/9/16</td>\n",
       "      <td>183734</td>\n",
       "      <td>460.0</td>\n",
       "    </tr>\n",
       "    <tr>\n",
       "      <th>1048564</th>\n",
       "      <td>T1048565</td>\n",
       "      <td>C6412354</td>\n",
       "      <td>18/5/89</td>\n",
       "      <td>M</td>\n",
       "      <td>HYDERABAD</td>\n",
       "      <td>221757.06</td>\n",
       "      <td>18/9/16</td>\n",
       "      <td>183313</td>\n",
       "      <td>770.0</td>\n",
       "    </tr>\n",
       "    <tr>\n",
       "      <th>1048565</th>\n",
       "      <td>T1048566</td>\n",
       "      <td>C6420483</td>\n",
       "      <td>30/8/78</td>\n",
       "      <td>M</td>\n",
       "      <td>VISAKHAPATNAM</td>\n",
       "      <td>10117.87</td>\n",
       "      <td>18/9/16</td>\n",
       "      <td>184706</td>\n",
       "      <td>1000.0</td>\n",
       "    </tr>\n",
       "    <tr>\n",
       "      <th>1048566</th>\n",
       "      <td>T1048567</td>\n",
       "      <td>C8337524</td>\n",
       "      <td>5/3/84</td>\n",
       "      <td>M</td>\n",
       "      <td>PUNE</td>\n",
       "      <td>75734.42</td>\n",
       "      <td>18/9/16</td>\n",
       "      <td>181222</td>\n",
       "      <td>1166.0</td>\n",
       "    </tr>\n",
       "  </tbody>\n",
       "</table>\n",
       "<p>1048567 rows × 9 columns</p>\n",
       "</div>"
      ],
      "text/plain": [
       "        TransactionID CustomerID CustomerDOB CustGender   CustLocation  \\\n",
       "0                  T1   C5841053     10/1/94          F     JAMSHEDPUR   \n",
       "1                  T2   C2142763      4/4/57          M        JHAJJAR   \n",
       "2                  T3   C4417068    26/11/96          F         MUMBAI   \n",
       "3                  T4   C5342380     14/9/73          F         MUMBAI   \n",
       "4                  T5   C9031234     24/3/88          F    NAVI MUMBAI   \n",
       "...               ...        ...         ...        ...            ...   \n",
       "1048562      T1048563   C8020229      8/4/90          M      NEW DELHI   \n",
       "1048563      T1048564   C6459278     20/2/92          M         NASHIK   \n",
       "1048564      T1048565   C6412354     18/5/89          M      HYDERABAD   \n",
       "1048565      T1048566   C6420483     30/8/78          M  VISAKHAPATNAM   \n",
       "1048566      T1048567   C8337524      5/3/84          M           PUNE   \n",
       "\n",
       "         CustAccountBalance TransactionDate  TransactionTime  \\\n",
       "0                  17819.05          2/8/16           143207   \n",
       "1                   2270.69          2/8/16           141858   \n",
       "2                  17874.44          2/8/16           142712   \n",
       "3                 866503.21          2/8/16           142714   \n",
       "4                   6714.43          2/8/16           181156   \n",
       "...                     ...             ...              ...   \n",
       "1048562             7635.19         18/9/16           184824   \n",
       "1048563            27311.42         18/9/16           183734   \n",
       "1048564           221757.06         18/9/16           183313   \n",
       "1048565            10117.87         18/9/16           184706   \n",
       "1048566            75734.42         18/9/16           181222   \n",
       "\n",
       "         TransactionAmount (INR)  \n",
       "0                           25.0  \n",
       "1                        27999.0  \n",
       "2                          459.0  \n",
       "3                         2060.0  \n",
       "4                         1762.5  \n",
       "...                          ...  \n",
       "1048562                    799.0  \n",
       "1048563                    460.0  \n",
       "1048564                    770.0  \n",
       "1048565                   1000.0  \n",
       "1048566                   1166.0  \n",
       "\n",
       "[1048567 rows x 9 columns]"
      ]
     },
     "execution_count": 79,
     "metadata": {},
     "output_type": "execute_result"
    }
   ],
   "source": [
    "# Importing bank transactions data\n",
    "bank_df = pd.read_csv('bank_transactions.csv')\n",
    "bank_df"
   ]
  },
  {
   "cell_type": "markdown",
   "id": "f76b76a9",
   "metadata": {},
   "source": [
    "First the columns that would be used for demographic segmentation but are not of interest to us are removed. In addition, the account balance and the transaction time will not be used. Only the transaction date will be used for recency as the number of days since the last transaction is sufficient information for recency criteria."
   ]
  },
  {
   "cell_type": "code",
   "execution_count": 80,
   "id": "4d7e7739",
   "metadata": {},
   "outputs": [
    {
     "data": {
      "text/html": [
       "<div>\n",
       "<style scoped>\n",
       "    .dataframe tbody tr th:only-of-type {\n",
       "        vertical-align: middle;\n",
       "    }\n",
       "\n",
       "    .dataframe tbody tr th {\n",
       "        vertical-align: top;\n",
       "    }\n",
       "\n",
       "    .dataframe thead th {\n",
       "        text-align: right;\n",
       "    }\n",
       "</style>\n",
       "<table border=\"1\" class=\"dataframe\">\n",
       "  <thead>\n",
       "    <tr style=\"text-align: right;\">\n",
       "      <th></th>\n",
       "      <th>TransactionID</th>\n",
       "      <th>CustomerID</th>\n",
       "      <th>TransactionDate</th>\n",
       "      <th>TransactionAmount (INR)</th>\n",
       "    </tr>\n",
       "  </thead>\n",
       "  <tbody>\n",
       "    <tr>\n",
       "      <th>0</th>\n",
       "      <td>T1</td>\n",
       "      <td>C5841053</td>\n",
       "      <td>2/8/16</td>\n",
       "      <td>25.0</td>\n",
       "    </tr>\n",
       "    <tr>\n",
       "      <th>1</th>\n",
       "      <td>T2</td>\n",
       "      <td>C2142763</td>\n",
       "      <td>2/8/16</td>\n",
       "      <td>27999.0</td>\n",
       "    </tr>\n",
       "    <tr>\n",
       "      <th>2</th>\n",
       "      <td>T3</td>\n",
       "      <td>C4417068</td>\n",
       "      <td>2/8/16</td>\n",
       "      <td>459.0</td>\n",
       "    </tr>\n",
       "    <tr>\n",
       "      <th>3</th>\n",
       "      <td>T4</td>\n",
       "      <td>C5342380</td>\n",
       "      <td>2/8/16</td>\n",
       "      <td>2060.0</td>\n",
       "    </tr>\n",
       "    <tr>\n",
       "      <th>4</th>\n",
       "      <td>T5</td>\n",
       "      <td>C9031234</td>\n",
       "      <td>2/8/16</td>\n",
       "      <td>1762.5</td>\n",
       "    </tr>\n",
       "    <tr>\n",
       "      <th>...</th>\n",
       "      <td>...</td>\n",
       "      <td>...</td>\n",
       "      <td>...</td>\n",
       "      <td>...</td>\n",
       "    </tr>\n",
       "    <tr>\n",
       "      <th>1048562</th>\n",
       "      <td>T1048563</td>\n",
       "      <td>C8020229</td>\n",
       "      <td>18/9/16</td>\n",
       "      <td>799.0</td>\n",
       "    </tr>\n",
       "    <tr>\n",
       "      <th>1048563</th>\n",
       "      <td>T1048564</td>\n",
       "      <td>C6459278</td>\n",
       "      <td>18/9/16</td>\n",
       "      <td>460.0</td>\n",
       "    </tr>\n",
       "    <tr>\n",
       "      <th>1048564</th>\n",
       "      <td>T1048565</td>\n",
       "      <td>C6412354</td>\n",
       "      <td>18/9/16</td>\n",
       "      <td>770.0</td>\n",
       "    </tr>\n",
       "    <tr>\n",
       "      <th>1048565</th>\n",
       "      <td>T1048566</td>\n",
       "      <td>C6420483</td>\n",
       "      <td>18/9/16</td>\n",
       "      <td>1000.0</td>\n",
       "    </tr>\n",
       "    <tr>\n",
       "      <th>1048566</th>\n",
       "      <td>T1048567</td>\n",
       "      <td>C8337524</td>\n",
       "      <td>18/9/16</td>\n",
       "      <td>1166.0</td>\n",
       "    </tr>\n",
       "  </tbody>\n",
       "</table>\n",
       "<p>1048567 rows × 4 columns</p>\n",
       "</div>"
      ],
      "text/plain": [
       "        TransactionID CustomerID TransactionDate  TransactionAmount (INR)\n",
       "0                  T1   C5841053          2/8/16                     25.0\n",
       "1                  T2   C2142763          2/8/16                  27999.0\n",
       "2                  T3   C4417068          2/8/16                    459.0\n",
       "3                  T4   C5342380          2/8/16                   2060.0\n",
       "4                  T5   C9031234          2/8/16                   1762.5\n",
       "...               ...        ...             ...                      ...\n",
       "1048562      T1048563   C8020229         18/9/16                    799.0\n",
       "1048563      T1048564   C6459278         18/9/16                    460.0\n",
       "1048564      T1048565   C6412354         18/9/16                    770.0\n",
       "1048565      T1048566   C6420483         18/9/16                   1000.0\n",
       "1048566      T1048567   C8337524         18/9/16                   1166.0\n",
       "\n",
       "[1048567 rows x 4 columns]"
      ]
     },
     "execution_count": 80,
     "metadata": {},
     "output_type": "execute_result"
    }
   ],
   "source": [
    "# Dropping columns that won't be used\n",
    "bank_df = bank_df.drop(['CustomerDOB', 'CustGender', 'CustLocation', 'CustAccountBalance', 'TransactionTime'], axis=1)\n",
    "bank_df"
   ]
  },
  {
   "cell_type": "code",
   "execution_count": 81,
   "id": "9e2d90cb",
   "metadata": {},
   "outputs": [
    {
     "data": {
      "text/plain": [
       "TransactionID              0\n",
       "CustomerID                 0\n",
       "TransactionDate            0\n",
       "TransactionAmount (INR)    0\n",
       "dtype: int64"
      ]
     },
     "execution_count": 81,
     "metadata": {},
     "output_type": "execute_result"
    }
   ],
   "source": [
    "# Checking for missing values\n",
    "bank_df.isna().sum()"
   ]
  },
  {
   "cell_type": "markdown",
   "id": "88e97c7b",
   "metadata": {},
   "source": [
    "There are no missing values in the remaining columns."
   ]
  },
  {
   "cell_type": "code",
   "execution_count": 82,
   "id": "a297d11f",
   "metadata": {},
   "outputs": [
    {
     "data": {
      "text/plain": [
       "TransactionID               object\n",
       "CustomerID                  object\n",
       "TransactionDate             object\n",
       "TransactionAmount (INR)    float64\n",
       "dtype: object"
      ]
     },
     "execution_count": 82,
     "metadata": {},
     "output_type": "execute_result"
    }
   ],
   "source": [
    "# Showing column data types\n",
    "bank_df.dtypes"
   ]
  },
  {
   "cell_type": "code",
   "execution_count": 83,
   "id": "ee89127c",
   "metadata": {},
   "outputs": [
    {
     "data": {
      "text/plain": [
       "array(['2/8/16', '1/8/16', '3/8/16', '5/8/16', '4/8/16', '6/8/16',\n",
       "       '9/8/16', '8/8/16', '12/8/16', '7/8/16', '21/10/16', '16/10/16',\n",
       "       '10/8/16', '14/8/16', '17/8/16', '21/8/16', '19/8/16', '24/8/16',\n",
       "       '22/8/16', '29/8/16', '31/8/16', '22/9/16', '23/9/16', '13/8/16',\n",
       "       '25/8/16', '28/8/16', '15/8/16', '27/8/16', '20/8/16', '23/8/16',\n",
       "       '30/8/16', '11/8/16', '16/8/16', '26/8/16', '27/9/16', '18/8/16',\n",
       "       '25/9/16', '26/9/16', '30/9/16', '3/9/16', '2/9/16', '1/9/16',\n",
       "       '6/9/16', '5/9/16', '4/9/16', '9/9/16', '8/9/16', '7/9/16',\n",
       "       '12/9/16', '11/9/16', '10/9/16', '15/9/16', '14/9/16', '13/9/16',\n",
       "       '18/9/16'], dtype=object)"
      ]
     },
     "execution_count": 83,
     "metadata": {},
     "output_type": "execute_result"
    }
   ],
   "source": [
    "# Displaying number of unique dates in dataset\n",
    "bank_df['TransactionDate'].unique()"
   ]
  },
  {
   "cell_type": "markdown",
   "id": "58299633",
   "metadata": {},
   "source": [
    "From the date entries it is clear that the dates are spread out over 3 months in 2016 (Aug, Sep, Oct) so the format is day/month/year."
   ]
  },
  {
   "cell_type": "code",
   "execution_count": 84,
   "id": "67f02296",
   "metadata": {},
   "outputs": [
    {
     "data": {
      "text/plain": [
       "0         2016-08-02\n",
       "1         2016-08-02\n",
       "2         2016-08-02\n",
       "3         2016-08-02\n",
       "4         2016-08-02\n",
       "             ...    \n",
       "1048562   2016-09-18\n",
       "1048563   2016-09-18\n",
       "1048564   2016-09-18\n",
       "1048565   2016-09-18\n",
       "1048566   2016-09-18\n",
       "Name: TransactionDate, Length: 1048567, dtype: datetime64[ns]"
      ]
     },
     "execution_count": 84,
     "metadata": {},
     "output_type": "execute_result"
    }
   ],
   "source": [
    "# Converting TransactionDate type to DateTime\n",
    "from datetime import date\n",
    "bank_df['TransactionDate'] = pd.to_datetime(bank_df['TransactionDate'], format=\"%d/%m/%y\")\n",
    "bank_df['TransactionDate']"
   ]
  },
  {
   "cell_type": "markdown",
   "id": "c8c3ca56",
   "metadata": {},
   "source": [
    "We would convert the transaction amount values from Indian Rupees (INR) to CAD or USD. However, general prices in india likely don't convert the same way currency does. So the amounts will be kept in INR for now."
   ]
  },
  {
   "cell_type": "code",
   "execution_count": 87,
   "id": "8f94e3b6",
   "metadata": {},
   "outputs": [
    {
     "data": {
      "text/html": [
       "<div>\n",
       "<style scoped>\n",
       "    .dataframe tbody tr th:only-of-type {\n",
       "        vertical-align: middle;\n",
       "    }\n",
       "\n",
       "    .dataframe tbody tr th {\n",
       "        vertical-align: top;\n",
       "    }\n",
       "\n",
       "    .dataframe thead th {\n",
       "        text-align: right;\n",
       "    }\n",
       "</style>\n",
       "<table border=\"1\" class=\"dataframe\">\n",
       "  <thead>\n",
       "    <tr style=\"text-align: right;\">\n",
       "      <th></th>\n",
       "      <th>TransactionDate</th>\n",
       "      <th>TransactionAmount (INR)</th>\n",
       "    </tr>\n",
       "  </thead>\n",
       "  <tbody>\n",
       "    <tr>\n",
       "      <th>count</th>\n",
       "      <td>1048567</td>\n",
       "      <td>1.048567e+06</td>\n",
       "    </tr>\n",
       "    <tr>\n",
       "      <th>mean</th>\n",
       "      <td>2016-08-25 04:33:33.797497600</td>\n",
       "      <td>1.574335e+03</td>\n",
       "    </tr>\n",
       "    <tr>\n",
       "      <th>min</th>\n",
       "      <td>2016-08-01 00:00:00</td>\n",
       "      <td>0.000000e+00</td>\n",
       "    </tr>\n",
       "    <tr>\n",
       "      <th>25%</th>\n",
       "      <td>2016-08-12 00:00:00</td>\n",
       "      <td>1.610000e+02</td>\n",
       "    </tr>\n",
       "    <tr>\n",
       "      <th>50%</th>\n",
       "      <td>2016-08-25 00:00:00</td>\n",
       "      <td>4.590300e+02</td>\n",
       "    </tr>\n",
       "    <tr>\n",
       "      <th>75%</th>\n",
       "      <td>2016-09-06 00:00:00</td>\n",
       "      <td>1.200000e+03</td>\n",
       "    </tr>\n",
       "    <tr>\n",
       "      <th>max</th>\n",
       "      <td>2016-10-21 00:00:00</td>\n",
       "      <td>1.560035e+06</td>\n",
       "    </tr>\n",
       "    <tr>\n",
       "      <th>std</th>\n",
       "      <td>NaN</td>\n",
       "      <td>6.574743e+03</td>\n",
       "    </tr>\n",
       "  </tbody>\n",
       "</table>\n",
       "</div>"
      ],
      "text/plain": [
       "                     TransactionDate  TransactionAmount (INR)\n",
       "count                        1048567             1.048567e+06\n",
       "mean   2016-08-25 04:33:33.797497600             1.574335e+03\n",
       "min              2016-08-01 00:00:00             0.000000e+00\n",
       "25%              2016-08-12 00:00:00             1.610000e+02\n",
       "50%              2016-08-25 00:00:00             4.590300e+02\n",
       "75%              2016-09-06 00:00:00             1.200000e+03\n",
       "max              2016-10-21 00:00:00             1.560035e+06\n",
       "std                              NaN             6.574743e+03"
      ]
     },
     "execution_count": 87,
     "metadata": {},
     "output_type": "execute_result"
    }
   ],
   "source": [
    "bank_df.describe()"
   ]
  },
  {
   "cell_type": "code",
   "execution_count": 90,
   "id": "564af3d7",
   "metadata": {},
   "outputs": [
    {
     "name": "stdout",
     "output_type": "stream",
     "text": [
      "There are 112134 outliers.\n"
     ]
    }
   ],
   "source": [
    "# Determining outliers\n",
    "Q1 = bank_df['TransactionAmount (INR)'].quantile(0.25)\n",
    "Q3 = bank_df['TransactionAmount (INR)'].quantile(0.75)\n",
    "IQR = Q3 - Q1\n",
    "outliers_filter = (bank_df['TransactionAmount (INR)'] < (Q1 - 1.5 * IQR)) | (bank_df['TransactionAmount (INR)'] > (Q3 + 1.5 * IQR))\n",
    "outliers = bank_df[outliers_filter]\n",
    "outliers['TransactionAmount (INR)'].unique()\n",
    "print(f\"There are {len(outliers)} outliers.\")"
   ]
  },
  {
   "cell_type": "markdown",
   "id": "587529db",
   "metadata": {},
   "source": [
    "Because transaction amounts can very significantly there is a large variation in the values in this column. The IQR outlier method determines there are 112134 outliers in this dataset (which is roughly a tenth of the dataset). These are likely actual transactions from clients spending large sums of money instead of erros in data collection. These outliers will therefore be kept. "
   ]
  }
 ],
 "metadata": {
  "kernelspec": {
   "display_name": "Python 3 (ipykernel)",
   "language": "python",
   "name": "python3"
  },
  "language_info": {
   "codemirror_mode": {
    "name": "ipython",
    "version": 3
   },
   "file_extension": ".py",
   "mimetype": "text/x-python",
   "name": "python",
   "nbconvert_exporter": "python",
   "pygments_lexer": "ipython3",
   "version": "3.11.5"
  }
 },
 "nbformat": 4,
 "nbformat_minor": 5
}
