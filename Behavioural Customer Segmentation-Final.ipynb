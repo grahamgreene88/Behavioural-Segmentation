{
 "cells": [
  {
   "cell_type": "markdown",
   "id": "f1d4bf74",
   "metadata": {},
   "source": [
    "## Project Objective / Business Relevance"
   ]
  },
  {
   "cell_type": "markdown",
   "id": "7d5742aa",
   "metadata": {},
   "source": [
    "The aim of this project is to group bank customers using their transaction behaviour. This will be done using RFM analysis which is a powerful method to quantify behaviour using the following criteria:\n",
    "- Recency: how recent a customer has made a purchase\n",
    "- Frequency: how frequently a customer makes purchases\n",
    "- Monetary: how much money a customer spends\n",
    "\n",
    "The results of this project are extremely useful from a marketing perspective to tailer targeted marketing strategies based on customer behaviour to guide promotional content.\n"
   ]
  },
  {
   "cell_type": "code",
   "execution_count": 283,
   "id": "02c74633",
   "metadata": {},
   "outputs": [],
   "source": [
    "import pandas as pd\n",
    "import numpy as np\n",
    "import matplotlib.pyplot as plt\n",
    "import seaborn as sns"
   ]
  },
  {
   "cell_type": "code",
   "execution_count": 284,
   "id": "0adbb79f",
   "metadata": {},
   "outputs": [],
   "source": [
    "# pd.set_option(\"display.max_rows\", None)\n",
    "# pd.set_option(\"display.max_columns\", None)\n",
    "# pd.reset_option(\"display.max_rows\")\n",
    "# pd.reset_option(\"display.max_columns\")"
   ]
  },
  {
   "cell_type": "markdown",
   "id": "7a6f23f9",
   "metadata": {},
   "source": [
    "## Importing and Cleaning Data"
   ]
  },
  {
   "cell_type": "markdown",
   "id": "82e4256a",
   "metadata": {},
   "source": [
    "The bank_transactions dataset was taken from kaggle at https://www.kaggle.com/datasets/shivamb/bank-customer-segmentation. The dataset contains over 1 million transactions from an Indian Bank."
   ]
  },
  {
   "cell_type": "code",
   "execution_count": 285,
   "id": "4d7cc9da",
   "metadata": {},
   "outputs": [
    {
     "data": {
      "text/html": [
       "<div>\n",
       "<style scoped>\n",
       "    .dataframe tbody tr th:only-of-type {\n",
       "        vertical-align: middle;\n",
       "    }\n",
       "\n",
       "    .dataframe tbody tr th {\n",
       "        vertical-align: top;\n",
       "    }\n",
       "\n",
       "    .dataframe thead th {\n",
       "        text-align: right;\n",
       "    }\n",
       "</style>\n",
       "<table border=\"1\" class=\"dataframe\">\n",
       "  <thead>\n",
       "    <tr style=\"text-align: right;\">\n",
       "      <th></th>\n",
       "      <th>TransactionID</th>\n",
       "      <th>CustomerID</th>\n",
       "      <th>CustomerDOB</th>\n",
       "      <th>CustGender</th>\n",
       "      <th>CustLocation</th>\n",
       "      <th>CustAccountBalance</th>\n",
       "      <th>TransactionDate</th>\n",
       "      <th>TransactionTime</th>\n",
       "      <th>TransactionAmount (INR)</th>\n",
       "    </tr>\n",
       "  </thead>\n",
       "  <tbody>\n",
       "    <tr>\n",
       "      <th>0</th>\n",
       "      <td>T1</td>\n",
       "      <td>C5841053</td>\n",
       "      <td>10/1/94</td>\n",
       "      <td>F</td>\n",
       "      <td>JAMSHEDPUR</td>\n",
       "      <td>17819.05</td>\n",
       "      <td>2/8/16</td>\n",
       "      <td>143207</td>\n",
       "      <td>25.0</td>\n",
       "    </tr>\n",
       "    <tr>\n",
       "      <th>1</th>\n",
       "      <td>T2</td>\n",
       "      <td>C2142763</td>\n",
       "      <td>4/4/57</td>\n",
       "      <td>M</td>\n",
       "      <td>JHAJJAR</td>\n",
       "      <td>2270.69</td>\n",
       "      <td>2/8/16</td>\n",
       "      <td>141858</td>\n",
       "      <td>27999.0</td>\n",
       "    </tr>\n",
       "    <tr>\n",
       "      <th>2</th>\n",
       "      <td>T3</td>\n",
       "      <td>C4417068</td>\n",
       "      <td>26/11/96</td>\n",
       "      <td>F</td>\n",
       "      <td>MUMBAI</td>\n",
       "      <td>17874.44</td>\n",
       "      <td>2/8/16</td>\n",
       "      <td>142712</td>\n",
       "      <td>459.0</td>\n",
       "    </tr>\n",
       "    <tr>\n",
       "      <th>3</th>\n",
       "      <td>T4</td>\n",
       "      <td>C5342380</td>\n",
       "      <td>14/9/73</td>\n",
       "      <td>F</td>\n",
       "      <td>MUMBAI</td>\n",
       "      <td>866503.21</td>\n",
       "      <td>2/8/16</td>\n",
       "      <td>142714</td>\n",
       "      <td>2060.0</td>\n",
       "    </tr>\n",
       "    <tr>\n",
       "      <th>4</th>\n",
       "      <td>T5</td>\n",
       "      <td>C9031234</td>\n",
       "      <td>24/3/88</td>\n",
       "      <td>F</td>\n",
       "      <td>NAVI MUMBAI</td>\n",
       "      <td>6714.43</td>\n",
       "      <td>2/8/16</td>\n",
       "      <td>181156</td>\n",
       "      <td>1762.5</td>\n",
       "    </tr>\n",
       "    <tr>\n",
       "      <th>...</th>\n",
       "      <td>...</td>\n",
       "      <td>...</td>\n",
       "      <td>...</td>\n",
       "      <td>...</td>\n",
       "      <td>...</td>\n",
       "      <td>...</td>\n",
       "      <td>...</td>\n",
       "      <td>...</td>\n",
       "      <td>...</td>\n",
       "    </tr>\n",
       "    <tr>\n",
       "      <th>1048562</th>\n",
       "      <td>T1048563</td>\n",
       "      <td>C8020229</td>\n",
       "      <td>8/4/90</td>\n",
       "      <td>M</td>\n",
       "      <td>NEW DELHI</td>\n",
       "      <td>7635.19</td>\n",
       "      <td>18/9/16</td>\n",
       "      <td>184824</td>\n",
       "      <td>799.0</td>\n",
       "    </tr>\n",
       "    <tr>\n",
       "      <th>1048563</th>\n",
       "      <td>T1048564</td>\n",
       "      <td>C6459278</td>\n",
       "      <td>20/2/92</td>\n",
       "      <td>M</td>\n",
       "      <td>NASHIK</td>\n",
       "      <td>27311.42</td>\n",
       "      <td>18/9/16</td>\n",
       "      <td>183734</td>\n",
       "      <td>460.0</td>\n",
       "    </tr>\n",
       "    <tr>\n",
       "      <th>1048564</th>\n",
       "      <td>T1048565</td>\n",
       "      <td>C6412354</td>\n",
       "      <td>18/5/89</td>\n",
       "      <td>M</td>\n",
       "      <td>HYDERABAD</td>\n",
       "      <td>221757.06</td>\n",
       "      <td>18/9/16</td>\n",
       "      <td>183313</td>\n",
       "      <td>770.0</td>\n",
       "    </tr>\n",
       "    <tr>\n",
       "      <th>1048565</th>\n",
       "      <td>T1048566</td>\n",
       "      <td>C6420483</td>\n",
       "      <td>30/8/78</td>\n",
       "      <td>M</td>\n",
       "      <td>VISAKHAPATNAM</td>\n",
       "      <td>10117.87</td>\n",
       "      <td>18/9/16</td>\n",
       "      <td>184706</td>\n",
       "      <td>1000.0</td>\n",
       "    </tr>\n",
       "    <tr>\n",
       "      <th>1048566</th>\n",
       "      <td>T1048567</td>\n",
       "      <td>C8337524</td>\n",
       "      <td>5/3/84</td>\n",
       "      <td>M</td>\n",
       "      <td>PUNE</td>\n",
       "      <td>75734.42</td>\n",
       "      <td>18/9/16</td>\n",
       "      <td>181222</td>\n",
       "      <td>1166.0</td>\n",
       "    </tr>\n",
       "  </tbody>\n",
       "</table>\n",
       "<p>1048567 rows × 9 columns</p>\n",
       "</div>"
      ],
      "text/plain": [
       "        TransactionID CustomerID CustomerDOB CustGender   CustLocation  \\\n",
       "0                  T1   C5841053     10/1/94          F     JAMSHEDPUR   \n",
       "1                  T2   C2142763      4/4/57          M        JHAJJAR   \n",
       "2                  T3   C4417068    26/11/96          F         MUMBAI   \n",
       "3                  T4   C5342380     14/9/73          F         MUMBAI   \n",
       "4                  T5   C9031234     24/3/88          F    NAVI MUMBAI   \n",
       "...               ...        ...         ...        ...            ...   \n",
       "1048562      T1048563   C8020229      8/4/90          M      NEW DELHI   \n",
       "1048563      T1048564   C6459278     20/2/92          M         NASHIK   \n",
       "1048564      T1048565   C6412354     18/5/89          M      HYDERABAD   \n",
       "1048565      T1048566   C6420483     30/8/78          M  VISAKHAPATNAM   \n",
       "1048566      T1048567   C8337524      5/3/84          M           PUNE   \n",
       "\n",
       "         CustAccountBalance TransactionDate  TransactionTime  \\\n",
       "0                  17819.05          2/8/16           143207   \n",
       "1                   2270.69          2/8/16           141858   \n",
       "2                  17874.44          2/8/16           142712   \n",
       "3                 866503.21          2/8/16           142714   \n",
       "4                   6714.43          2/8/16           181156   \n",
       "...                     ...             ...              ...   \n",
       "1048562             7635.19         18/9/16           184824   \n",
       "1048563            27311.42         18/9/16           183734   \n",
       "1048564           221757.06         18/9/16           183313   \n",
       "1048565            10117.87         18/9/16           184706   \n",
       "1048566            75734.42         18/9/16           181222   \n",
       "\n",
       "         TransactionAmount (INR)  \n",
       "0                           25.0  \n",
       "1                        27999.0  \n",
       "2                          459.0  \n",
       "3                         2060.0  \n",
       "4                         1762.5  \n",
       "...                          ...  \n",
       "1048562                    799.0  \n",
       "1048563                    460.0  \n",
       "1048564                    770.0  \n",
       "1048565                   1000.0  \n",
       "1048566                   1166.0  \n",
       "\n",
       "[1048567 rows x 9 columns]"
      ]
     },
     "execution_count": 285,
     "metadata": {},
     "output_type": "execute_result"
    }
   ],
   "source": [
    "# Importing bank transactions data\n",
    "bank_df = pd.read_csv('bank_transactions.csv')\n",
    "bank_df"
   ]
  },
  {
   "cell_type": "markdown",
   "id": "49ef32f2",
   "metadata": {},
   "source": [
    "First the columns that would be used for demographic segmentation but are not of interest to us are removed. In addition, the account balance and the transaction time will not be used. Only the transaction date will be used for recency as the number of days since the last transaction is sufficient information for the recency criteria."
   ]
  },
  {
   "cell_type": "code",
   "execution_count": 286,
   "id": "4adc867a",
   "metadata": {},
   "outputs": [
    {
     "data": {
      "text/html": [
       "<div>\n",
       "<style scoped>\n",
       "    .dataframe tbody tr th:only-of-type {\n",
       "        vertical-align: middle;\n",
       "    }\n",
       "\n",
       "    .dataframe tbody tr th {\n",
       "        vertical-align: top;\n",
       "    }\n",
       "\n",
       "    .dataframe thead th {\n",
       "        text-align: right;\n",
       "    }\n",
       "</style>\n",
       "<table border=\"1\" class=\"dataframe\">\n",
       "  <thead>\n",
       "    <tr style=\"text-align: right;\">\n",
       "      <th></th>\n",
       "      <th>TransactionID</th>\n",
       "      <th>CustomerID</th>\n",
       "      <th>TransactionDate</th>\n",
       "      <th>TransactionAmount (INR)</th>\n",
       "    </tr>\n",
       "  </thead>\n",
       "  <tbody>\n",
       "    <tr>\n",
       "      <th>0</th>\n",
       "      <td>T1</td>\n",
       "      <td>C5841053</td>\n",
       "      <td>2/8/16</td>\n",
       "      <td>25.0</td>\n",
       "    </tr>\n",
       "    <tr>\n",
       "      <th>1</th>\n",
       "      <td>T2</td>\n",
       "      <td>C2142763</td>\n",
       "      <td>2/8/16</td>\n",
       "      <td>27999.0</td>\n",
       "    </tr>\n",
       "    <tr>\n",
       "      <th>2</th>\n",
       "      <td>T3</td>\n",
       "      <td>C4417068</td>\n",
       "      <td>2/8/16</td>\n",
       "      <td>459.0</td>\n",
       "    </tr>\n",
       "    <tr>\n",
       "      <th>3</th>\n",
       "      <td>T4</td>\n",
       "      <td>C5342380</td>\n",
       "      <td>2/8/16</td>\n",
       "      <td>2060.0</td>\n",
       "    </tr>\n",
       "    <tr>\n",
       "      <th>4</th>\n",
       "      <td>T5</td>\n",
       "      <td>C9031234</td>\n",
       "      <td>2/8/16</td>\n",
       "      <td>1762.5</td>\n",
       "    </tr>\n",
       "    <tr>\n",
       "      <th>...</th>\n",
       "      <td>...</td>\n",
       "      <td>...</td>\n",
       "      <td>...</td>\n",
       "      <td>...</td>\n",
       "    </tr>\n",
       "    <tr>\n",
       "      <th>1048562</th>\n",
       "      <td>T1048563</td>\n",
       "      <td>C8020229</td>\n",
       "      <td>18/9/16</td>\n",
       "      <td>799.0</td>\n",
       "    </tr>\n",
       "    <tr>\n",
       "      <th>1048563</th>\n",
       "      <td>T1048564</td>\n",
       "      <td>C6459278</td>\n",
       "      <td>18/9/16</td>\n",
       "      <td>460.0</td>\n",
       "    </tr>\n",
       "    <tr>\n",
       "      <th>1048564</th>\n",
       "      <td>T1048565</td>\n",
       "      <td>C6412354</td>\n",
       "      <td>18/9/16</td>\n",
       "      <td>770.0</td>\n",
       "    </tr>\n",
       "    <tr>\n",
       "      <th>1048565</th>\n",
       "      <td>T1048566</td>\n",
       "      <td>C6420483</td>\n",
       "      <td>18/9/16</td>\n",
       "      <td>1000.0</td>\n",
       "    </tr>\n",
       "    <tr>\n",
       "      <th>1048566</th>\n",
       "      <td>T1048567</td>\n",
       "      <td>C8337524</td>\n",
       "      <td>18/9/16</td>\n",
       "      <td>1166.0</td>\n",
       "    </tr>\n",
       "  </tbody>\n",
       "</table>\n",
       "<p>1048567 rows × 4 columns</p>\n",
       "</div>"
      ],
      "text/plain": [
       "        TransactionID CustomerID TransactionDate  TransactionAmount (INR)\n",
       "0                  T1   C5841053          2/8/16                     25.0\n",
       "1                  T2   C2142763          2/8/16                  27999.0\n",
       "2                  T3   C4417068          2/8/16                    459.0\n",
       "3                  T4   C5342380          2/8/16                   2060.0\n",
       "4                  T5   C9031234          2/8/16                   1762.5\n",
       "...               ...        ...             ...                      ...\n",
       "1048562      T1048563   C8020229         18/9/16                    799.0\n",
       "1048563      T1048564   C6459278         18/9/16                    460.0\n",
       "1048564      T1048565   C6412354         18/9/16                    770.0\n",
       "1048565      T1048566   C6420483         18/9/16                   1000.0\n",
       "1048566      T1048567   C8337524         18/9/16                   1166.0\n",
       "\n",
       "[1048567 rows x 4 columns]"
      ]
     },
     "execution_count": 286,
     "metadata": {},
     "output_type": "execute_result"
    }
   ],
   "source": [
    "# Dropping columns that won't be used\n",
    "bank_df = bank_df.drop(['CustomerDOB', 'CustGender', 'CustLocation', 'CustAccountBalance', 'TransactionTime'], axis=1)\n",
    "bank_df"
   ]
  },
  {
   "cell_type": "code",
   "execution_count": 287,
   "id": "7b378ca3",
   "metadata": {},
   "outputs": [
    {
     "data": {
      "text/plain": [
       "TransactionID              0\n",
       "CustomerID                 0\n",
       "TransactionDate            0\n",
       "TransactionAmount (INR)    0\n",
       "dtype: int64"
      ]
     },
     "execution_count": 287,
     "metadata": {},
     "output_type": "execute_result"
    }
   ],
   "source": [
    "# Checking for missing values\n",
    "bank_df.isna().sum()"
   ]
  },
  {
   "cell_type": "markdown",
   "id": "1b9f9382",
   "metadata": {},
   "source": [
    "There are no missing values in the remaining columns."
   ]
  },
  {
   "cell_type": "code",
   "execution_count": 288,
   "id": "59681444",
   "metadata": {},
   "outputs": [
    {
     "data": {
      "text/plain": [
       "TransactionID               object\n",
       "CustomerID                  object\n",
       "TransactionDate             object\n",
       "TransactionAmount (INR)    float64\n",
       "dtype: object"
      ]
     },
     "execution_count": 288,
     "metadata": {},
     "output_type": "execute_result"
    }
   ],
   "source": [
    "# Showing column data types\n",
    "bank_df.dtypes"
   ]
  },
  {
   "cell_type": "code",
   "execution_count": 289,
   "id": "82361fe1",
   "metadata": {},
   "outputs": [
    {
     "data": {
      "text/plain": [
       "array(['2/8/16', '1/8/16', '3/8/16', '5/8/16', '4/8/16', '6/8/16',\n",
       "       '9/8/16', '8/8/16', '12/8/16', '7/8/16', '21/10/16', '16/10/16',\n",
       "       '10/8/16', '14/8/16', '17/8/16', '21/8/16', '19/8/16', '24/8/16',\n",
       "       '22/8/16', '29/8/16', '31/8/16', '22/9/16', '23/9/16', '13/8/16',\n",
       "       '25/8/16', '28/8/16', '15/8/16', '27/8/16', '20/8/16', '23/8/16',\n",
       "       '30/8/16', '11/8/16', '16/8/16', '26/8/16', '27/9/16', '18/8/16',\n",
       "       '25/9/16', '26/9/16', '30/9/16', '3/9/16', '2/9/16', '1/9/16',\n",
       "       '6/9/16', '5/9/16', '4/9/16', '9/9/16', '8/9/16', '7/9/16',\n",
       "       '12/9/16', '11/9/16', '10/9/16', '15/9/16', '14/9/16', '13/9/16',\n",
       "       '18/9/16'], dtype=object)"
      ]
     },
     "execution_count": 289,
     "metadata": {},
     "output_type": "execute_result"
    }
   ],
   "source": [
    "# Displaying number of unique dates in dataset\n",
    "bank_df['TransactionDate'].unique()"
   ]
  },
  {
   "cell_type": "markdown",
   "id": "de099a9e",
   "metadata": {},
   "source": [
    "From the date entries it is clear that the dates are spread out over 3 months in 2016 (Aug, Sep, Oct) so the format is day/month/year."
   ]
  },
  {
   "cell_type": "code",
   "execution_count": 290,
   "id": "a41215d4",
   "metadata": {},
   "outputs": [
    {
     "data": {
      "text/plain": [
       "0         2016-08-02\n",
       "1         2016-08-02\n",
       "2         2016-08-02\n",
       "3         2016-08-02\n",
       "4         2016-08-02\n",
       "             ...    \n",
       "1048562   2016-09-18\n",
       "1048563   2016-09-18\n",
       "1048564   2016-09-18\n",
       "1048565   2016-09-18\n",
       "1048566   2016-09-18\n",
       "Name: TransactionDate, Length: 1048567, dtype: datetime64[ns]"
      ]
     },
     "execution_count": 290,
     "metadata": {},
     "output_type": "execute_result"
    }
   ],
   "source": [
    "# Converting TransactionDate type to DateTime\n",
    "from datetime import date\n",
    "bank_df['TransactionDate'] = pd.to_datetime(bank_df['TransactionDate'], format=\"%d/%m/%y\")\n",
    "bank_df['TransactionDate']"
   ]
  },
  {
   "cell_type": "markdown",
   "id": "d015acf2",
   "metadata": {},
   "source": [
    "We would convert the transaction amount values from Indian Rupees (INR) to CAD or USD to make it more interpretable. However, prices for goods and services in India likely not likely proportional to currency conversions. For example $20 USD might be able to buy much more in India than in the US. The amount will therefore be kept in INR."
   ]
  },
  {
   "cell_type": "code",
   "execution_count": 291,
   "id": "e6946d1f",
   "metadata": {},
   "outputs": [],
   "source": [
    "# Renaming transaction amount column\n",
    "bank_df.rename(columns={'TransactionAmount (INR)': 'Amount', 'TransactionDate': 'Date'}, inplace=True)"
   ]
  },
  {
   "cell_type": "code",
   "execution_count": 292,
   "id": "bfdd41eb",
   "metadata": {},
   "outputs": [
    {
     "data": {
      "text/html": [
       "<div>\n",
       "<style scoped>\n",
       "    .dataframe tbody tr th:only-of-type {\n",
       "        vertical-align: middle;\n",
       "    }\n",
       "\n",
       "    .dataframe tbody tr th {\n",
       "        vertical-align: top;\n",
       "    }\n",
       "\n",
       "    .dataframe thead th {\n",
       "        text-align: right;\n",
       "    }\n",
       "</style>\n",
       "<table border=\"1\" class=\"dataframe\">\n",
       "  <thead>\n",
       "    <tr style=\"text-align: right;\">\n",
       "      <th></th>\n",
       "      <th>Date</th>\n",
       "      <th>Amount</th>\n",
       "    </tr>\n",
       "  </thead>\n",
       "  <tbody>\n",
       "    <tr>\n",
       "      <th>count</th>\n",
       "      <td>1048567</td>\n",
       "      <td>1.048567e+06</td>\n",
       "    </tr>\n",
       "    <tr>\n",
       "      <th>mean</th>\n",
       "      <td>2016-08-25 04:33:33.797497600</td>\n",
       "      <td>1.574335e+03</td>\n",
       "    </tr>\n",
       "    <tr>\n",
       "      <th>min</th>\n",
       "      <td>2016-08-01 00:00:00</td>\n",
       "      <td>0.000000e+00</td>\n",
       "    </tr>\n",
       "    <tr>\n",
       "      <th>25%</th>\n",
       "      <td>2016-08-12 00:00:00</td>\n",
       "      <td>1.610000e+02</td>\n",
       "    </tr>\n",
       "    <tr>\n",
       "      <th>50%</th>\n",
       "      <td>2016-08-25 00:00:00</td>\n",
       "      <td>4.590300e+02</td>\n",
       "    </tr>\n",
       "    <tr>\n",
       "      <th>75%</th>\n",
       "      <td>2016-09-06 00:00:00</td>\n",
       "      <td>1.200000e+03</td>\n",
       "    </tr>\n",
       "    <tr>\n",
       "      <th>max</th>\n",
       "      <td>2016-10-21 00:00:00</td>\n",
       "      <td>1.560035e+06</td>\n",
       "    </tr>\n",
       "    <tr>\n",
       "      <th>std</th>\n",
       "      <td>NaN</td>\n",
       "      <td>6.574743e+03</td>\n",
       "    </tr>\n",
       "  </tbody>\n",
       "</table>\n",
       "</div>"
      ],
      "text/plain": [
       "                                Date        Amount\n",
       "count                        1048567  1.048567e+06\n",
       "mean   2016-08-25 04:33:33.797497600  1.574335e+03\n",
       "min              2016-08-01 00:00:00  0.000000e+00\n",
       "25%              2016-08-12 00:00:00  1.610000e+02\n",
       "50%              2016-08-25 00:00:00  4.590300e+02\n",
       "75%              2016-09-06 00:00:00  1.200000e+03\n",
       "max              2016-10-21 00:00:00  1.560035e+06\n",
       "std                              NaN  6.574743e+03"
      ]
     },
     "execution_count": 292,
     "metadata": {},
     "output_type": "execute_result"
    }
   ],
   "source": [
    "# Looking at transaction amount distribution stats\n",
    "bank_df.describe()"
   ]
  },
  {
   "cell_type": "markdown",
   "id": "81db7186",
   "metadata": {},
   "source": [
    "From the describe dataframe, we see that the minimum transaction amount is 0. This doesn't make sense in the context of our problem so observations with TransactionAmount of 0 will be removed."
   ]
  },
  {
   "cell_type": "code",
   "execution_count": 293,
   "id": "d1225425",
   "metadata": {},
   "outputs": [
    {
     "data": {
      "text/plain": [
       "(1047732, 4)"
      ]
     },
     "execution_count": 293,
     "metadata": {},
     "output_type": "execute_result"
    }
   ],
   "source": [
    "# Determining rows to drop with 0 transaction amount\n",
    "zero_amount_rows = bank_df[bank_df['Amount'] == 0]\n",
    "rows_to_drop = zero_amount_rows.index\n",
    "# Dropping specified rows\n",
    "bank_df.drop(labels=rows_to_drop, axis=0, inplace=True)\n",
    "bank_df.shape"
   ]
  },
  {
   "cell_type": "code",
   "execution_count": 294,
   "id": "a806b709",
   "metadata": {},
   "outputs": [
    {
     "name": "stdout",
     "output_type": "stream",
     "text": [
      "There are no duplicate transaction ID's\n"
     ]
    }
   ],
   "source": [
    "# Ensuring all transactionID values are unique\n",
    "if bank_df['TransactionID'].nunique() == len(bank_df):\n",
    "    print(\"There are no duplicate transaction ID's\")"
   ]
  },
  {
   "cell_type": "code",
   "execution_count": 295,
   "id": "887324e0",
   "metadata": {},
   "outputs": [
    {
     "data": {
      "text/plain": [
       "False"
      ]
     },
     "execution_count": 295,
     "metadata": {},
     "output_type": "execute_result"
    }
   ],
   "source": [
    "duplicates = bank_df.duplicated(subset='TransactionID')\n",
    "duplicates.any()"
   ]
  },
  {
   "cell_type": "markdown",
   "id": "5d274bbc",
   "metadata": {},
   "source": [
    "## Feature Engineering and Data Exploration"
   ]
  },
  {
   "cell_type": "markdown",
   "id": "ba4fddf5",
   "metadata": {},
   "source": [
    "The existing features will now be transformed into features used for RFM. The RFM features will be obtained as follows:\n",
    "- **Recency**: the number of days since the customer's last purchase will be calculated. This will be done using a reference date, which will be 2016-10-22 since it is one day after the latest date in the dataset (2016-10-21). The date of most recent purchase will then be subtracted from this reference date for each customer\n",
    "- **Frequency**: the number of total transactions from each customer during the time period.\n",
    "- **Monetary**: the average purchase amount calculated by dividing total amount spent by number of transactions"
   ]
  },
  {
   "cell_type": "code",
   "execution_count": 296,
   "id": "18c0b5b6",
   "metadata": {},
   "outputs": [
    {
     "data": {
      "text/plain": [
       "Timestamp('2016-10-22 00:00:00')"
      ]
     },
     "execution_count": 296,
     "metadata": {},
     "output_type": "execute_result"
    }
   ],
   "source": [
    "# Making reference date for recency\n",
    "ref_date = pd.to_datetime('22/10/16', format=\"%d/%m/%y\")\n",
    "ref_date"
   ]
  },
  {
   "cell_type": "code",
   "execution_count": 297,
   "id": "94554bfc",
   "metadata": {},
   "outputs": [
    {
     "data": {
      "text/html": [
       "<div>\n",
       "<style scoped>\n",
       "    .dataframe tbody tr th:only-of-type {\n",
       "        vertical-align: middle;\n",
       "    }\n",
       "\n",
       "    .dataframe tbody tr th {\n",
       "        vertical-align: top;\n",
       "    }\n",
       "\n",
       "    .dataframe thead th {\n",
       "        text-align: right;\n",
       "    }\n",
       "</style>\n",
       "<table border=\"1\" class=\"dataframe\">\n",
       "  <thead>\n",
       "    <tr style=\"text-align: right;\">\n",
       "      <th></th>\n",
       "      <th>Date</th>\n",
       "      <th>TransactionID</th>\n",
       "      <th>Amount</th>\n",
       "    </tr>\n",
       "    <tr>\n",
       "      <th>CustomerID</th>\n",
       "      <th></th>\n",
       "      <th></th>\n",
       "      <th></th>\n",
       "    </tr>\n",
       "  </thead>\n",
       "  <tbody>\n",
       "    <tr>\n",
       "      <th>C1010011</th>\n",
       "      <td>26 days</td>\n",
       "      <td>2</td>\n",
       "      <td>5106.0</td>\n",
       "    </tr>\n",
       "    <tr>\n",
       "      <th>C1010012</th>\n",
       "      <td>69 days</td>\n",
       "      <td>1</td>\n",
       "      <td>1499.0</td>\n",
       "    </tr>\n",
       "    <tr>\n",
       "      <th>C1010014</th>\n",
       "      <td>76 days</td>\n",
       "      <td>2</td>\n",
       "      <td>1455.0</td>\n",
       "    </tr>\n",
       "    <tr>\n",
       "      <th>C1010018</th>\n",
       "      <td>37 days</td>\n",
       "      <td>1</td>\n",
       "      <td>30.0</td>\n",
       "    </tr>\n",
       "    <tr>\n",
       "      <th>C1010024</th>\n",
       "      <td>65 days</td>\n",
       "      <td>1</td>\n",
       "      <td>5000.0</td>\n",
       "    </tr>\n",
       "    <tr>\n",
       "      <th>...</th>\n",
       "      <td>...</td>\n",
       "      <td>...</td>\n",
       "      <td>...</td>\n",
       "    </tr>\n",
       "    <tr>\n",
       "      <th>C9099836</th>\n",
       "      <td>76 days</td>\n",
       "      <td>1</td>\n",
       "      <td>691.0</td>\n",
       "    </tr>\n",
       "    <tr>\n",
       "      <th>C9099877</th>\n",
       "      <td>37 days</td>\n",
       "      <td>1</td>\n",
       "      <td>222.0</td>\n",
       "    </tr>\n",
       "    <tr>\n",
       "      <th>C9099919</th>\n",
       "      <td>65 days</td>\n",
       "      <td>1</td>\n",
       "      <td>126.0</td>\n",
       "    </tr>\n",
       "    <tr>\n",
       "      <th>C9099941</th>\n",
       "      <td>55 days</td>\n",
       "      <td>1</td>\n",
       "      <td>50.0</td>\n",
       "    </tr>\n",
       "    <tr>\n",
       "      <th>C9099956</th>\n",
       "      <td>27 days</td>\n",
       "      <td>1</td>\n",
       "      <td>855.0</td>\n",
       "    </tr>\n",
       "  </tbody>\n",
       "</table>\n",
       "<p>883660 rows × 3 columns</p>\n",
       "</div>"
      ],
      "text/plain": [
       "              Date  TransactionID  Amount\n",
       "CustomerID                               \n",
       "C1010011   26 days              2  5106.0\n",
       "C1010012   69 days              1  1499.0\n",
       "C1010014   76 days              2  1455.0\n",
       "C1010018   37 days              1    30.0\n",
       "C1010024   65 days              1  5000.0\n",
       "...            ...            ...     ...\n",
       "C9099836   76 days              1   691.0\n",
       "C9099877   37 days              1   222.0\n",
       "C9099919   65 days              1   126.0\n",
       "C9099941   55 days              1    50.0\n",
       "C9099956   27 days              1   855.0\n",
       "\n",
       "[883660 rows x 3 columns]"
      ]
     },
     "execution_count": 297,
     "metadata": {},
     "output_type": "execute_result"
    }
   ],
   "source": [
    "# Using pandas groupby.agg to group the observations by CustomerID then applying specific functions to each column to obtain the RFM variables\n",
    "rfm_df = bank_df.groupby('CustomerID').agg({'Date': lambda x: (ref_date - x.max()), 'TransactionID': 'count', 'Amount': 'sum'})\n",
    "rfm_df"
   ]
  },
  {
   "cell_type": "code",
   "execution_count": 298,
   "id": "3be066c1",
   "metadata": {
    "scrolled": true
   },
   "outputs": [
    {
     "data": {
      "text/html": [
       "<div>\n",
       "<style scoped>\n",
       "    .dataframe tbody tr th:only-of-type {\n",
       "        vertical-align: middle;\n",
       "    }\n",
       "\n",
       "    .dataframe tbody tr th {\n",
       "        vertical-align: top;\n",
       "    }\n",
       "\n",
       "    .dataframe thead th {\n",
       "        text-align: right;\n",
       "    }\n",
       "</style>\n",
       "<table border=\"1\" class=\"dataframe\">\n",
       "  <thead>\n",
       "    <tr style=\"text-align: right;\">\n",
       "      <th></th>\n",
       "      <th>Recency</th>\n",
       "      <th>Frequency</th>\n",
       "      <th>Monetary</th>\n",
       "    </tr>\n",
       "    <tr>\n",
       "      <th>CustomerID</th>\n",
       "      <th></th>\n",
       "      <th></th>\n",
       "      <th></th>\n",
       "    </tr>\n",
       "  </thead>\n",
       "  <tbody>\n",
       "    <tr>\n",
       "      <th>C1010011</th>\n",
       "      <td>26</td>\n",
       "      <td>2</td>\n",
       "      <td>2553.0</td>\n",
       "    </tr>\n",
       "    <tr>\n",
       "      <th>C1010012</th>\n",
       "      <td>69</td>\n",
       "      <td>1</td>\n",
       "      <td>1499.0</td>\n",
       "    </tr>\n",
       "    <tr>\n",
       "      <th>C1010014</th>\n",
       "      <td>76</td>\n",
       "      <td>2</td>\n",
       "      <td>727.5</td>\n",
       "    </tr>\n",
       "    <tr>\n",
       "      <th>C1010018</th>\n",
       "      <td>37</td>\n",
       "      <td>1</td>\n",
       "      <td>30.0</td>\n",
       "    </tr>\n",
       "    <tr>\n",
       "      <th>C1010024</th>\n",
       "      <td>65</td>\n",
       "      <td>1</td>\n",
       "      <td>5000.0</td>\n",
       "    </tr>\n",
       "    <tr>\n",
       "      <th>...</th>\n",
       "      <td>...</td>\n",
       "      <td>...</td>\n",
       "      <td>...</td>\n",
       "    </tr>\n",
       "    <tr>\n",
       "      <th>C9099836</th>\n",
       "      <td>76</td>\n",
       "      <td>1</td>\n",
       "      <td>691.0</td>\n",
       "    </tr>\n",
       "    <tr>\n",
       "      <th>C9099877</th>\n",
       "      <td>37</td>\n",
       "      <td>1</td>\n",
       "      <td>222.0</td>\n",
       "    </tr>\n",
       "    <tr>\n",
       "      <th>C9099919</th>\n",
       "      <td>65</td>\n",
       "      <td>1</td>\n",
       "      <td>126.0</td>\n",
       "    </tr>\n",
       "    <tr>\n",
       "      <th>C9099941</th>\n",
       "      <td>55</td>\n",
       "      <td>1</td>\n",
       "      <td>50.0</td>\n",
       "    </tr>\n",
       "    <tr>\n",
       "      <th>C9099956</th>\n",
       "      <td>27</td>\n",
       "      <td>1</td>\n",
       "      <td>855.0</td>\n",
       "    </tr>\n",
       "  </tbody>\n",
       "</table>\n",
       "<p>883660 rows × 3 columns</p>\n",
       "</div>"
      ],
      "text/plain": [
       "            Recency  Frequency  Monetary\n",
       "CustomerID                              \n",
       "C1010011         26          2    2553.0\n",
       "C1010012         69          1    1499.0\n",
       "C1010014         76          2     727.5\n",
       "C1010018         37          1      30.0\n",
       "C1010024         65          1    5000.0\n",
       "...             ...        ...       ...\n",
       "C9099836         76          1     691.0\n",
       "C9099877         37          1     222.0\n",
       "C9099919         65          1     126.0\n",
       "C9099941         55          1      50.0\n",
       "C9099956         27          1     855.0\n",
       "\n",
       "[883660 rows x 3 columns]"
      ]
     },
     "execution_count": 298,
     "metadata": {},
     "output_type": "execute_result"
    }
   ],
   "source": [
    "# Renaming column as RFM variables\n",
    "rfm_df.rename(columns={'Date':'Recency', 'TransactionID':'Frequency', 'Amount':'Monetary'}, inplace=True)\n",
    "# Dividing total amount spent by number of transactions\n",
    "rfm_df['Monetary'] = rfm_df['Monetary'] / rfm_df['Frequency']\n",
    "# Removing 'days' from Recency\n",
    "rfm_df['Recency'] = rfm_df['Recency'].dt.days\n",
    "rfm_df"
   ]
  },
  {
   "cell_type": "code",
   "execution_count": 299,
   "id": "4ca0241b",
   "metadata": {
    "scrolled": true
   },
   "outputs": [
    {
     "data": {
      "text/html": [
       "<div>\n",
       "<style scoped>\n",
       "    .dataframe tbody tr th:only-of-type {\n",
       "        vertical-align: middle;\n",
       "    }\n",
       "\n",
       "    .dataframe tbody tr th {\n",
       "        vertical-align: top;\n",
       "    }\n",
       "\n",
       "    .dataframe thead th {\n",
       "        text-align: right;\n",
       "    }\n",
       "</style>\n",
       "<table border=\"1\" class=\"dataframe\">\n",
       "  <thead>\n",
       "    <tr style=\"text-align: right;\">\n",
       "      <th></th>\n",
       "      <th>Recency</th>\n",
       "      <th>Frequency</th>\n",
       "      <th>Monetary</th>\n",
       "    </tr>\n",
       "  </thead>\n",
       "  <tbody>\n",
       "    <tr>\n",
       "      <th>count</th>\n",
       "      <td>883660.000000</td>\n",
       "      <td>883660.000000</td>\n",
       "      <td>8.836600e+05</td>\n",
       "    </tr>\n",
       "    <tr>\n",
       "      <th>mean</th>\n",
       "      <td>56.306991</td>\n",
       "      <td>1.185673</td>\n",
       "      <td>1.576040e+03</td>\n",
       "    </tr>\n",
       "    <tr>\n",
       "      <th>std</th>\n",
       "      <td>15.226267</td>\n",
       "      <td>0.450527</td>\n",
       "      <td>6.445248e+03</td>\n",
       "    </tr>\n",
       "    <tr>\n",
       "      <th>min</th>\n",
       "      <td>1.000000</td>\n",
       "      <td>1.000000</td>\n",
       "      <td>1.000000e-02</td>\n",
       "    </tr>\n",
       "    <tr>\n",
       "      <th>25%</th>\n",
       "      <td>44.000000</td>\n",
       "      <td>1.000000</td>\n",
       "      <td>1.930000e+02</td>\n",
       "    </tr>\n",
       "    <tr>\n",
       "      <th>50%</th>\n",
       "      <td>56.000000</td>\n",
       "      <td>1.000000</td>\n",
       "      <td>5.000000e+02</td>\n",
       "    </tr>\n",
       "    <tr>\n",
       "      <th>75%</th>\n",
       "      <td>69.000000</td>\n",
       "      <td>1.000000</td>\n",
       "      <td>1.249020e+03</td>\n",
       "    </tr>\n",
       "    <tr>\n",
       "      <th>max</th>\n",
       "      <td>82.000000</td>\n",
       "      <td>6.000000</td>\n",
       "      <td>1.560035e+06</td>\n",
       "    </tr>\n",
       "  </tbody>\n",
       "</table>\n",
       "</div>"
      ],
      "text/plain": [
       "             Recency      Frequency      Monetary\n",
       "count  883660.000000  883660.000000  8.836600e+05\n",
       "mean       56.306991       1.185673  1.576040e+03\n",
       "std        15.226267       0.450527  6.445248e+03\n",
       "min         1.000000       1.000000  1.000000e-02\n",
       "25%        44.000000       1.000000  1.930000e+02\n",
       "50%        56.000000       1.000000  5.000000e+02\n",
       "75%        69.000000       1.000000  1.249020e+03\n",
       "max        82.000000       6.000000  1.560035e+06"
      ]
     },
     "execution_count": 299,
     "metadata": {},
     "output_type": "execute_result"
    }
   ],
   "source": [
    "# Examining the distribution statistics\n",
    "rfm_df.describe()"
   ]
  },
  {
   "cell_type": "markdown",
   "id": "ce7c7aad",
   "metadata": {},
   "source": [
    "The distribution statistics show that the Recency and frequency have a relatively small range. However the Monetary values are spread across several different orders of magnitude. Although we want to keep customer information as much as possible, clustering is sensitive to outliers. Therefore the large outliers in the monetary column will be removed."
   ]
  },
  {
   "cell_type": "code",
   "execution_count": 300,
   "id": "4ea057c8",
   "metadata": {},
   "outputs": [
    {
     "data": {
      "text/html": [
       "<div>\n",
       "<style scoped>\n",
       "    .dataframe tbody tr th:only-of-type {\n",
       "        vertical-align: middle;\n",
       "    }\n",
       "\n",
       "    .dataframe tbody tr th {\n",
       "        vertical-align: top;\n",
       "    }\n",
       "\n",
       "    .dataframe thead th {\n",
       "        text-align: right;\n",
       "    }\n",
       "</style>\n",
       "<table border=\"1\" class=\"dataframe\">\n",
       "  <thead>\n",
       "    <tr style=\"text-align: right;\">\n",
       "      <th></th>\n",
       "      <th>Recency</th>\n",
       "      <th>Frequency</th>\n",
       "      <th>Monetary</th>\n",
       "    </tr>\n",
       "    <tr>\n",
       "      <th>CustomerID</th>\n",
       "      <th></th>\n",
       "      <th></th>\n",
       "      <th></th>\n",
       "    </tr>\n",
       "  </thead>\n",
       "  <tbody>\n",
       "    <tr>\n",
       "      <th>C1010011</th>\n",
       "      <td>26</td>\n",
       "      <td>2</td>\n",
       "      <td>2553.0</td>\n",
       "    </tr>\n",
       "    <tr>\n",
       "      <th>C1010012</th>\n",
       "      <td>69</td>\n",
       "      <td>1</td>\n",
       "      <td>1499.0</td>\n",
       "    </tr>\n",
       "    <tr>\n",
       "      <th>C1010014</th>\n",
       "      <td>76</td>\n",
       "      <td>2</td>\n",
       "      <td>727.5</td>\n",
       "    </tr>\n",
       "    <tr>\n",
       "      <th>C1010018</th>\n",
       "      <td>37</td>\n",
       "      <td>1</td>\n",
       "      <td>30.0</td>\n",
       "    </tr>\n",
       "    <tr>\n",
       "      <th>C1010024</th>\n",
       "      <td>65</td>\n",
       "      <td>1</td>\n",
       "      <td>5000.0</td>\n",
       "    </tr>\n",
       "    <tr>\n",
       "      <th>...</th>\n",
       "      <td>...</td>\n",
       "      <td>...</td>\n",
       "      <td>...</td>\n",
       "    </tr>\n",
       "    <tr>\n",
       "      <th>C9099836</th>\n",
       "      <td>76</td>\n",
       "      <td>1</td>\n",
       "      <td>691.0</td>\n",
       "    </tr>\n",
       "    <tr>\n",
       "      <th>C9099877</th>\n",
       "      <td>37</td>\n",
       "      <td>1</td>\n",
       "      <td>222.0</td>\n",
       "    </tr>\n",
       "    <tr>\n",
       "      <th>C9099919</th>\n",
       "      <td>65</td>\n",
       "      <td>1</td>\n",
       "      <td>126.0</td>\n",
       "    </tr>\n",
       "    <tr>\n",
       "      <th>C9099941</th>\n",
       "      <td>55</td>\n",
       "      <td>1</td>\n",
       "      <td>50.0</td>\n",
       "    </tr>\n",
       "    <tr>\n",
       "      <th>C9099956</th>\n",
       "      <td>27</td>\n",
       "      <td>1</td>\n",
       "      <td>855.0</td>\n",
       "    </tr>\n",
       "  </tbody>\n",
       "</table>\n",
       "<p>875808 rows × 3 columns</p>\n",
       "</div>"
      ],
      "text/plain": [
       "            Recency  Frequency  Monetary\n",
       "CustomerID                              \n",
       "C1010011         26          2    2553.0\n",
       "C1010012         69          1    1499.0\n",
       "C1010014         76          2     727.5\n",
       "C1010018         37          1      30.0\n",
       "C1010024         65          1    5000.0\n",
       "...             ...        ...       ...\n",
       "C9099836         76          1     691.0\n",
       "C9099877         37          1     222.0\n",
       "C9099919         65          1     126.0\n",
       "C9099941         55          1      50.0\n",
       "C9099956         27          1     855.0\n",
       "\n",
       "[875808 rows x 3 columns]"
      ]
     },
     "execution_count": 300,
     "metadata": {},
     "output_type": "execute_result"
    }
   ],
   "source": [
    "# Removing outlier observations\n",
    "from scipy import stats\n",
    "# Keeping values for which z-score is smaller 3 (less than 3 standard deviations from the mean)\n",
    "keep = (np.abs(stats.zscore(rfm_df['Monetary'])) < 3)\n",
    "rfm_df_filtered = rfm_df[keep]\n",
    "rfm_df_filtered"
   ]
  },
  {
   "cell_type": "code",
   "execution_count": 301,
   "id": "821581ed",
   "metadata": {},
   "outputs": [
    {
     "data": {
      "text/html": [
       "<div>\n",
       "<style scoped>\n",
       "    .dataframe tbody tr th:only-of-type {\n",
       "        vertical-align: middle;\n",
       "    }\n",
       "\n",
       "    .dataframe tbody tr th {\n",
       "        vertical-align: top;\n",
       "    }\n",
       "\n",
       "    .dataframe thead th {\n",
       "        text-align: right;\n",
       "    }\n",
       "</style>\n",
       "<table border=\"1\" class=\"dataframe\">\n",
       "  <thead>\n",
       "    <tr style=\"text-align: right;\">\n",
       "      <th></th>\n",
       "      <th>Recency</th>\n",
       "      <th>Frequency</th>\n",
       "      <th>Monetary</th>\n",
       "    </tr>\n",
       "  </thead>\n",
       "  <tbody>\n",
       "    <tr>\n",
       "      <th>count</th>\n",
       "      <td>875808.000000</td>\n",
       "      <td>875808.000000</td>\n",
       "      <td>875808.000000</td>\n",
       "    </tr>\n",
       "    <tr>\n",
       "      <th>mean</th>\n",
       "      <td>56.304472</td>\n",
       "      <td>1.186078</td>\n",
       "      <td>1176.400496</td>\n",
       "    </tr>\n",
       "    <tr>\n",
       "      <th>std</th>\n",
       "      <td>15.221965</td>\n",
       "      <td>0.451015</td>\n",
       "      <td>2135.207340</td>\n",
       "    </tr>\n",
       "    <tr>\n",
       "      <th>min</th>\n",
       "      <td>1.000000</td>\n",
       "      <td>1.000000</td>\n",
       "      <td>0.010000</td>\n",
       "    </tr>\n",
       "    <tr>\n",
       "      <th>25%</th>\n",
       "      <td>44.000000</td>\n",
       "      <td>1.000000</td>\n",
       "      <td>190.000000</td>\n",
       "    </tr>\n",
       "    <tr>\n",
       "      <th>50%</th>\n",
       "      <td>56.000000</td>\n",
       "      <td>1.000000</td>\n",
       "      <td>499.000000</td>\n",
       "    </tr>\n",
       "    <tr>\n",
       "      <th>75%</th>\n",
       "      <td>69.000000</td>\n",
       "      <td>1.000000</td>\n",
       "      <td>1200.000000</td>\n",
       "    </tr>\n",
       "    <tr>\n",
       "      <th>max</th>\n",
       "      <td>82.000000</td>\n",
       "      <td>6.000000</td>\n",
       "      <td>20910.000000</td>\n",
       "    </tr>\n",
       "  </tbody>\n",
       "</table>\n",
       "</div>"
      ],
      "text/plain": [
       "             Recency      Frequency       Monetary\n",
       "count  875808.000000  875808.000000  875808.000000\n",
       "mean       56.304472       1.186078    1176.400496\n",
       "std        15.221965       0.451015    2135.207340\n",
       "min         1.000000       1.000000       0.010000\n",
       "25%        44.000000       1.000000     190.000000\n",
       "50%        56.000000       1.000000     499.000000\n",
       "75%        69.000000       1.000000    1200.000000\n",
       "max        82.000000       6.000000   20910.000000"
      ]
     },
     "execution_count": 301,
     "metadata": {},
     "output_type": "execute_result"
    }
   ],
   "source": [
    "rfm_df_filtered.describe()"
   ]
  },
  {
   "cell_type": "markdown",
   "id": "3c29dd41",
   "metadata": {},
   "source": [
    "We see that the monetary values are now in a much more reasonable range."
   ]
  },
  {
   "cell_type": "code",
   "execution_count": 302,
   "id": "b960cf8d",
   "metadata": {},
   "outputs": [
    {
     "data": {
      "image/png": "[encoded data removed]",
      "text/plain": [
       "<Figure size 640x480 with 1 Axes>"
      ]
     },
     "metadata": {},
     "output_type": "display_data"
    }
   ],
   "source": [
    "sns.set_palette('Accent')\n",
    "# Plotting amount of transactions per customer\n",
    "ax = sns.countplot(data=rfm_df_filtered, x='Frequency')\n",
    "# Adding percentage labels to bars\n",
    "percentages = rfm_df_filtered['Frequency'].value_counts() / len(rfm_df_filtered)\n",
    "percentages_formatted = percentages.apply(lambda x: f\"{x*100:.2f}%\")\n",
    "ax.bar_label(container=ax.containers[0], labels=percentages_formatted)\n",
    "plt.show()"
   ]
  },
  {
   "cell_type": "markdown",
   "id": "63b22519",
   "metadata": {},
   "source": [
    "From the count plot above it is clear that the majority of customers have made only one transaction while a much smaller portion have made 2 or 3. Let's plot the variables now to see their distributions."
   ]
  },
  {
   "cell_type": "code",
   "execution_count": 303,
   "id": "61a4f5f6",
   "metadata": {},
   "outputs": [
    {
     "data": {
      "image/png": "[encoded data removed]",
      "text/plain": [
       "<Figure size 1500x400 with 3 Axes>"
      ]
     },
     "metadata": {},
     "output_type": "display_data"
    }
   ],
   "source": [
    "# format of 1 row and 3 columns\n",
    "fig, axes = plt.subplots(1, 3, figsize=(15,4))\n",
    "# create histograms\n",
    "for i, col in enumerate(rfm_df_filtered.columns):\n",
    "    sns.histplot(data=rfm_df_filtered, x=col, ax=axes[i])\n",
    "plt.show()"
   ]
  },
  {
   "cell_type": "markdown",
   "id": "5ddfd039",
   "metadata": {},
   "source": [
    "From the histograms above, we can see that the frequency and monetary features follow clear power law distributions. They will be transformed using a log function which should make their distributions appear roughly normal.\n",
    "\n",
    "The recency feature doesn't follow any clear distribution. It is clear though that most transactions occured in the first half of the timeframe under study as most transactions are between 40-80 days ago."
   ]
  },
  {
   "cell_type": "code",
   "execution_count": 304,
   "id": "da24c523",
   "metadata": {},
   "outputs": [
    {
     "name": "stderr",
     "output_type": "stream",
     "text": [
      "/var/folders/lw/b_8l9ggd16z8sjbbwh204hf40000gn/T/ipykernel_42079/4090778646.py:2: SettingWithCopyWarning: \n",
      "A value is trying to be set on a copy of a slice from a DataFrame.\n",
      "Try using .loc[row_indexer,col_indexer] = value instead\n",
      "\n",
      "See the caveats in the documentation: https://pandas.pydata.org/pandas-docs/stable/user_guide/indexing.html#returning-a-view-versus-a-copy\n",
      "  rfm_df_filtered['Frequency_log'] = np.log(rfm_df_filtered['Frequency'])\n",
      "/var/folders/lw/b_8l9ggd16z8sjbbwh204hf40000gn/T/ipykernel_42079/4090778646.py:3: SettingWithCopyWarning: \n",
      "A value is trying to be set on a copy of a slice from a DataFrame.\n",
      "Try using .loc[row_indexer,col_indexer] = value instead\n",
      "\n",
      "See the caveats in the documentation: https://pandas.pydata.org/pandas-docs/stable/user_guide/indexing.html#returning-a-view-versus-a-copy\n",
      "  rfm_df_filtered['Monetary_log'] = np.log(rfm_df_filtered['Monetary'])\n"
     ]
    },
    {
     "data": {
      "text/html": [
       "<div>\n",
       "<style scoped>\n",
       "    .dataframe tbody tr th:only-of-type {\n",
       "        vertical-align: middle;\n",
       "    }\n",
       "\n",
       "    .dataframe tbody tr th {\n",
       "        vertical-align: top;\n",
       "    }\n",
       "\n",
       "    .dataframe thead th {\n",
       "        text-align: right;\n",
       "    }\n",
       "</style>\n",
       "<table border=\"1\" class=\"dataframe\">\n",
       "  <thead>\n",
       "    <tr style=\"text-align: right;\">\n",
       "      <th></th>\n",
       "      <th>Recency</th>\n",
       "      <th>Frequency</th>\n",
       "      <th>Monetary</th>\n",
       "      <th>Frequency_log</th>\n",
       "      <th>Monetary_log</th>\n",
       "    </tr>\n",
       "    <tr>\n",
       "      <th>CustomerID</th>\n",
       "      <th></th>\n",
       "      <th></th>\n",
       "      <th></th>\n",
       "      <th></th>\n",
       "      <th></th>\n",
       "    </tr>\n",
       "  </thead>\n",
       "  <tbody>\n",
       "    <tr>\n",
       "      <th>C1010011</th>\n",
       "      <td>26</td>\n",
       "      <td>2</td>\n",
       "      <td>2553.0</td>\n",
       "      <td>0.693147</td>\n",
       "      <td>7.845024</td>\n",
       "    </tr>\n",
       "    <tr>\n",
       "      <th>C1010012</th>\n",
       "      <td>69</td>\n",
       "      <td>1</td>\n",
       "      <td>1499.0</td>\n",
       "      <td>0.000000</td>\n",
       "      <td>7.312553</td>\n",
       "    </tr>\n",
       "    <tr>\n",
       "      <th>C1010014</th>\n",
       "      <td>76</td>\n",
       "      <td>2</td>\n",
       "      <td>727.5</td>\n",
       "      <td>0.693147</td>\n",
       "      <td>6.589614</td>\n",
       "    </tr>\n",
       "    <tr>\n",
       "      <th>C1010018</th>\n",
       "      <td>37</td>\n",
       "      <td>1</td>\n",
       "      <td>30.0</td>\n",
       "      <td>0.000000</td>\n",
       "      <td>3.401197</td>\n",
       "    </tr>\n",
       "    <tr>\n",
       "      <th>C1010024</th>\n",
       "      <td>65</td>\n",
       "      <td>1</td>\n",
       "      <td>5000.0</td>\n",
       "      <td>0.000000</td>\n",
       "      <td>8.517193</td>\n",
       "    </tr>\n",
       "    <tr>\n",
       "      <th>...</th>\n",
       "      <td>...</td>\n",
       "      <td>...</td>\n",
       "      <td>...</td>\n",
       "      <td>...</td>\n",
       "      <td>...</td>\n",
       "    </tr>\n",
       "    <tr>\n",
       "      <th>C9099836</th>\n",
       "      <td>76</td>\n",
       "      <td>1</td>\n",
       "      <td>691.0</td>\n",
       "      <td>0.000000</td>\n",
       "      <td>6.538140</td>\n",
       "    </tr>\n",
       "    <tr>\n",
       "      <th>C9099877</th>\n",
       "      <td>37</td>\n",
       "      <td>1</td>\n",
       "      <td>222.0</td>\n",
       "      <td>0.000000</td>\n",
       "      <td>5.402677</td>\n",
       "    </tr>\n",
       "    <tr>\n",
       "      <th>C9099919</th>\n",
       "      <td>65</td>\n",
       "      <td>1</td>\n",
       "      <td>126.0</td>\n",
       "      <td>0.000000</td>\n",
       "      <td>4.836282</td>\n",
       "    </tr>\n",
       "    <tr>\n",
       "      <th>C9099941</th>\n",
       "      <td>55</td>\n",
       "      <td>1</td>\n",
       "      <td>50.0</td>\n",
       "      <td>0.000000</td>\n",
       "      <td>3.912023</td>\n",
       "    </tr>\n",
       "    <tr>\n",
       "      <th>C9099956</th>\n",
       "      <td>27</td>\n",
       "      <td>1</td>\n",
       "      <td>855.0</td>\n",
       "      <td>0.000000</td>\n",
       "      <td>6.751101</td>\n",
       "    </tr>\n",
       "  </tbody>\n",
       "</table>\n",
       "<p>875808 rows × 5 columns</p>\n",
       "</div>"
      ],
      "text/plain": [
       "            Recency  Frequency  Monetary  Frequency_log  Monetary_log\n",
       "CustomerID                                                           \n",
       "C1010011         26          2    2553.0       0.693147      7.845024\n",
       "C1010012         69          1    1499.0       0.000000      7.312553\n",
       "C1010014         76          2     727.5       0.693147      6.589614\n",
       "C1010018         37          1      30.0       0.000000      3.401197\n",
       "C1010024         65          1    5000.0       0.000000      8.517193\n",
       "...             ...        ...       ...            ...           ...\n",
       "C9099836         76          1     691.0       0.000000      6.538140\n",
       "C9099877         37          1     222.0       0.000000      5.402677\n",
       "C9099919         65          1     126.0       0.000000      4.836282\n",
       "C9099941         55          1      50.0       0.000000      3.912023\n",
       "C9099956         27          1     855.0       0.000000      6.751101\n",
       "\n",
       "[875808 rows x 5 columns]"
      ]
     },
     "execution_count": 304,
     "metadata": {},
     "output_type": "execute_result"
    }
   ],
   "source": [
    "from scipy.stats import boxcox\n",
    "rfm_df_filtered['Frequency_log'] = np.log(rfm_df_filtered['Frequency'])\n",
    "rfm_df_filtered['Monetary_log'] = np.log(rfm_df_filtered['Monetary'])\n",
    "rfm_df_filtered"
   ]
  },
  {
   "cell_type": "code",
   "execution_count": 305,
   "id": "af15e57c",
   "metadata": {},
   "outputs": [
    {
     "data": {
      "image/png": "[encoded data removed]",
      "text/plain": [
       "<Figure size 1500x400 with 2 Axes>"
      ]
     },
     "metadata": {},
     "output_type": "display_data"
    }
   ],
   "source": [
    "# Plotting the newly log transformed distributions\n",
    "# format of 1 row and 2 columns\n",
    "fig, axes = plt.subplots(1, 2, figsize=(15,4))\n",
    "# create histograms\n",
    "for i, col in enumerate(rfm_df_filtered.columns[-2:]):\n",
    "    sns.histplot(data=rfm_df_filtered, x=col, ax=axes[i])\n",
    "plt.show()"
   ]
  },
  {
   "cell_type": "markdown",
   "id": "abfb6c9e",
   "metadata": {},
   "source": [
    "The log transformation has made the monetary feature's distribution roughly normal. However, the distribution of the frequency feature remains heavily skewed."
   ]
  },
  {
   "cell_type": "code",
   "execution_count": 306,
   "id": "3fe46397",
   "metadata": {},
   "outputs": [
    {
     "name": "stderr",
     "output_type": "stream",
     "text": [
      "/var/folders/lw/b_8l9ggd16z8sjbbwh204hf40000gn/T/ipykernel_42079/1290183852.py:2: SettingWithCopyWarning: \n",
      "A value is trying to be set on a copy of a slice from a DataFrame\n",
      "\n",
      "See the caveats in the documentation: https://pandas.pydata.org/pandas-docs/stable/user_guide/indexing.html#returning-a-view-versus-a-copy\n",
      "  rfm_df_filtered.drop(['Monetary', 'Frequency'], axis=1, inplace=True)\n"
     ]
    },
    {
     "data": {
      "text/plain": [
       "Index(['Recency', 'Frequency_log', 'Monetary_log'], dtype='object')"
      ]
     },
     "execution_count": 306,
     "metadata": {},
     "output_type": "execute_result"
    }
   ],
   "source": [
    "# Removing original monetary and frequency features\n",
    "rfm_df_filtered.drop(['Monetary', 'Frequency'], axis=1, inplace=True)\n",
    "rfm_df_filtered.columns"
   ]
  },
  {
   "cell_type": "code",
   "execution_count": 307,
   "id": "25c92c8b",
   "metadata": {},
   "outputs": [
    {
     "data": {
      "text/plain": [
       "Recency          False\n",
       "Frequency_log    False\n",
       "Monetary_log     False\n",
       "dtype: bool"
      ]
     },
     "execution_count": 307,
     "metadata": {},
     "output_type": "execute_result"
    }
   ],
   "source": [
    "# Checking if applying log has made some values infinity\n",
    "np.isinf(rfm_df_filtered).any()"
   ]
  },
  {
   "cell_type": "markdown",
   "id": "93aa8f03",
   "metadata": {},
   "source": [
    "**Justification for MinMaxScaler**: Although the monetary distribution is now normal, the other two features do not have normal dsitributions. Therefore StandardScaler won't be used since its works best for normal distributions. MinMaxScaler will be used instead because it works well on a wide range of distributions. We have also removed all major outliers so there is no need for a scaler that is robust to outliers."
   ]
  },
  {
   "cell_type": "code",
   "execution_count": 308,
   "id": "57b9bc37",
   "metadata": {},
   "outputs": [
    {
     "data": {
      "text/html": [
       "<div>\n",
       "<style scoped>\n",
       "    .dataframe tbody tr th:only-of-type {\n",
       "        vertical-align: middle;\n",
       "    }\n",
       "\n",
       "    .dataframe tbody tr th {\n",
       "        vertical-align: top;\n",
       "    }\n",
       "\n",
       "    .dataframe thead th {\n",
       "        text-align: right;\n",
       "    }\n",
       "</style>\n",
       "<table border=\"1\" class=\"dataframe\">\n",
       "  <thead>\n",
       "    <tr style=\"text-align: right;\">\n",
       "      <th></th>\n",
       "      <th>Recency</th>\n",
       "      <th>Frequency_log</th>\n",
       "      <th>Monetary_log</th>\n",
       "    </tr>\n",
       "    <tr>\n",
       "      <th>CustomerID</th>\n",
       "      <th></th>\n",
       "      <th></th>\n",
       "      <th></th>\n",
       "    </tr>\n",
       "  </thead>\n",
       "  <tbody>\n",
       "    <tr>\n",
       "      <th>C1010011</th>\n",
       "      <td>0.308642</td>\n",
       "      <td>0.386853</td>\n",
       "      <td>0.855498</td>\n",
       "    </tr>\n",
       "    <tr>\n",
       "      <th>C1010012</th>\n",
       "      <td>0.839506</td>\n",
       "      <td>0.000000</td>\n",
       "      <td>0.818910</td>\n",
       "    </tr>\n",
       "    <tr>\n",
       "      <th>C1010014</th>\n",
       "      <td>0.925926</td>\n",
       "      <td>0.386853</td>\n",
       "      <td>0.769234</td>\n",
       "    </tr>\n",
       "    <tr>\n",
       "      <th>C1010018</th>\n",
       "      <td>0.444444</td>\n",
       "      <td>0.000000</td>\n",
       "      <td>0.550147</td>\n",
       "    </tr>\n",
       "    <tr>\n",
       "      <th>C1010024</th>\n",
       "      <td>0.790123</td>\n",
       "      <td>0.000000</td>\n",
       "      <td>0.901685</td>\n",
       "    </tr>\n",
       "    <tr>\n",
       "      <th>...</th>\n",
       "      <td>...</td>\n",
       "      <td>...</td>\n",
       "      <td>...</td>\n",
       "    </tr>\n",
       "    <tr>\n",
       "      <th>C9099836</th>\n",
       "      <td>0.925926</td>\n",
       "      <td>0.000000</td>\n",
       "      <td>0.765697</td>\n",
       "    </tr>\n",
       "    <tr>\n",
       "      <th>C9099877</th>\n",
       "      <td>0.444444</td>\n",
       "      <td>0.000000</td>\n",
       "      <td>0.687676</td>\n",
       "    </tr>\n",
       "    <tr>\n",
       "      <th>C9099919</th>\n",
       "      <td>0.790123</td>\n",
       "      <td>0.000000</td>\n",
       "      <td>0.648756</td>\n",
       "    </tr>\n",
       "    <tr>\n",
       "      <th>C9099941</th>\n",
       "      <td>0.666667</td>\n",
       "      <td>0.000000</td>\n",
       "      <td>0.585247</td>\n",
       "    </tr>\n",
       "    <tr>\n",
       "      <th>C9099956</th>\n",
       "      <td>0.320988</td>\n",
       "      <td>0.000000</td>\n",
       "      <td>0.780331</td>\n",
       "    </tr>\n",
       "  </tbody>\n",
       "</table>\n",
       "<p>875808 rows × 3 columns</p>\n",
       "</div>"
      ],
      "text/plain": [
       "             Recency  Frequency_log  Monetary_log\n",
       "CustomerID                                       \n",
       "C1010011    0.308642       0.386853      0.855498\n",
       "C1010012    0.839506       0.000000      0.818910\n",
       "C1010014    0.925926       0.386853      0.769234\n",
       "C1010018    0.444444       0.000000      0.550147\n",
       "C1010024    0.790123       0.000000      0.901685\n",
       "...              ...            ...           ...\n",
       "C9099836    0.925926       0.000000      0.765697\n",
       "C9099877    0.444444       0.000000      0.687676\n",
       "C9099919    0.790123       0.000000      0.648756\n",
       "C9099941    0.666667       0.000000      0.585247\n",
       "C9099956    0.320988       0.000000      0.780331\n",
       "\n",
       "[875808 rows x 3 columns]"
      ]
     },
     "execution_count": 308,
     "metadata": {},
     "output_type": "execute_result"
    }
   ],
   "source": [
    "from sklearn.preprocessing import MinMaxScaler\n",
    "scaler = MinMaxScaler()\n",
    "scaled_array = scaler.fit_transform(rfm_df_filtered)\n",
    "scaled_df = pd.DataFrame(scaled_array, index=rfm_df_filtered.index, columns=rfm_df_filtered.columns)\n",
    "scaled_df"
   ]
  },
  {
   "cell_type": "code",
   "execution_count": 309,
   "id": "0616af32",
   "metadata": {},
   "outputs": [
    {
     "name": "stderr",
     "output_type": "stream",
     "text": [
      "/Users/graham/anaconda3/envs/DataScience/lib/python3.11/site-packages/seaborn/axisgrid.py:118: UserWarning: The figure layout has changed to tight\n",
      "  self._figure.tight_layout(*args, **kwargs)\n"
     ]
    },
    {
     "data": {
      "image/png": "[encoded data removed]",
      "text/plain": [
       "<Figure size 750x750 with 12 Axes>"
      ]
     },
     "metadata": {},
     "output_type": "display_data"
    }
   ],
   "source": [
    "# Viewing a scatterplot matrix for the features\n",
    "sns.pairplot(data=scaled_df)\n",
    "plt.show()"
   ]
  },
  {
   "cell_type": "markdown",
   "id": "5ff667f5",
   "metadata": {},
   "source": [
    "There are no clear cluster patterns in the scatterplots of each variable with each other. The lines in the freuquency_log plots are due to there only being 6 frequency values in the dataset."
   ]
  },
  {
   "cell_type": "code",
   "execution_count": 310,
   "id": "f59e73f4",
   "metadata": {},
   "outputs": [
    {
     "data": {
      "text/plain": [
       "<Axes: >"
      ]
     },
     "execution_count": 310,
     "metadata": {},
     "output_type": "execute_result"
    },
    {
     "data": {
      "image/png": "[encoded data removed]",
      "text/plain": [
       "<Figure size 640x480 with 2 Axes>"
      ]
     },
     "metadata": {},
     "output_type": "display_data"
    }
   ],
   "source": [
    "# heatmap of features to view correlations\n",
    "sns.heatmap(scaled_df.corr(), annot=True, cmap='mako_r')"
   ]
  },
  {
   "cell_type": "markdown",
   "id": "01ff07ef",
   "metadata": {},
   "source": [
    "There is no strong correlation between features. If there was major depencies, one of the features would be removed."
   ]
  },
  {
   "cell_type": "code",
   "execution_count": 311,
   "id": "1c027706",
   "metadata": {},
   "outputs": [
    {
     "data": {
      "text/plain": [
       "array([0.38685281, 0.        , 0.61314719, 0.77370561, 1.        ,\n",
       "       0.8982444 ])"
      ]
     },
     "metadata": {},
     "output_type": "display_data"
    },
    {
     "data": {
      "text/plain": [
       "Frequency_log\n",
       "0.000000    733378\n",
       "0.386853    123918\n",
       "0.613147     16659\n",
       "0.773706      1693\n",
       "0.898244       146\n",
       "1.000000        14\n",
       "Name: count, dtype: int64"
      ]
     },
     "execution_count": 311,
     "metadata": {},
     "output_type": "execute_result"
    }
   ],
   "source": [
    "# Displaying unique values and counts of each value for the frequency feature\n",
    "display(scaled_df['Frequency_log'].unique())\n",
    "scaled_df['Frequency_log'].value_counts()"
   ]
  },
  {
   "cell_type": "code",
   "execution_count": 312,
   "id": "45c60319",
   "metadata": {},
   "outputs": [
    {
     "data": {
      "text/html": [
       "<div>\n",
       "<style scoped>\n",
       "    .dataframe tbody tr th:only-of-type {\n",
       "        vertical-align: middle;\n",
       "    }\n",
       "\n",
       "    .dataframe tbody tr th {\n",
       "        vertical-align: top;\n",
       "    }\n",
       "\n",
       "    .dataframe thead th {\n",
       "        text-align: right;\n",
       "    }\n",
       "</style>\n",
       "<table border=\"1\" class=\"dataframe\">\n",
       "  <thead>\n",
       "    <tr style=\"text-align: right;\">\n",
       "      <th></th>\n",
       "      <th>Recency</th>\n",
       "      <th>Frequency_log</th>\n",
       "      <th>Monetary_log</th>\n",
       "    </tr>\n",
       "  </thead>\n",
       "  <tbody>\n",
       "    <tr>\n",
       "      <th>count</th>\n",
       "      <td>875808.000000</td>\n",
       "      <td>875808.000000</td>\n",
       "      <td>875808.000000</td>\n",
       "    </tr>\n",
       "    <tr>\n",
       "      <th>mean</th>\n",
       "      <td>0.682771</td>\n",
       "      <td>0.068060</td>\n",
       "      <td>0.734507</td>\n",
       "    </tr>\n",
       "    <tr>\n",
       "      <th>std</th>\n",
       "      <td>0.187925</td>\n",
       "      <td>0.158118</td>\n",
       "      <td>0.104336</td>\n",
       "    </tr>\n",
       "    <tr>\n",
       "      <th>min</th>\n",
       "      <td>0.000000</td>\n",
       "      <td>0.000000</td>\n",
       "      <td>0.000000</td>\n",
       "    </tr>\n",
       "    <tr>\n",
       "      <th>25%</th>\n",
       "      <td>0.530864</td>\n",
       "      <td>0.000000</td>\n",
       "      <td>0.676980</td>\n",
       "    </tr>\n",
       "    <tr>\n",
       "      <th>50%</th>\n",
       "      <td>0.679012</td>\n",
       "      <td>0.000000</td>\n",
       "      <td>0.743329</td>\n",
       "    </tr>\n",
       "    <tr>\n",
       "      <th>75%</th>\n",
       "      <td>0.839506</td>\n",
       "      <td>0.000000</td>\n",
       "      <td>0.803623</td>\n",
       "    </tr>\n",
       "    <tr>\n",
       "      <th>max</th>\n",
       "      <td>1.000000</td>\n",
       "      <td>1.000000</td>\n",
       "      <td>1.000000</td>\n",
       "    </tr>\n",
       "  </tbody>\n",
       "</table>\n",
       "</div>"
      ],
      "text/plain": [
       "             Recency  Frequency_log   Monetary_log\n",
       "count  875808.000000  875808.000000  875808.000000\n",
       "mean        0.682771       0.068060       0.734507\n",
       "std         0.187925       0.158118       0.104336\n",
       "min         0.000000       0.000000       0.000000\n",
       "25%         0.530864       0.000000       0.676980\n",
       "50%         0.679012       0.000000       0.743329\n",
       "75%         0.839506       0.000000       0.803623\n",
       "max         1.000000       1.000000       1.000000"
      ]
     },
     "execution_count": 312,
     "metadata": {},
     "output_type": "execute_result"
    }
   ],
   "source": [
    "# Displaying distribution statistics for each feautre\n",
    "scaled_df.describe()"
   ]
  },
  {
   "cell_type": "markdown",
   "id": "16514c95",
   "metadata": {},
   "source": [
    "The RSM bins are defined below. 4 different bins are defined for both recency and monetary since their values are fairly well spread across the 0 to 1 interval comapred to the frequency feature. \n",
    "\n",
    "The are only 2 bins for frequency since the data is so heavily skewed towards 0. The frequency bin edge is defined as 0.5 to separate the majority of customers with low frequency from the small number with high frequency according to the value counts above.\n",
    "\n",
    "The recency bin scores are reversed in the get_RFM_scores function below to ensure that recent customers have higher scores."
   ]
  },
  {
   "cell_type": "code",
   "execution_count": 313,
   "id": "0afe4018",
   "metadata": {},
   "outputs": [],
   "source": [
    "# Defining bin edges for each featute\n",
    "recency_bins = [scaled_df['Recency'].min(), np.quantile(scaled_df['Recency'], 0.25), np.quantile(scaled_df['Recency'], 0.5),\n",
    "                np.quantile(scaled_df['Recency'], 0.75), scaled_df['Recency'].max()]\n",
    "\n",
    "frequency_bins = [scaled_df['Frequency_log'].min(), 0.5, scaled_df['Frequency_log'].max()]\n",
    "\n",
    "monetary_bins = [scaled_df['Monetary_log'].min(), np.quantile(scaled_df['Monetary_log'], 0.25), np.quantile(scaled_df['Monetary_log'], 0.5),\n",
    "                np.quantile(scaled_df['Monetary_log'], 0.75), scaled_df['Monetary_log'].max()]\n",
    "\n",
    "recency_labels = [1, 2, 3, 4]\n",
    "frequency_labels = [1, 2]\n",
    "monetary_labels = [1, 2, 3, 4]"
   ]
  },
  {
   "cell_type": "code",
   "execution_count": 314,
   "id": "591a8e26",
   "metadata": {},
   "outputs": [],
   "source": [
    "# Creating a function to group RFM values into bins\n",
    "def get_RFM_scores(df, bins, labels):\n",
    "    '''This function takes a dataframe, a list of bin edges, and labels for bin output as the inputs. It returns a dataframe that contains\n",
    "    each of the columns regrouped into the specified bins with the corresponding labels as values.\n",
    "    \n",
    "    Args:\n",
    "        df(DataFrame): dataframe with columns to be binned.\n",
    "        bins(list): list of lists that each specify bin edges for each df column.\n",
    "        labels(list): list of lists that contain labels for each column\n",
    "        \n",
    "    Returns:\n",
    "        DataFrame with columns grouped into specified bins with labels as new values.\n",
    "    \n",
    "    Notes: *The recency column must be named \"Recency\" in order for the function to identify it and convert the scores to the proper \n",
    "    direction.\n",
    "    '''\n",
    "    scores = []\n",
    "    bin_count = 0\n",
    "    label_count = 0\n",
    "    # Getting scores binned scores for each column\n",
    "    for col in df:\n",
    "        score = pd.cut(x = df[col], bins=bins[bin_count], labels=labels[label_count], include_lowest=True)\n",
    "        # Converting score to proper direction for Recency column only\n",
    "        if col == 'Recency':\n",
    "            score = 4 - score.astype('int') + 1    \n",
    "        scores.append(score)\n",
    "        bin_count += 1\n",
    "        label_count += 1\n",
    "    # Creating dataframe with scores for R, F and M\n",
    "    RFM_scores = pd.DataFrame(scores).transpose()\n",
    "    return RFM_scores"
   ]
  },
  {
   "cell_type": "code",
   "execution_count": 315,
   "id": "4e17e64a",
   "metadata": {},
   "outputs": [
    {
     "data": {
      "text/plain": [
       "Recency          4\n",
       "Frequency_log    1\n",
       "Monetary_log     4\n",
       "Name: C1010011, dtype: int64"
      ]
     },
     "execution_count": 315,
     "metadata": {},
     "output_type": "execute_result"
    }
   ],
   "source": [
    "# Calculating RFM scores using function\n",
    "RFM_scores = get_RFM_scores(scaled_df, bins=[recency_bins, frequency_bins, monetary_bins], \n",
    "                           labels=[recency_labels, frequency_labels, monetary_labels])\n",
    "# CHecking that output for specific customer is correctly binned\n",
    "RFM_scores.loc['C1010011', :]"
   ]
  },
  {
   "cell_type": "code",
   "execution_count": 316,
   "id": "29d49de3",
   "metadata": {},
   "outputs": [
    {
     "data": {
      "text/plain": [
       "Recency          0.308642\n",
       "Frequency_log    0.386853\n",
       "Monetary_log     0.855498\n",
       "Name: C1010011, dtype: float64"
      ]
     },
     "execution_count": 316,
     "metadata": {},
     "output_type": "execute_result"
    }
   ],
   "source": [
    "# Values to compare above\n",
    "scaled_df.loc['C1010011', :]"
   ]
  },
  {
   "cell_type": "markdown",
   "id": "a306027b",
   "metadata": {},
   "source": [
    "As shown above the values are correctly binned according to the specified bin edges. The features are now ready for clustering."
   ]
  },
  {
   "cell_type": "code",
   "execution_count": 317,
   "id": "942622c2",
   "metadata": {
    "scrolled": true
   },
   "outputs": [
    {
     "data": {
      "text/html": [
       "<div>\n",
       "<style scoped>\n",
       "    .dataframe tbody tr th:only-of-type {\n",
       "        vertical-align: middle;\n",
       "    }\n",
       "\n",
       "    .dataframe tbody tr th {\n",
       "        vertical-align: top;\n",
       "    }\n",
       "\n",
       "    .dataframe thead th {\n",
       "        text-align: right;\n",
       "    }\n",
       "</style>\n",
       "<table border=\"1\" class=\"dataframe\">\n",
       "  <thead>\n",
       "    <tr style=\"text-align: right;\">\n",
       "      <th></th>\n",
       "      <th>Recency</th>\n",
       "      <th>Frequency_log</th>\n",
       "      <th>Monetary_log</th>\n",
       "    </tr>\n",
       "  </thead>\n",
       "  <tbody>\n",
       "    <tr>\n",
       "      <th>count</th>\n",
       "      <td>875808.000000</td>\n",
       "      <td>875808.000000</td>\n",
       "      <td>875808.000000</td>\n",
       "    </tr>\n",
       "    <tr>\n",
       "      <th>mean</th>\n",
       "      <td>2.520958</td>\n",
       "      <td>1.021137</td>\n",
       "      <td>2.497952</td>\n",
       "    </tr>\n",
       "    <tr>\n",
       "      <th>std</th>\n",
       "      <td>1.118470</td>\n",
       "      <td>0.143841</td>\n",
       "      <td>1.118823</td>\n",
       "    </tr>\n",
       "    <tr>\n",
       "      <th>min</th>\n",
       "      <td>1.000000</td>\n",
       "      <td>1.000000</td>\n",
       "      <td>1.000000</td>\n",
       "    </tr>\n",
       "    <tr>\n",
       "      <th>25%</th>\n",
       "      <td>2.000000</td>\n",
       "      <td>1.000000</td>\n",
       "      <td>1.000000</td>\n",
       "    </tr>\n",
       "    <tr>\n",
       "      <th>50%</th>\n",
       "      <td>3.000000</td>\n",
       "      <td>1.000000</td>\n",
       "      <td>2.000000</td>\n",
       "    </tr>\n",
       "    <tr>\n",
       "      <th>75%</th>\n",
       "      <td>4.000000</td>\n",
       "      <td>1.000000</td>\n",
       "      <td>3.000000</td>\n",
       "    </tr>\n",
       "    <tr>\n",
       "      <th>max</th>\n",
       "      <td>4.000000</td>\n",
       "      <td>2.000000</td>\n",
       "      <td>4.000000</td>\n",
       "    </tr>\n",
       "  </tbody>\n",
       "</table>\n",
       "</div>"
      ],
      "text/plain": [
       "             Recency  Frequency_log   Monetary_log\n",
       "count  875808.000000  875808.000000  875808.000000\n",
       "mean        2.520958       1.021137       2.497952\n",
       "std         1.118470       0.143841       1.118823\n",
       "min         1.000000       1.000000       1.000000\n",
       "25%         2.000000       1.000000       1.000000\n",
       "50%         3.000000       1.000000       2.000000\n",
       "75%         4.000000       1.000000       3.000000\n",
       "max         4.000000       2.000000       4.000000"
      ]
     },
     "execution_count": 317,
     "metadata": {},
     "output_type": "execute_result"
    }
   ],
   "source": [
    "RFM_scores.describe()"
   ]
  },
  {
   "cell_type": "markdown",
   "id": "07ea9e58",
   "metadata": {},
   "source": [
    "## Modeling"
   ]
  },
  {
   "cell_type": "markdown",
   "id": "722f23a9",
   "metadata": {},
   "source": [
    "The K-Means clustering model will be used because it works efficiently on large datasets and generally results in tight clusters. It is also very interpretable. It's main downside is having to specify the number of clusters before modeling, but this can be optimized using the elbow method."
   ]
  },
  {
   "cell_type": "markdown",
   "id": "2e0487ed",
   "metadata": {},
   "source": [
    "The elbow method finds the optimal tradeoff point between minimizing inertia (measure of distance between cluster points and centroid) and increasing the number of clusters (k). "
   ]
  },
  {
   "cell_type": "code",
   "execution_count": 318,
   "id": "43157fd4",
   "metadata": {},
   "outputs": [],
   "source": [
    "from sklearn.cluster import KMeans\n",
    "# Calculating inertia for different number of clusters k\n",
    "inertia = []\n",
    "for k in range(2, 11):\n",
    "    model = KMeans(n_clusters=k, init='k-means++', n_init='auto', random_state=20)\n",
    "    model.fit(RFM_scores)\n",
    "    inertia.append(model.inertia_)"
   ]
  },
  {
   "cell_type": "code",
   "execution_count": 319,
   "id": "02db0b02",
   "metadata": {},
   "outputs": [
    {
     "data": {
      "image/png": "[encoded data removed]",
      "text/plain": [
       "<Figure size 640x480 with 1 Axes>"
      ]
     },
     "metadata": {},
     "output_type": "display_data"
    }
   ],
   "source": [
    "# Visualizing optimal k using elbow method\n",
    "sns.lineplot(x=range(2, 11), y=inertia, markers=True)\n",
    "plt.xlabel('Number of Clusters k')\n",
    "plt.ylabel('Inertia')\n",
    "plt.show()"
   ]
  },
  {
   "cell_type": "code",
   "execution_count": 320,
   "id": "20a1aa7a",
   "metadata": {
    "scrolled": true
   },
   "outputs": [
    {
     "data": {
      "text/plain": [
       "[1332906.3370764623,\n",
       " 829127.5637930292,\n",
       " 455712.8632158764,\n",
       " 410108.74852503,\n",
       " 371894.9074677397,\n",
       " 325335.3778979999,\n",
       " 288308.81040233304,\n",
       " 244284.00032569657,\n",
       " 217108.78432399966]"
      ]
     },
     "execution_count": 320,
     "metadata": {},
     "output_type": "execute_result"
    }
   ],
   "source": [
    "# Display inertia values\n",
    "inertia"
   ]
  },
  {
   "cell_type": "markdown",
   "id": "2d1b6396",
   "metadata": {},
   "source": [
    "From the elbow plot above it seems like the optimal number of clusters is 4 since that is where the 'elbow' of the plot is located. \n",
    "\n",
    "We will also use the silhouette scores to choose an appropriate number of clusters. The silhouette score looks at minimizing intra-cluster distance (to data points in same cluster) and maximize inter-cluster distance (to points in neareast neighbouring cluster). Scores closest to 1 represent better clustering."
   ]
  },
  {
   "cell_type": "markdown",
   "id": "dad08002",
   "metadata": {},
   "source": [
    "There are too many data points to compute the silhouette scores as that computation is too intensive. A 10% sample of the data will be taken to calculate silhouette scores."
   ]
  },
  {
   "cell_type": "code",
   "execution_count": 321,
   "id": "9b3b8a93",
   "metadata": {},
   "outputs": [
    {
     "data": {
      "text/html": [
       "<div>\n",
       "<style scoped>\n",
       "    .dataframe tbody tr th:only-of-type {\n",
       "        vertical-align: middle;\n",
       "    }\n",
       "\n",
       "    .dataframe tbody tr th {\n",
       "        vertical-align: top;\n",
       "    }\n",
       "\n",
       "    .dataframe thead th {\n",
       "        text-align: right;\n",
       "    }\n",
       "</style>\n",
       "<table border=\"1\" class=\"dataframe\">\n",
       "  <thead>\n",
       "    <tr style=\"text-align: right;\">\n",
       "      <th></th>\n",
       "      <th>Recency</th>\n",
       "      <th>Frequency_log</th>\n",
       "      <th>Monetary_log</th>\n",
       "    </tr>\n",
       "  </thead>\n",
       "  <tbody>\n",
       "    <tr>\n",
       "      <th>count</th>\n",
       "      <td>8758.000000</td>\n",
       "      <td>8758.000000</td>\n",
       "      <td>8758.000000</td>\n",
       "    </tr>\n",
       "    <tr>\n",
       "      <th>mean</th>\n",
       "      <td>2.506280</td>\n",
       "      <td>1.020438</td>\n",
       "      <td>2.503654</td>\n",
       "    </tr>\n",
       "    <tr>\n",
       "      <th>std</th>\n",
       "      <td>1.121955</td>\n",
       "      <td>0.141503</td>\n",
       "      <td>1.119725</td>\n",
       "    </tr>\n",
       "    <tr>\n",
       "      <th>min</th>\n",
       "      <td>1.000000</td>\n",
       "      <td>1.000000</td>\n",
       "      <td>1.000000</td>\n",
       "    </tr>\n",
       "    <tr>\n",
       "      <th>25%</th>\n",
       "      <td>1.000000</td>\n",
       "      <td>1.000000</td>\n",
       "      <td>1.000000</td>\n",
       "    </tr>\n",
       "    <tr>\n",
       "      <th>50%</th>\n",
       "      <td>3.000000</td>\n",
       "      <td>1.000000</td>\n",
       "      <td>3.000000</td>\n",
       "    </tr>\n",
       "    <tr>\n",
       "      <th>75%</th>\n",
       "      <td>4.000000</td>\n",
       "      <td>1.000000</td>\n",
       "      <td>4.000000</td>\n",
       "    </tr>\n",
       "    <tr>\n",
       "      <th>max</th>\n",
       "      <td>4.000000</td>\n",
       "      <td>2.000000</td>\n",
       "      <td>4.000000</td>\n",
       "    </tr>\n",
       "  </tbody>\n",
       "</table>\n",
       "</div>"
      ],
      "text/plain": [
       "           Recency  Frequency_log  Monetary_log\n",
       "count  8758.000000    8758.000000   8758.000000\n",
       "mean      2.506280       1.020438      2.503654\n",
       "std       1.121955       0.141503      1.119725\n",
       "min       1.000000       1.000000      1.000000\n",
       "25%       1.000000       1.000000      1.000000\n",
       "50%       3.000000       1.000000      3.000000\n",
       "75%       4.000000       1.000000      4.000000\n",
       "max       4.000000       2.000000      4.000000"
      ]
     },
     "execution_count": 321,
     "metadata": {},
     "output_type": "execute_result"
    }
   ],
   "source": [
    "# Taking random sample to calculate silhouette scores\n",
    "RFM_scores_sample = RFM_scores.sample(frac=0.01, replace=False, random_state=20)\n",
    "# The distribution stats are almost identical to whole dataset\n",
    "RFM_scores_sample.describe()"
   ]
  },
  {
   "cell_type": "code",
   "execution_count": 322,
   "id": "3a9e98e7",
   "metadata": {},
   "outputs": [],
   "source": [
    "# Calculating silhouette score for range of k values\n",
    "from sklearn.metrics import silhouette_score\n",
    "scores = []\n",
    "for k in range(2, 11):\n",
    "    model = KMeans(n_clusters=k, init='k-means++', n_init='auto', random_state=20)\n",
    "    model.fit(RFM_scores_sample)\n",
    "    sil = silhouette_score(RFM_scores_sample, model.labels_, metric='euclidean')\n",
    "    scores.append(sil)"
   ]
  },
  {
   "cell_type": "code",
   "execution_count": 323,
   "id": "98fcd353",
   "metadata": {},
   "outputs": [
    {
     "data": {
      "image/png": "[encoded data removed]",
      "text/plain": [
       "<Figure size 640x480 with 1 Axes>"
      ]
     },
     "metadata": {},
     "output_type": "display_data"
    }
   ],
   "source": [
    "# Visualizing optimal k using silhouette score\n",
    "sns.lineplot(x=range(2, 11), y=scores, markers=True)\n",
    "plt.xlabel('Number of Clusters k')\n",
    "plt.ylabel('Silhouette Score')\n",
    "plt.show()"
   ]
  },
  {
   "cell_type": "markdown",
   "id": "b6faf655",
   "metadata": {},
   "source": [
    "There is a local maximum at 4 clusters. Both the elbow plot and silhouette scores indicate that 4 clusters is a good choice. We will nonetheless compute the clusters for k=3 and k=5 to compare to k=4."
   ]
  },
  {
   "cell_type": "code",
   "execution_count": 324,
   "id": "c2c0b557",
   "metadata": {},
   "outputs": [],
   "source": [
    "# Creating function for clustering with different k values and returning df \n",
    "# with assigned clusters\n",
    "def get_cluster_df(k, df):\n",
    "    # Fit k-means with k clusters\n",
    "    kmeans = KMeans(n_clusters=k, init='k-means++', n_init='auto', random_state=20)\n",
    "    kmeans.fit(df)\n",
    "    cluster_labels = kmeans.labels_\n",
    "    # Adding cluster labels to supplied df\n",
    "    df_clusters = df.assign(Cluster=cluster_labels)\n",
    "    return df_clusters"
   ]
  },
  {
   "cell_type": "code",
   "execution_count": 325,
   "id": "6b6c8ca7",
   "metadata": {
    "scrolled": true
   },
   "outputs": [
    {
     "data": {
      "text/html": [
       "<div>\n",
       "<style scoped>\n",
       "    .dataframe tbody tr th:only-of-type {\n",
       "        vertical-align: middle;\n",
       "    }\n",
       "\n",
       "    .dataframe tbody tr th {\n",
       "        vertical-align: top;\n",
       "    }\n",
       "\n",
       "    .dataframe thead th {\n",
       "        text-align: right;\n",
       "    }\n",
       "</style>\n",
       "<table border=\"1\" class=\"dataframe\">\n",
       "  <thead>\n",
       "    <tr style=\"text-align: right;\">\n",
       "      <th></th>\n",
       "      <th>Recency</th>\n",
       "      <th>Frequency_log</th>\n",
       "      <th>Monetary_log</th>\n",
       "      <th>Cluster</th>\n",
       "    </tr>\n",
       "    <tr>\n",
       "      <th>CustomerID</th>\n",
       "      <th></th>\n",
       "      <th></th>\n",
       "      <th></th>\n",
       "      <th></th>\n",
       "    </tr>\n",
       "  </thead>\n",
       "  <tbody>\n",
       "    <tr>\n",
       "      <th>C1010011</th>\n",
       "      <td>4</td>\n",
       "      <td>1</td>\n",
       "      <td>4</td>\n",
       "      <td>2</td>\n",
       "    </tr>\n",
       "    <tr>\n",
       "      <th>C1010012</th>\n",
       "      <td>2</td>\n",
       "      <td>1</td>\n",
       "      <td>4</td>\n",
       "      <td>2</td>\n",
       "    </tr>\n",
       "    <tr>\n",
       "      <th>C1010014</th>\n",
       "      <td>1</td>\n",
       "      <td>1</td>\n",
       "      <td>3</td>\n",
       "      <td>1</td>\n",
       "    </tr>\n",
       "    <tr>\n",
       "      <th>C1010018</th>\n",
       "      <td>4</td>\n",
       "      <td>1</td>\n",
       "      <td>1</td>\n",
       "      <td>0</td>\n",
       "    </tr>\n",
       "    <tr>\n",
       "      <th>C1010024</th>\n",
       "      <td>2</td>\n",
       "      <td>1</td>\n",
       "      <td>4</td>\n",
       "      <td>2</td>\n",
       "    </tr>\n",
       "  </tbody>\n",
       "</table>\n",
       "</div>"
      ],
      "text/plain": [
       "            Recency  Frequency_log  Monetary_log  Cluster\n",
       "CustomerID                                               \n",
       "C1010011          4              1             4        2\n",
       "C1010012          2              1             4        2\n",
       "C1010014          1              1             3        1\n",
       "C1010018          4              1             1        0\n",
       "C1010024          2              1             4        2"
      ]
     },
     "metadata": {},
     "output_type": "display_data"
    },
    {
     "data": {
      "text/html": [
       "<div>\n",
       "<style scoped>\n",
       "    .dataframe tbody tr th:only-of-type {\n",
       "        vertical-align: middle;\n",
       "    }\n",
       "\n",
       "    .dataframe tbody tr th {\n",
       "        vertical-align: top;\n",
       "    }\n",
       "\n",
       "    .dataframe thead th {\n",
       "        text-align: right;\n",
       "    }\n",
       "</style>\n",
       "<table border=\"1\" class=\"dataframe\">\n",
       "  <thead>\n",
       "    <tr style=\"text-align: right;\">\n",
       "      <th></th>\n",
       "      <th>Recency</th>\n",
       "      <th>Frequency_log</th>\n",
       "      <th>Monetary_log</th>\n",
       "      <th>Cluster</th>\n",
       "    </tr>\n",
       "    <tr>\n",
       "      <th>CustomerID</th>\n",
       "      <th></th>\n",
       "      <th></th>\n",
       "      <th></th>\n",
       "      <th></th>\n",
       "    </tr>\n",
       "  </thead>\n",
       "  <tbody>\n",
       "    <tr>\n",
       "      <th>C1010011</th>\n",
       "      <td>4</td>\n",
       "      <td>1</td>\n",
       "      <td>4</td>\n",
       "      <td>3</td>\n",
       "    </tr>\n",
       "    <tr>\n",
       "      <th>C1010012</th>\n",
       "      <td>2</td>\n",
       "      <td>1</td>\n",
       "      <td>4</td>\n",
       "      <td>2</td>\n",
       "    </tr>\n",
       "    <tr>\n",
       "      <th>C1010014</th>\n",
       "      <td>1</td>\n",
       "      <td>1</td>\n",
       "      <td>3</td>\n",
       "      <td>2</td>\n",
       "    </tr>\n",
       "    <tr>\n",
       "      <th>C1010018</th>\n",
       "      <td>4</td>\n",
       "      <td>1</td>\n",
       "      <td>1</td>\n",
       "      <td>0</td>\n",
       "    </tr>\n",
       "    <tr>\n",
       "      <th>C1010024</th>\n",
       "      <td>2</td>\n",
       "      <td>1</td>\n",
       "      <td>4</td>\n",
       "      <td>2</td>\n",
       "    </tr>\n",
       "  </tbody>\n",
       "</table>\n",
       "</div>"
      ],
      "text/plain": [
       "            Recency  Frequency_log  Monetary_log  Cluster\n",
       "CustomerID                                               \n",
       "C1010011          4              1             4        3\n",
       "C1010012          2              1             4        2\n",
       "C1010014          1              1             3        2\n",
       "C1010018          4              1             1        0\n",
       "C1010024          2              1             4        2"
      ]
     },
     "metadata": {},
     "output_type": "display_data"
    },
    {
     "data": {
      "text/html": [
       "<div>\n",
       "<style scoped>\n",
       "    .dataframe tbody tr th:only-of-type {\n",
       "        vertical-align: middle;\n",
       "    }\n",
       "\n",
       "    .dataframe tbody tr th {\n",
       "        vertical-align: top;\n",
       "    }\n",
       "\n",
       "    .dataframe thead th {\n",
       "        text-align: right;\n",
       "    }\n",
       "</style>\n",
       "<table border=\"1\" class=\"dataframe\">\n",
       "  <thead>\n",
       "    <tr style=\"text-align: right;\">\n",
       "      <th></th>\n",
       "      <th>Recency</th>\n",
       "      <th>Frequency_log</th>\n",
       "      <th>Monetary_log</th>\n",
       "      <th>Cluster</th>\n",
       "    </tr>\n",
       "    <tr>\n",
       "      <th>CustomerID</th>\n",
       "      <th></th>\n",
       "      <th></th>\n",
       "      <th></th>\n",
       "      <th></th>\n",
       "    </tr>\n",
       "  </thead>\n",
       "  <tbody>\n",
       "    <tr>\n",
       "      <th>C1010011</th>\n",
       "      <td>4</td>\n",
       "      <td>1</td>\n",
       "      <td>4</td>\n",
       "      <td>3</td>\n",
       "    </tr>\n",
       "    <tr>\n",
       "      <th>C1010012</th>\n",
       "      <td>2</td>\n",
       "      <td>1</td>\n",
       "      <td>4</td>\n",
       "      <td>2</td>\n",
       "    </tr>\n",
       "    <tr>\n",
       "      <th>C1010014</th>\n",
       "      <td>1</td>\n",
       "      <td>1</td>\n",
       "      <td>3</td>\n",
       "      <td>2</td>\n",
       "    </tr>\n",
       "    <tr>\n",
       "      <th>C1010018</th>\n",
       "      <td>4</td>\n",
       "      <td>1</td>\n",
       "      <td>1</td>\n",
       "      <td>0</td>\n",
       "    </tr>\n",
       "    <tr>\n",
       "      <th>C1010024</th>\n",
       "      <td>2</td>\n",
       "      <td>1</td>\n",
       "      <td>4</td>\n",
       "      <td>2</td>\n",
       "    </tr>\n",
       "  </tbody>\n",
       "</table>\n",
       "</div>"
      ],
      "text/plain": [
       "            Recency  Frequency_log  Monetary_log  Cluster\n",
       "CustomerID                                               \n",
       "C1010011          4              1             4        3\n",
       "C1010012          2              1             4        2\n",
       "C1010014          1              1             3        2\n",
       "C1010018          4              1             1        0\n",
       "C1010024          2              1             4        2"
      ]
     },
     "metadata": {},
     "output_type": "display_data"
    }
   ],
   "source": [
    "# Performing clustering and obtaining cluster labels\n",
    "df_k3 = get_cluster_df(3, RFM_scores)\n",
    "df_k4 = get_cluster_df(4, RFM_scores)\n",
    "df_k5 = get_cluster_df(5, RFM_scores)\n",
    "display(df_k3.head(), df_k4.head(), df_k5.head())"
   ]
  },
  {
   "cell_type": "code",
   "execution_count": 326,
   "id": "62a503e3",
   "metadata": {},
   "outputs": [],
   "source": [
    "# Creating function to get mean of features for each k value\n",
    "def mean_feature_df(df_k):\n",
    "    df_k_avg = df_k.groupby('Cluster').mean()\n",
    "    df_k_avg.rename(columns={'Recency':'Avg_Recency', 'Monetary_log':\n",
    "                             'Avg_Monetary', 'Frequency_log':'Avg_Frequency'}, \n",
    "                    inplace=True)\n",
    "    return df_k_avg"
   ]
  },
  {
   "cell_type": "code",
   "execution_count": 327,
   "id": "35d125ca",
   "metadata": {},
   "outputs": [
    {
     "data": {
      "text/html": [
       "<div>\n",
       "<style scoped>\n",
       "    .dataframe tbody tr th:only-of-type {\n",
       "        vertical-align: middle;\n",
       "    }\n",
       "\n",
       "    .dataframe tbody tr th {\n",
       "        vertical-align: top;\n",
       "    }\n",
       "\n",
       "    .dataframe thead th {\n",
       "        text-align: right;\n",
       "    }\n",
       "</style>\n",
       "<table border=\"1\" class=\"dataframe\">\n",
       "  <thead>\n",
       "    <tr style=\"text-align: right;\">\n",
       "      <th></th>\n",
       "      <th>Avg_Recency</th>\n",
       "      <th>Avg_Frequency</th>\n",
       "      <th>Avg_Monetary</th>\n",
       "    </tr>\n",
       "    <tr>\n",
       "      <th>Cluster</th>\n",
       "      <th></th>\n",
       "      <th></th>\n",
       "      <th></th>\n",
       "    </tr>\n",
       "  </thead>\n",
       "  <tbody>\n",
       "    <tr>\n",
       "      <th>0</th>\n",
       "      <td>3.600945</td>\n",
       "      <td>1.031325</td>\n",
       "      <td>1.814379</td>\n",
       "    </tr>\n",
       "    <tr>\n",
       "      <th>1</th>\n",
       "      <td>1.399342</td>\n",
       "      <td>1.003715</td>\n",
       "      <td>1.783573</td>\n",
       "    </tr>\n",
       "    <tr>\n",
       "      <th>2</th>\n",
       "      <td>2.525697</td>\n",
       "      <td>1.026818</td>\n",
       "      <td>3.668422</td>\n",
       "    </tr>\n",
       "  </tbody>\n",
       "</table>\n",
       "</div>"
      ],
      "text/plain": [
       "         Avg_Recency  Avg_Frequency  Avg_Monetary\n",
       "Cluster                                          \n",
       "0           3.600945       1.031325      1.814379\n",
       "1           1.399342       1.003715      1.783573\n",
       "2           2.525697       1.026818      3.668422"
      ]
     },
     "metadata": {},
     "output_type": "display_data"
    },
    {
     "data": {
      "text/html": [
       "<div>\n",
       "<style scoped>\n",
       "    .dataframe tbody tr th:only-of-type {\n",
       "        vertical-align: middle;\n",
       "    }\n",
       "\n",
       "    .dataframe tbody tr th {\n",
       "        vertical-align: top;\n",
       "    }\n",
       "\n",
       "    .dataframe thead th {\n",
       "        text-align: right;\n",
       "    }\n",
       "</style>\n",
       "<table border=\"1\" class=\"dataframe\">\n",
       "  <thead>\n",
       "    <tr style=\"text-align: right;\">\n",
       "      <th></th>\n",
       "      <th>Avg_Recency</th>\n",
       "      <th>Avg_Frequency</th>\n",
       "      <th>Avg_Monetary</th>\n",
       "    </tr>\n",
       "    <tr>\n",
       "      <th>Cluster</th>\n",
       "      <th></th>\n",
       "      <th></th>\n",
       "      <th></th>\n",
       "    </tr>\n",
       "  </thead>\n",
       "  <tbody>\n",
       "    <tr>\n",
       "      <th>0</th>\n",
       "      <td>3.498374</td>\n",
       "      <td>1.023324</td>\n",
       "      <td>1.509632</td>\n",
       "    </tr>\n",
       "    <tr>\n",
       "      <th>1</th>\n",
       "      <td>1.496431</td>\n",
       "      <td>1.003996</td>\n",
       "      <td>1.487835</td>\n",
       "    </tr>\n",
       "    <tr>\n",
       "      <th>2</th>\n",
       "      <td>1.495572</td>\n",
       "      <td>1.008762</td>\n",
       "      <td>3.502779</td>\n",
       "    </tr>\n",
       "    <tr>\n",
       "      <th>3</th>\n",
       "      <td>3.496796</td>\n",
       "      <td>1.046879</td>\n",
       "      <td>3.498613</td>\n",
       "    </tr>\n",
       "  </tbody>\n",
       "</table>\n",
       "</div>"
      ],
      "text/plain": [
       "         Avg_Recency  Avg_Frequency  Avg_Monetary\n",
       "Cluster                                          \n",
       "0           3.498374       1.023324      1.509632\n",
       "1           1.496431       1.003996      1.487835\n",
       "2           1.495572       1.008762      3.502779\n",
       "3           3.496796       1.046879      3.498613"
      ]
     },
     "metadata": {},
     "output_type": "display_data"
    },
    {
     "data": {
      "text/html": [
       "<div>\n",
       "<style scoped>\n",
       "    .dataframe tbody tr th:only-of-type {\n",
       "        vertical-align: middle;\n",
       "    }\n",
       "\n",
       "    .dataframe tbody tr th {\n",
       "        vertical-align: top;\n",
       "    }\n",
       "\n",
       "    .dataframe thead th {\n",
       "        text-align: right;\n",
       "    }\n",
       "</style>\n",
       "<table border=\"1\" class=\"dataframe\">\n",
       "  <thead>\n",
       "    <tr style=\"text-align: right;\">\n",
       "      <th></th>\n",
       "      <th>Avg_Recency</th>\n",
       "      <th>Avg_Frequency</th>\n",
       "      <th>Avg_Monetary</th>\n",
       "    </tr>\n",
       "    <tr>\n",
       "      <th>Cluster</th>\n",
       "      <th></th>\n",
       "      <th></th>\n",
       "      <th></th>\n",
       "    </tr>\n",
       "  </thead>\n",
       "  <tbody>\n",
       "    <tr>\n",
       "      <th>0</th>\n",
       "      <td>4.000000</td>\n",
       "      <td>1.030301</td>\n",
       "      <td>1.514924</td>\n",
       "    </tr>\n",
       "    <tr>\n",
       "      <th>1</th>\n",
       "      <td>1.323966</td>\n",
       "      <td>1.004498</td>\n",
       "      <td>1.654911</td>\n",
       "    </tr>\n",
       "    <tr>\n",
       "      <th>2</th>\n",
       "      <td>1.495572</td>\n",
       "      <td>1.008762</td>\n",
       "      <td>3.502779</td>\n",
       "    </tr>\n",
       "    <tr>\n",
       "      <th>3</th>\n",
       "      <td>3.496796</td>\n",
       "      <td>1.046879</td>\n",
       "      <td>3.498613</td>\n",
       "    </tr>\n",
       "    <tr>\n",
       "      <th>4</th>\n",
       "      <td>2.667677</td>\n",
       "      <td>1.011785</td>\n",
       "      <td>1.336759</td>\n",
       "    </tr>\n",
       "  </tbody>\n",
       "</table>\n",
       "</div>"
      ],
      "text/plain": [
       "         Avg_Recency  Avg_Frequency  Avg_Monetary\n",
       "Cluster                                          \n",
       "0           4.000000       1.030301      1.514924\n",
       "1           1.323966       1.004498      1.654911\n",
       "2           1.495572       1.008762      3.502779\n",
       "3           3.496796       1.046879      3.498613\n",
       "4           2.667677       1.011785      1.336759"
      ]
     },
     "metadata": {},
     "output_type": "display_data"
    }
   ],
   "source": [
    "# Calculating mean RFM values for each cluster number\n",
    "df_k3_avg = mean_feature_df(df_k3)\n",
    "df_k4_avg = mean_feature_df(df_k4)\n",
    "df_k5_avg = mean_feature_df(df_k5)\n",
    "display(df_k3_avg)\n",
    "display(df_k4_avg)\n",
    "display(df_k5_avg)"
   ]
  },
  {
   "cell_type": "markdown",
   "id": "eb640ed4",
   "metadata": {},
   "source": [
    "From the avg RFM values for each number of clusters we see that k=4 returns clusters with a good range for Recency and Monetary. 5 clusters provides slightly more information but not enough to warrant the additional cluster.\n",
    "\n",
    "Since the frequency is so heavily skewed to the left, the average frequency for all clusters is around 1."
   ]
  },
  {
   "cell_type": "code",
   "execution_count": 328,
   "id": "b6577386",
   "metadata": {},
   "outputs": [],
   "source": [
    "def plot_clusters(df, k):\n",
    "    sns.scatterplot(data=df, x='Monetary_log', y='Recency', hue='Cluster', palette='Accent')\n",
    "    plt.xlabel('Monetary_log')\n",
    "    plt.ylabel('Recency')\n",
    "    plt.title(f\"{k} Clusters\")\n",
    "    plt.show()"
   ]
  },
  {
   "cell_type": "code",
   "execution_count": 329,
   "id": "1d855c52",
   "metadata": {},
   "outputs": [],
   "source": [
    "# Plotting clusters for each k\n",
    "# plot_clusters(df_k4, 4)"
   ]
  },
  {
   "cell_type": "code",
   "execution_count": 330,
   "id": "00f7c1d1",
   "metadata": {},
   "outputs": [
    {
     "data": {
      "image/png": "[encoded data removed]",
      "text/plain": [
       "<Figure size 1000x800 with 3 Axes>"
      ]
     },
     "metadata": {},
     "output_type": "display_data"
    }
   ],
   "source": [
    "# Plotting the mean RFM scores for each cluster for visualization\n",
    "plt.figure(figsize=(10, 8))\n",
    "\n",
    "# Plotting mean Recency\n",
    "plt.subplot(3, 1, 1)\n",
    "sns.barplot(data=df_k4_avg, x=df_k4_avg.index, y='Avg_Recency')\n",
    "plt.xlabel('Cluster')\n",
    "plt.ylabel('Recency')\n",
    "\n",
    "# Plotting mean frequency\n",
    "plt.subplot(3, 1, 2)\n",
    "sns.barplot(data=df_k4_avg, x=df_k4_avg.index, y='Avg_Frequency')\n",
    "plt.xlabel('Cluster')\n",
    "plt.ylabel('Frequency')\n",
    "\n",
    "# Plotting mean monetary\n",
    "plt.subplot(3, 1, 3)\n",
    "sns.barplot(data=df_k4_avg, x=df_k4_avg.index, y='Avg_Monetary')\n",
    "plt.xlabel('Cluster')\n",
    "plt.ylabel('Monetary')\n",
    "\n",
    "plt.subplots_adjust(hspace=0.3)\n",
    "plt.show()"
   ]
  },
  {
   "cell_type": "markdown",
   "id": "8793f4a8",
   "metadata": {},
   "source": [
    "There is not enough variation in the frequency values as they are similar for all clusters. This is unlikely to be the case in a real-world dataset that spans a greater time range. Because of this, only recency and monetary will be discussed for each cluster.\n",
    "\n",
    "From the average RFM scores in the plot above we can make the following conclusions about the clusters:\n",
    "\n",
    "- **Cluster 0 (high recency, low monetary)**: these customers have purchased recently but do not spend much on average. They are therefore **recent low-value** customers. They should be targeted with promotions that reward higher spending. \n",
    "\n",
    "- **Cluster 1 (low recency, low monetary)**: these customers spend the least on average and have not purchased recently. They are therefore our **lowest value** customers. They can still be targeted with small promotions to try and increase their transaction activity.\n",
    "\n",
    "- **Cluster 2 (low recency, high monetary)**: these customers spend a lot on average but have not purchased recently. They are therefore **at-risk high-value** customers. It is likely that these individuals are using other banks services. They should therefore be targeted with promotional offerings to increase there usage of our banks products.\n",
    "\n",
    "- **Cluster 3 (high recency, high monetary)**: these customers spend the most on average and have purchased most recently. They are the **most valuabe customers (MVCs)**. The possibility of a special rewards program for these important customers should be looked into."
   ]
  },
  {
   "cell_type": "code",
   "execution_count": 331,
   "id": "66337abd",
   "metadata": {},
   "outputs": [
    {
     "data": {
      "text/plain": [
       "Cluster\n",
       "0    0.253143\n",
       "1    0.247747\n",
       "2    0.240179\n",
       "3    0.258930\n",
       "Name: proportion, dtype: float64"
      ]
     },
     "metadata": {},
     "output_type": "display_data"
    },
    {
     "data": {
      "text/plain": [
       "[25.3, 24.8, 24.0, 25.9]"
      ]
     },
     "execution_count": 331,
     "metadata": {},
     "output_type": "execute_result"
    }
   ],
   "source": [
    "# Looking at percentage of customers in each category\n",
    "cluster_percent = df_k4['Cluster'].value_counts(normalize=True)\n",
    "display(cluster_percent.sort_index())\n",
    "# Putting cluster percentages into list\n",
    "cluster_percent_list = cluster_percent.sort_index().to_list()\n",
    "cluster_percent_list = [i * 100 for i in cluster_percent_list]\n",
    "cluster_percent_list = [round(num, 1) for num in cluster_percent_list]\n",
    "cluster_percent_list"
   ]
  },
  {
   "cell_type": "code",
   "execution_count": 335,
   "id": "aae52c96",
   "metadata": {},
   "outputs": [
    {
     "data": {
      "image/png": "[encoded data removed]",
      "text/plain": [
       "<Figure size 640x480 with 1 Axes>"
      ]
     },
     "metadata": {},
     "output_type": "display_data"
    }
   ],
   "source": [
    "# Visualizing customer perventage in each cluster with pi chart\n",
    "labels = ['Recent Low-Value', 'Lowest Value', 'At-Risk High-Value', 'Most Valuable Customers']\n",
    "percents = cluster_percent_list\n",
    "# \"exploding\" 1st slice\n",
    "explode = (0, 0, 0, 0.1)\n",
    "\n",
    "fig, ax = plt.subplots()\n",
    "ax.pie(percents, explode=explode, labels=labels, autopct='%1.1f%%', shadow=True, startangle=90)\n",
    "\n",
    "plt.title(\"Percentage of Customers in each Cluster\")\n",
    "plt.tight_layout()\n",
    "plt.show()"
   ]
  },
  {
   "cell_type": "markdown",
   "id": "d1b45784",
   "metadata": {},
   "source": [
    "## Recommendations"
   ]
  },
  {
   "cell_type": "markdown",
   "id": "99e8acc6",
   "metadata": {},
   "source": [
    "It is recommended that personalized marketing strategies be conducted for each of the customer groups as outlined in the previous section."
   ]
  },
  {
   "cell_type": "markdown",
   "id": "db4875e5",
   "metadata": {},
   "source": [
    "It is seen in the pie chart above that each cluster has a similar percentage of customers. This can often occur when using the KMeans algorithm which tends to make clusters of similar sizes. Different clustering algorithms could be used like DBSCAN to investigate other cluster groupings. However, beacuse we have scored the customers using RFM, a large number of clusters will simply result in a cluster for each possible RFM score combination."
   ]
  },
  {
   "cell_type": "markdown",
   "id": "fa2e0168",
   "metadata": {},
   "source": [
    "This workflow should be performed regularly in collaboration with the marketing team. This will allow for regular updates to the groups in which a customer is clustered based on changes in transaction behaviour. A system to track changes in customer transaction behaviour could also be implemented to evaluate the effective of the implemented targeted marketing strategies."
   ]
  }
 ],
 "metadata": {
  "kernelspec": {
   "display_name": "Python 3 (ipykernel)",
   "language": "python",
   "name": "python3"
  },
  "language_info": {
   "codemirror_mode": {
    "name": "ipython",
    "version": 3
   },
   "file_extension": ".py",
   "mimetype": "text/x-python",
   "name": "python",
   "nbconvert_exporter": "python",
   "pygments_lexer": "ipython3",
   "version": "3.11.5"
  }
 },
 "nbformat": 4,
 "nbformat_minor": 5
}
